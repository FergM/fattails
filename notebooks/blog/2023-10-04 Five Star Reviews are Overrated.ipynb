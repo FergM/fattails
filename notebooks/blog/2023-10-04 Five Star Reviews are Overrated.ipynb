{
 "cells": [
  {
   "cell_type": "markdown",
   "id": "2602f997-27f5-44a3-9a57-b3eb3b847e00",
   "metadata": {},
   "source": [
    "# About\n",
    "Implementation of the 5-Star Ratings Problem"
   ]
  },
  {
   "cell_type": "code",
   "execution_count": 2,
   "id": "e1de3770-b457-4fae-a43b-932914ed6e9c",
   "metadata": {
    "tags": []
   },
   "outputs": [],
   "source": [
    "import numpy as np"
   ]
  },
  {
   "cell_type": "markdown",
   "id": "adab84d7-f760-4ea3-beeb-209907fd2f82",
   "metadata": {},
   "source": [
    "Functions:"
   ]
  },
  {
   "cell_type": "code",
   "execution_count": 8,
   "id": "cfa89323-6cfe-4643-8832-4e22cd7cd7b0",
   "metadata": {
    "tags": []
   },
   "outputs": [],
   "source": [
    "def f(x):\n",
    "    return 2 * x\n",
    "\n",
    "def is_possible_scenario(x):\n",
    "    \n",
    "    # Placeholder response\n",
    "    possible_flags = (x > 0.5).astype(int)\n",
    "    \n",
    "    return possible_flags "
   ]
  },
  {
   "cell_type": "code",
   "execution_count": null,
   "id": "245820b3-b34b-43df-942f-1f6a55874bf5",
   "metadata": {},
   "outputs": [],
   "source": [
    "# Define the function g which returns 1 if the element is greater than 0.5, else 0\n",
    "def g(x):\n",
    "    return (x > 0.5).astype(int)\n",
    "\n",
    "# Apply f to A\n",
    "B = f(A)\n",
    "\n",
    "# Apply g to A\n",
    "C = g(A)\n",
    "\n",
    "# Element-wise multiplication of B and C\n",
    "D = B * C\n",
    "\n",
    "# Sum of the elements of D\n",
    "sum_D = np.sum(D)\n",
    "print(\"Sum of the elements in D:\", sum_D)"
   ]
  },
  {
   "cell_type": "markdown",
   "id": "98d17fd2-6c2d-4482-937d-1d1690f6c604",
   "metadata": {},
   "source": [
    "# MAIN"
   ]
  },
  {
   "cell_type": "markdown",
   "id": "87c569da-16eb-4f23-a87a-21122c9016e8",
   "metadata": {},
   "source": [
    "Settings:"
   ]
  },
  {
   "cell_type": "code",
   "execution_count": 70,
   "id": "6b6f193b-af60-42e1-be48-12e75483793d",
   "metadata": {
    "tags": []
   },
   "outputs": [],
   "source": [
    "average_rating = 4.8\n",
    "\n",
    "n_trials = 5\n",
    "\n",
    "dimensions = 2  # **\n",
    "# **Come back and think about whether it is ok to call this \"dimensions\".\n",
    "#   If you know n-1 faces you know the final face too...\n",
    "#   But for this method it is more intuitive to give one dimension per face anyways"
   ]
  },
  {
   "cell_type": "markdown",
   "id": "843e94b0-0127-4a13-a31a-e7171c088b1b",
   "metadata": {},
   "source": [
    "Derived variables:"
   ]
  },
  {
   "cell_type": "code",
   "execution_count": 71,
   "id": "864c1395-1189-4473-802e-6ea7ad011544",
   "metadata": {
    "tags": []
   },
   "outputs": [
    {
     "name": "stdout",
     "output_type": "stream",
     "text": [
      "Array Shape:\n",
      " [12, 12, 12, 12, 12]\n"
     ]
    }
   ],
   "source": [
    "array_shape = [n_trials for _ in range(dimensions)]\n",
    "print(\"Array Shape:\\n\", shape)"
   ]
  },
  {
   "cell_type": "code",
   "execution_count": 72,
   "id": "2fbbdbca-d569-40e9-b0c1-1c71220760b6",
   "metadata": {
    "tags": []
   },
   "outputs": [
    {
     "data": {
      "text/plain": [
       "array([1, 2, 3, 4, 5])"
      ]
     },
     "execution_count": 72,
     "metadata": {},
     "output_type": "execute_result"
    }
   ],
   "source": [
    "# Array with one-based-indexing\n",
    "index_array = np.arange(n_trials) + 1\n",
    "index_array"
   ]
  },
  {
   "cell_type": "markdown",
   "id": "e5d7aed4-4401-456f-9cad-34238e19d8cf",
   "metadata": {},
   "source": [
    "### Starting Matrices:"
   ]
  },
  {
   "cell_type": "markdown",
   "id": "0333bb9b-5dd7-4857-b289-5315a284307a",
   "metadata": {
    "tags": []
   },
   "source": [
    "Index position matrix:\n",
    "* Looks like using `np.indices` is the trick here\n",
    "* Can I make this by matrix multiplication?\n",
    "* Is this needed?\n",
    "    * Think about whether we need this matrix or can \"skip it\" and use maybe a placeholder with the required shape"
   ]
  },
  {
   "cell_type": "code",
   "execution_count": 90,
   "id": "94b3912e-d278-410a-b9c6-ebbfbc921005",
   "metadata": {
    "tags": []
   },
   "outputs": [
    {
     "name": "stdout",
     "output_type": "stream",
     "text": [
      "[[0 1 2 3 4]\n",
      " [1 2 3 4 5]\n",
      " [2 3 4 5 6]\n",
      " [3 4 5 6 7]\n",
      " [4 5 6 7 8]]\n",
      "Shape of the array: (5, 5)\n"
     ]
    }
   ],
   "source": [
    "import numpy as np\n",
    "\n",
    "def create_ndim_array(num_dims, size_per_dim):\n",
    "    \"\"\"\n",
    "    Create an N-dimensional NumPy array where each element is the sum of its indices.\n",
    "\n",
    "    :param num_dims: Number of dimensions of the array\n",
    "    :param size_per_dim: Size of each dimension\n",
    "    :return: N-dimensional array with each element being the sum of its indices\n",
    "    \"\"\"\n",
    "    # Generate arrays of indices for each dimension\n",
    "    indices = np.indices((size_per_dim,) * num_dims)\n",
    "    \n",
    "    # Sum along the first axis to sum across all dimensions\n",
    "    array_sum = indices.sum(axis=0)\n",
    "    return array_sum\n",
    "\n",
    "# Example usage\n",
    "num_dims = 2  # Number of dimensions\n",
    "size_per_dim = 5  # Size of each dimension\n",
    "\n",
    "ndim_array = create_ndim_array(num_dims, size_per_dim)\n",
    "print(ndim_array)\n",
    "print(\"Shape of the array:\", ndim_array.shape)\n"
   ]
  },
  {
   "cell_type": "markdown",
   "id": "03a80d59-12c1-4bf2-9597-54e8610fd458",
   "metadata": {
    "tags": []
   },
   "source": [
    "Roughwork to understand:"
   ]
  },
  {
   "cell_type": "code",
   "execution_count": 99,
   "id": "77240766-11ee-4fe5-94a2-a06de55baacd",
   "metadata": {
    "tags": []
   },
   "outputs": [
    {
     "data": {
      "text/plain": [
       "array([[[0, 0, 0, 0, 0],\n",
       "        [1, 1, 1, 1, 1],\n",
       "        [2, 2, 2, 2, 2],\n",
       "        [3, 3, 3, 3, 3],\n",
       "        [4, 4, 4, 4, 4]],\n",
       "\n",
       "       [[0, 1, 2, 3, 4],\n",
       "        [0, 1, 2, 3, 4],\n",
       "        [0, 1, 2, 3, 4],\n",
       "        [0, 1, 2, 3, 4],\n",
       "        [0, 1, 2, 3, 4]]])"
      ]
     },
     "execution_count": 99,
     "metadata": {},
     "output_type": "execute_result"
    }
   ],
   "source": [
    "indices = np.indices((5,) * 2)  # (n_trials,) * n_dimensions\n",
    "indices"
   ]
  },
  {
   "cell_type": "code",
   "execution_count": null,
   "id": "f96034fd-18ba-4132-9472-1eff55305db3",
   "metadata": {},
   "outputs": [],
   "source": [
    "indices.sum(axis=1)"
   ]
  },
  {
   "cell_type": "code",
   "execution_count": 101,
   "id": "ccf69dba-6330-49b4-b6a6-117bfc0befd6",
   "metadata": {
    "tags": []
   },
   "outputs": [
    {
     "data": {
      "text/plain": [
       "array([[10, 10, 10, 10, 10],\n",
       "       [ 0,  5, 10, 15, 20]])"
      ]
     },
     "execution_count": 101,
     "metadata": {},
     "output_type": "execute_result"
    }
   ],
   "source": [
    "indices.sum(axis=0)"
   ]
  },
  {
   "cell_type": "markdown",
   "id": "ed46dfc9-f6ee-4b30-96a3-93acaa50f80a",
   "metadata": {},
   "source": [
    "Feasible outcome matrix \n",
    "* A boolean matrix\n",
    "* True if sum of indices = `n_trials`"
   ]
  },
  {
   "cell_type": "markdown",
   "id": "161dcc3a-77d2-4b14-b49a-14d3efb3bd17",
   "metadata": {},
   "source": [
    "### Matrix Operations "
   ]
  },
  {
   "cell_type": "code",
   "execution_count": null,
   "id": "a91f3633-87b5-4b96-b242-f3f9b0ed4d77",
   "metadata": {},
   "outputs": [],
   "source": []
  }
 ],
 "metadata": {
  "kernelspec": {
   "display_name": "Python (myenv)",
   "language": "python",
   "name": "env"
  },
  "language_info": {
   "codemirror_mode": {
    "name": "ipython",
    "version": 3
   },
   "file_extension": ".py",
   "mimetype": "text/x-python",
   "name": "python",
   "nbconvert_exporter": "python",
   "pygments_lexer": "ipython3",
   "version": "3.9.2"
  }
 },
 "nbformat": 4,
 "nbformat_minor": 5
}
