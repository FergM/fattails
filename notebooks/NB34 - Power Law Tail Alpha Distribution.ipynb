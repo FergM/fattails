{
 "cells": [
  {
   "cell_type": "code",
   "execution_count": 1,
   "metadata": {},
   "outputs": [],
   "source": [
    "import matplotlib.pyplot as plt\n",
    "import numpy as np\n",
    "import pandas as pd"
   ]
  },
  {
   "cell_type": "markdown",
   "metadata": {},
   "source": [
    "# Power Law Mean estimation. \n",
    "Analysis sample estimates for the average of a power law distribution. \n",
    "\n",
    "Mean Estimation Methods:\n",
    "1. Naive Sample Mean\n",
    "2. Plug-in Estimation\n",
    "    * i.e. estimate the tail alpha first and use that to estimate the sample mean.\n",
    "\n",
    "### Context\n",
    "For background info see the Technical Incerto chapter called *Calibrating Under Paretianity*.\n",
    "\n",
    "I use the Numpy package's Pareto Distribution:\n",
    "* [Numpy Documentation](https://numpy.org/doc/stable/reference/random/generated/numpy.random.Generator.pareto.html#numpy.random.Generator.pareto)\n",
    "* [Wikipedia](https://en.wikipedia.org/wiki/Pareto_distribution)\n",
    "* Properties\n",
    "    * pdf = alpha*x^(-alpha-1)\n",
    "    * CDF = 1 - x^-alpha\n",
    "    * Survival Function = x^-alpha\n",
    "    * Mean = alpha/(alpha-1)"
   ]
  },
  {
   "cell_type": "markdown",
   "metadata": {},
   "source": [
    "### Generate Samples"
   ]
  },
  {
   "cell_type": "code",
   "execution_count": 2,
   "metadata": {},
   "outputs": [],
   "source": [
    "# Settings\n",
    "alpha = 1.2\n",
    "\n",
    "n = summand_count = 100\n",
    "\n",
    "sample_size = 100_000"
   ]
  },
  {
   "cell_type": "code",
   "execution_count": 3,
   "metadata": {},
   "outputs": [],
   "source": [
    "# Random number generator\n",
    "rng = np.random.default_rng()"
   ]
  },
  {
   "cell_type": "code",
   "execution_count": 4,
   "metadata": {
    "scrolled": true
   },
   "outputs": [
    {
     "data": {
      "text/plain": [
       "array([ 1.7167091 , 12.18322206, 24.49672187])"
      ]
     },
     "execution_count": 4,
     "metadata": {},
     "output_type": "execute_result"
    }
   ],
   "source": [
    "# Samples\n",
    "# ToDo: Explain why there's a +1 term here...\n",
    "samples = [rng.pareto(alpha, summand_count)+1 for idx in range(sample_size)]\n",
    "samples[0][0:3]"
   ]
  },
  {
   "cell_type": "markdown",
   "metadata": {},
   "source": [
    "# Mean Estimates"
   ]
  },
  {
   "cell_type": "code",
   "execution_count": 5,
   "metadata": {},
   "outputs": [
    {
     "data": {
      "text/plain": [
       "6.000000000000001"
      ]
     },
     "execution_count": 5,
     "metadata": {},
     "output_type": "execute_result"
    }
   ],
   "source": [
    "# True Mean\n",
    "true_mean = alpha/(alpha-1)\n",
    "true_mean"
   ]
  },
  {
   "cell_type": "code",
   "execution_count": 6,
   "metadata": {},
   "outputs": [
    {
     "data": {
      "text/plain": [
       "[3.187619201324938, 3.5494419627683356, 3.9985267939263514]"
      ]
     },
     "execution_count": 6,
     "metadata": {},
     "output_type": "execute_result"
    }
   ],
   "source": [
    "# Sample Mean Values\n",
    "sample_means = [sample.mean() for sample in samples]\n",
    "sample_means[:3]"
   ]
  },
  {
   "cell_type": "code",
   "execution_count": 7,
   "metadata": {},
   "outputs": [
    {
     "data": {
      "text/plain": [
       "[1.2698397384545341, 1.3229661620647646, 1.1454930899076776]"
      ]
     },
     "execution_count": 7,
     "metadata": {},
     "output_type": "execute_result"
    }
   ],
   "source": [
    "# MLE Alpha Values\n",
    "mle_alphas = [(summand_count-1)/(np.log(sample).sum()) for sample in samples]\n",
    "mle_alphas[:3]"
   ]
  },
  {
   "cell_type": "code",
   "execution_count": 8,
   "metadata": {},
   "outputs": [
    {
     "data": {
      "text/plain": [
       "[4.705903384458298, 4.09629960490867, 7.873178654976317]"
      ]
     },
     "execution_count": 8,
     "metadata": {},
     "output_type": "execute_result"
    }
   ],
   "source": [
    "# MLE Mean Estimates\n",
    "alpha_implied_mean = lambda alpha: (alpha/(alpha-1))\n",
    "mle_means = [alpha_implied_mean(alpha) for alpha in mle_alphas]\n",
    "mle_means[:3]"
   ]
  },
  {
   "cell_type": "markdown",
   "metadata": {},
   "source": [
    "# Mean Distribution\n",
    "Plot the distribution of sample mean estimates."
   ]
  },
  {
   "cell_type": "markdown",
   "metadata": {},
   "source": [
    "Put all the data in one table:"
   ]
  },
  {
   "cell_type": "code",
   "execution_count": 9,
   "metadata": {},
   "outputs": [
    {
     "data": {
      "text/html": [
       "<div>\n",
       "<style scoped>\n",
       "    .dataframe tbody tr th:only-of-type {\n",
       "        vertical-align: middle;\n",
       "    }\n",
       "\n",
       "    .dataframe tbody tr th {\n",
       "        vertical-align: top;\n",
       "    }\n",
       "\n",
       "    .dataframe thead th {\n",
       "        text-align: right;\n",
       "    }\n",
       "</style>\n",
       "<table border=\"1\" class=\"dataframe\">\n",
       "  <thead>\n",
       "    <tr style=\"text-align: right;\">\n",
       "      <th></th>\n",
       "      <th>mle_alpha</th>\n",
       "      <th>mle_mean</th>\n",
       "      <th>sample_mean</th>\n",
       "    </tr>\n",
       "  </thead>\n",
       "  <tbody>\n",
       "    <tr>\n",
       "      <th>99995</th>\n",
       "      <td>1.092647</td>\n",
       "      <td>11.793694</td>\n",
       "      <td>4.719272</td>\n",
       "    </tr>\n",
       "    <tr>\n",
       "      <th>99996</th>\n",
       "      <td>1.139262</td>\n",
       "      <td>8.180712</td>\n",
       "      <td>4.648184</td>\n",
       "    </tr>\n",
       "    <tr>\n",
       "      <th>99997</th>\n",
       "      <td>1.254232</td>\n",
       "      <td>4.933414</td>\n",
       "      <td>3.046922</td>\n",
       "    </tr>\n",
       "    <tr>\n",
       "      <th>99998</th>\n",
       "      <td>1.498147</td>\n",
       "      <td>3.007438</td>\n",
       "      <td>3.034251</td>\n",
       "    </tr>\n",
       "    <tr>\n",
       "      <th>99999</th>\n",
       "      <td>0.965162</td>\n",
       "      <td>-27.703994</td>\n",
       "      <td>4.830509</td>\n",
       "    </tr>\n",
       "  </tbody>\n",
       "</table>\n",
       "</div>"
      ],
      "text/plain": [
       "       mle_alpha   mle_mean  sample_mean\n",
       "99995   1.092647  11.793694     4.719272\n",
       "99996   1.139262   8.180712     4.648184\n",
       "99997   1.254232   4.933414     3.046922\n",
       "99998   1.498147   3.007438     3.034251\n",
       "99999   0.965162 -27.703994     4.830509"
      ]
     },
     "execution_count": 9,
     "metadata": {},
     "output_type": "execute_result"
    }
   ],
   "source": [
    "# Put data in a DataFrame\n",
    "sample_means = pd.Series(sample_means)\n",
    "mle_alphas = pd.Series(mle_alphas)\n",
    "mle_means = pd.Series(mle_means)\n",
    "df = pd.concat([mle_alphas, mle_means, sample_means], keys=['mle_alpha', 'mle_mean', 'sample_mean'], axis=1)\n",
    "df.tail()"
   ]
  },
  {
   "cell_type": "markdown",
   "metadata": {},
   "source": [
    "Express truncation conditions:"
   ]
  },
  {
   "cell_type": "code",
   "execution_count": 10,
   "metadata": {},
   "outputs": [],
   "source": [
    "# Filter Conditions\n",
    "\n",
    "# Only count alpha>1 cases for mle method\n",
    "alpha_condition = df.mle_alpha > 1 # Truncate to remove alpha estimates less than one.\n",
    "\n",
    "# Truncate the range histograms calculate faster\n",
    "mle_xlim_condition = df.mle_mean < 20  \n",
    "sample_xlim_condition = df.sample_mean < 20  "
   ]
  },
  {
   "cell_type": "markdown",
   "metadata": {},
   "source": [
    "Plot the distribution of mean estimates:"
   ]
  },
  {
   "cell_type": "code",
   "execution_count": 11,
   "metadata": {},
   "outputs": [
    {
     "data": {
      "image/png": "[encoded data removed]",
      "text/plain": [
       "<Figure size 432x288 with 1 Axes>"
      ]
     },
     "metadata": {
      "needs_background": "light"
     },
     "output_type": "display_data"
    }
   ],
   "source": [
    "# Mean Estimation Method Comparison\n",
    "\n",
    "# Mean extimated from MLE Alpha estimate\n",
    "ax = df.mle_mean.loc[alpha_condition & mle_xlim_condition] \\\n",
    "       .plot(kind='hist', bins=200, xlim=[0, 20], alpha=0.5, \\\n",
    "             density=True, \\\n",
    "             title='Distribution of Mean Estimates');  # The alpha=0.5 parameter is just a matplotlib thing for plot shading\n",
    "\n",
    "# Naive Sample Mean\n",
    "df.sample_mean.loc[sample_xlim_condition] \\\n",
    "  .plot(kind='hist', bins=200, xlim=[0, 20], alpha=0.5, \\\n",
    "        density=True, \\\n",
    "        title='Distribution of Mean Estimates');\n",
    "\n",
    "# True Mean\n",
    "ax.axvline(true_mean, linewidth=1, color='k', label='True Mean');\n",
    "plt.xlabel('Mean Estimate')\n",
    "plt.ylabel('Relative Frequency')\n",
    "plt.legend();"
   ]
  },
  {
   "cell_type": "markdown",
   "metadata": {},
   "source": [
    "# Extra Stuff\n",
    "Further exploration beyond what's in Incerto appendix C."
   ]
  },
  {
   "cell_type": "markdown",
   "metadata": {},
   "source": [
    "### Min Max Summary"
   ]
  },
  {
   "cell_type": "code",
   "execution_count": 12,
   "metadata": {},
   "outputs": [
    {
     "data": {
      "text/html": [
       "<div>\n",
       "<style scoped>\n",
       "    .dataframe tbody tr th:only-of-type {\n",
       "        vertical-align: middle;\n",
       "    }\n",
       "\n",
       "    .dataframe tbody tr th {\n",
       "        vertical-align: top;\n",
       "    }\n",
       "\n",
       "    .dataframe thead th {\n",
       "        text-align: right;\n",
       "    }\n",
       "</style>\n",
       "<table border=\"1\" class=\"dataframe\">\n",
       "  <thead>\n",
       "    <tr style=\"text-align: right;\">\n",
       "      <th></th>\n",
       "      <th>mle_alpha</th>\n",
       "      <th>mle_mean</th>\n",
       "      <th>sample_mean</th>\n",
       "    </tr>\n",
       "  </thead>\n",
       "  <tbody>\n",
       "    <tr>\n",
       "      <th>min</th>\n",
       "      <td>0.80</td>\n",
       "      <td>-32919.28</td>\n",
       "      <td>1.76</td>\n",
       "    </tr>\n",
       "    <tr>\n",
       "      <th>max</th>\n",
       "      <td>2.23</td>\n",
       "      <td>40254.38</td>\n",
       "      <td>3809.26</td>\n",
       "    </tr>\n",
       "  </tbody>\n",
       "</table>\n",
       "</div>"
      ],
      "text/plain": [
       "     mle_alpha  mle_mean  sample_mean\n",
       "min       0.80 -32919.28         1.76\n",
       "max       2.23  40254.38      3809.26"
      ]
     },
     "execution_count": 12,
     "metadata": {},
     "output_type": "execute_result"
    }
   ],
   "source": [
    "# Without Truncation\n",
    "df.agg(['min', 'max']).round(2)"
   ]
  },
  {
   "cell_type": "code",
   "execution_count": 13,
   "metadata": {},
   "outputs": [
    {
     "data": {
      "text/html": [
       "<div>\n",
       "<style scoped>\n",
       "    .dataframe tbody tr th:only-of-type {\n",
       "        vertical-align: middle;\n",
       "    }\n",
       "\n",
       "    .dataframe tbody tr th {\n",
       "        vertical-align: top;\n",
       "    }\n",
       "\n",
       "    .dataframe thead th {\n",
       "        text-align: right;\n",
       "    }\n",
       "</style>\n",
       "<table border=\"1\" class=\"dataframe\">\n",
       "  <thead>\n",
       "    <tr style=\"text-align: right;\">\n",
       "      <th></th>\n",
       "      <th>mle_mean</th>\n",
       "    </tr>\n",
       "  </thead>\n",
       "  <tbody>\n",
       "    <tr>\n",
       "      <th>min</th>\n",
       "      <td>1.81</td>\n",
       "    </tr>\n",
       "    <tr>\n",
       "      <th>max</th>\n",
       "      <td>20.00</td>\n",
       "    </tr>\n",
       "  </tbody>\n",
       "</table>\n",
       "</div>"
      ],
      "text/plain": [
       "     mle_mean\n",
       "min      1.81\n",
       "max     20.00"
      ]
     },
     "execution_count": 13,
     "metadata": {},
     "output_type": "execute_result"
    }
   ],
   "source": [
    "# MLE Truncated\n",
    "df.mle_mean.loc[alpha_condition & mle_xlim_condition] \\\n",
    "  .agg(['min', 'max']).round(2).to_frame()"
   ]
  },
  {
   "cell_type": "code",
   "execution_count": 14,
   "metadata": {},
   "outputs": [
    {
     "data": {
      "text/html": [
       "<div>\n",
       "<style scoped>\n",
       "    .dataframe tbody tr th:only-of-type {\n",
       "        vertical-align: middle;\n",
       "    }\n",
       "\n",
       "    .dataframe tbody tr th {\n",
       "        vertical-align: top;\n",
       "    }\n",
       "\n",
       "    .dataframe thead th {\n",
       "        text-align: right;\n",
       "    }\n",
       "</style>\n",
       "<table border=\"1\" class=\"dataframe\">\n",
       "  <thead>\n",
       "    <tr style=\"text-align: right;\">\n",
       "      <th></th>\n",
       "      <th>sample_mean</th>\n",
       "    </tr>\n",
       "  </thead>\n",
       "  <tbody>\n",
       "    <tr>\n",
       "      <th>min</th>\n",
       "      <td>1.76</td>\n",
       "    </tr>\n",
       "    <tr>\n",
       "      <th>max</th>\n",
       "      <td>19.96</td>\n",
       "    </tr>\n",
       "  </tbody>\n",
       "</table>\n",
       "</div>"
      ],
      "text/plain": [
       "     sample_mean\n",
       "min         1.76\n",
       "max        19.96"
      ]
     },
     "execution_count": 14,
     "metadata": {},
     "output_type": "execute_result"
    }
   ],
   "source": [
    "# Sample Mean Truncated\n",
    "df.sample_mean.loc[sample_xlim_condition] \\\n",
    "  .agg(['min', 'max']).round(2).to_frame()"
   ]
  },
  {
   "cell_type": "markdown",
   "metadata": {},
   "source": [
    "### Alpha Distribution"
   ]
  },
  {
   "cell_type": "markdown",
   "metadata": {},
   "source": [
    "Look at things in Alpha space:"
   ]
  },
  {
   "cell_type": "code",
   "execution_count": 15,
   "metadata": {},
   "outputs": [],
   "source": [
    "# Convert sample means to implied alphas\n",
    "mean_implied_alpha = lambda mean: (mean/(mean-1))\n",
    "\n",
    "df['sample_mean_alpha'] = df.sample_mean.apply(mean_implied_alpha)"
   ]
  },
  {
   "cell_type": "code",
   "execution_count": 16,
   "metadata": {},
   "outputs": [
    {
     "data": {
      "image/png": "[encoded data removed]",
      "text/plain": [
       "<Figure size 432x288 with 1 Axes>"
      ]
     },
     "metadata": {
      "needs_background": "light"
     },
     "output_type": "display_data"
    }
   ],
   "source": [
    "ax = df.filter(like='alpha') \\\n",
    "  .plot(kind='hist', bins=200, xlim=[0, 2], alpha=0.5, \\\n",
    "        title='Distribution of Alpha Estimates');\n",
    "\n",
    "ax.axvline(alpha, linewidth=1, color='k', label='True Alpha' );\n",
    "plt.legend();"
   ]
  },
  {
   "cell_type": "markdown",
   "metadata": {},
   "source": [
    "### Alpha-Mean Relationship"
   ]
  },
  {
   "cell_type": "code",
   "execution_count": 17,
   "metadata": {},
   "outputs": [],
   "source": [
    "get_mean = lambda alpha: (alpha/(alpha-1))\n",
    "get_alpha = lambda mean: (mean/(mean-1))"
   ]
  },
  {
   "cell_type": "code",
   "execution_count": 18,
   "metadata": {},
   "outputs": [],
   "source": [
    "alpha_range = np.linspace(1.01, 2)\n",
    "mean_range = np.linspace(1.1, 7)"
   ]
  },
  {
   "cell_type": "code",
   "execution_count": 19,
   "metadata": {},
   "outputs": [
    {
     "data": {
      "image/png": "[encoded data removed]",
      "text/plain": [
       "<Figure size 432x288 with 1 Axes>"
      ]
     },
     "metadata": {
      "needs_background": "light"
     },
     "output_type": "display_data"
    }
   ],
   "source": [
    "# Tail Alpha vs. Mean \n",
    "plt.plot(alpha_range, get_mean(alpha_range))\n",
    "plt.xlabel('Tail Alpha')\n",
    "plt.ylabel('Mean')\n",
    "plt.title('Mean as a function of Tail Alpha')\n",
    "plt.show()"
   ]
  },
  {
   "cell_type": "code",
   "execution_count": 20,
   "metadata": {},
   "outputs": [
    {
     "data": {
      "image/png": "[encoded data removed]",
      "text/plain": [
       "<Figure size 432x288 with 1 Axes>"
      ]
     },
     "metadata": {
      "needs_background": "light"
     },
     "output_type": "display_data"
    }
   ],
   "source": [
    "# Mean vs. Tail Alpha \n",
    "plt.plot(mean_range, get_alpha(mean_range))\n",
    "plt.xlabel('Mean')\n",
    "plt.ylabel('Tail Alpha')\n",
    "plt.title('Tail Alpha as a function of Mean')\n",
    "plt.show()"
   ]
  },
  {
   "cell_type": "markdown",
   "metadata": {},
   "source": [
    "### More Plots"
   ]
  },
  {
   "cell_type": "code",
   "execution_count": 21,
   "metadata": {},
   "outputs": [],
   "source": [
    "## Plot the Sample Mean Distribution on its own\n",
    "#df.loc[sample_xlim_condition].sample_mean \\\n",
    "#  .plot(kind='hist', bins=200, xlim=[0, 20], \\\n",
    "#        title='Distribution of Sample Mean Estimates');"
   ]
  },
  {
   "cell_type": "code",
   "execution_count": 22,
   "metadata": {},
   "outputs": [],
   "source": [
    "## Plot the MLE Distribution on its own\n",
    "#df.loc[alpha_condition & mle_mean_condition].mle_mean \\\n",
    "#  .plot(kind='hist', bins=200, xlim=[0, 20], \\\n",
    "#        title='Distribution of MLE Mean Estimates');"
   ]
  }
 ],
 "metadata": {
  "kernelspec": {
   "display_name": "fattails",
   "language": "python",
   "name": "fattails"
  },
  "language_info": {
   "codemirror_mode": {
    "name": "ipython",
    "version": 3
   },
   "file_extension": ".py",
   "mimetype": "text/x-python",
   "name": "python",
   "nbconvert_exporter": "python",
   "pygments_lexer": "ipython3",
   "version": "3.8.5"
  }
 },
 "nbformat": 4,
 "nbformat_minor": 4
}
