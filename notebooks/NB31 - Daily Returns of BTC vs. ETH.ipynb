{
 "cells": [
  {
   "cell_type": "markdown",
   "metadata": {},
   "source": [
    "# About\n",
    "Roughwork code for comparing BTC and ETH returns."
   ]
  },
  {
   "cell_type": "code",
   "execution_count": 1,
   "metadata": {},
   "outputs": [],
   "source": [
    "import matplotlib.pyplot as plt\n",
    "import numpy as np\n",
    "import pandas as pd\n",
    "\n",
    "import fattails.metrics as fattails"
   ]
  },
  {
   "cell_type": "markdown",
   "metadata": {},
   "source": [
    "Datasource:\n",
    "* BTC: https://finance.yahoo.com/quote/BTC-USD/history/\n",
    "* ETH: https://finance.yahoo.com/quote/ETH-USD/history/"
   ]
  },
  {
   "cell_type": "code",
   "execution_count": 2,
   "metadata": {},
   "outputs": [],
   "source": [
    "btc_filepath = '../data/crypto/BTC-USD.csv'\n",
    "eth_filepath = '../data/crypto/ETH-USD.csv'"
   ]
  },
  {
   "cell_type": "markdown",
   "metadata": {},
   "source": [
    "# Setup"
   ]
  },
  {
   "cell_type": "code",
   "execution_count": 3,
   "metadata": {},
   "outputs": [],
   "source": [
    "def prices_to_returns(prices):\n",
    "    \"\"\" Convert price data into percentage return data.\n",
    "\n",
    "    Each data entry is replaced by it's percentage change \n",
    "    vs. the entry before it.\n",
    "    \n",
    "    Parameters\n",
    "    ----------\n",
    "    sr : pd.Series\n",
    "        Price data.\n",
    "\n",
    "    Returns\n",
    "    -------\n",
    "    returns : pd.Series\n",
    "        Percentage return data.\n",
    "        \n",
    "    Example\n",
    "    -------\n",
    "    >>> # Initialise a price series\n",
    "    >>> prices = pd.Series([100, 101, 100, 125])\n",
    "    0    100\n",
    "    1    101\n",
    "    2    100\n",
    "    3    125\n",
    "    dtype: int64\n",
    "    >>> # Convert Prices to Returns\n",
    "    >>> convert_prices_to_returns(prices)\n",
    "    1    0.010000\n",
    "    2   -0.009901\n",
    "    3    0.250000\n",
    "    dtype: float64\n",
    "    \"\"\"\n",
    "    # Caluculate Returns\n",
    "    previous_prices = prices.shift(1)\n",
    "    returns = prices / previous_prices - 1\n",
    "    \n",
    "    # Remove First Period\n",
    "    returns = returns.iloc[1:]  # The first entry has no prior day so return is NaN\n",
    "        \n",
    "    return returns"
   ]
  },
  {
   "cell_type": "code",
   "execution_count": 4,
   "metadata": {},
   "outputs": [
    {
     "data": {
      "text/plain": [
       "1    0.010000\n",
       "2   -0.009901\n",
       "3    0.250000\n",
       "dtype: float64"
      ]
     },
     "execution_count": 4,
     "metadata": {},
     "output_type": "execute_result"
    }
   ],
   "source": [
    "prices = pd.Series([100, 101, 100, 125])\n",
    "\n",
    "prices_to_returns(prices)"
   ]
  },
  {
   "cell_type": "markdown",
   "metadata": {},
   "source": [
    "##### Load Data"
   ]
  },
  {
   "cell_type": "code",
   "execution_count": 5,
   "metadata": {},
   "outputs": [
    {
     "data": {
      "text/plain": [
       "Date\n",
       "2014-09-17      457.334015\n",
       "2014-09-18      424.440002\n",
       "2014-09-19      394.795990\n",
       "2014-09-20      408.903992\n",
       "2014-09-21      398.821014\n",
       "                  ...     \n",
       "2021-04-19    55724.265625\n",
       "2021-04-20    56473.031250\n",
       "2021-04-21    53906.089844\n",
       "2021-04-22    51762.273438\n",
       "2021-04-23    49192.179688\n",
       "Name: prices, Length: 2411, dtype: float64"
      ]
     },
     "metadata": {},
     "output_type": "display_data"
    },
    {
     "data": {
      "text/plain": [
       "Date\n",
       "2015-08-07       2.772120\n",
       "2015-08-08       0.753325\n",
       "2015-08-09       0.701897\n",
       "2015-08-10       0.708448\n",
       "2015-08-11       1.067860\n",
       "                 ...     \n",
       "2021-04-19    2166.188721\n",
       "2021-04-20    2330.210938\n",
       "2021-04-21    2364.751709\n",
       "2021-04-22    2403.535156\n",
       "2021-04-23    2235.869873\n",
       "Name: prices, Length: 2087, dtype: float64"
      ]
     },
     "metadata": {},
     "output_type": "display_data"
    }
   ],
   "source": [
    "# Load Prices\n",
    "btc_prices = pd.read_csv(btc_filepath, index_col=0, parse_dates=[0])\n",
    "btc_prices = btc_prices.Close.rename('prices')\n",
    "display(btc_prices)\n",
    "\n",
    "eth_prices = pd.read_csv(eth_filepath, index_col=0, parse_dates=[0])\n",
    "eth_prices = eth_prices.Close.rename('prices')\n",
    "\n",
    "display(eth_prices)"
   ]
  },
  {
   "cell_type": "code",
   "execution_count": 6,
   "metadata": {},
   "outputs": [
    {
     "data": {
      "text/plain": [
       "Date\n",
       "2014-09-18         NaN\n",
       "2014-09-19         NaN\n",
       "2014-09-20         NaN\n",
       "2014-09-21         NaN\n",
       "2014-09-22         NaN\n",
       "                ...   \n",
       "2021-04-19   -0.020232\n",
       "2021-04-20    0.044578\n",
       "2021-04-21   -0.015316\n",
       "2021-04-22   -0.011684\n",
       "2021-04-23   -0.059705\n",
       "Name: prices, Length: 2410, dtype: float64"
      ]
     },
     "execution_count": 6,
     "metadata": {},
     "output_type": "execute_result"
    }
   ],
   "source": [
    "# Calculate Returns\n",
    "btc_returns = prices_to_returns(btc_prices)\n",
    "eth_returns = prices_to_returns(eth_prices)\n",
    "\n",
    "basket_returns = (btc_returns + eth_returns)/2  # Basket where you rebalance to 50:50 at end of each day.\n",
    "basket_returns"
   ]
  },
  {
   "cell_type": "code",
   "execution_count": 7,
   "metadata": {},
   "outputs": [
    {
     "data": {
      "text/html": [
       "<div>\n",
       "<style scoped>\n",
       "    .dataframe tbody tr th:only-of-type {\n",
       "        vertical-align: middle;\n",
       "    }\n",
       "\n",
       "    .dataframe tbody tr th {\n",
       "        vertical-align: top;\n",
       "    }\n",
       "\n",
       "    .dataframe thead th {\n",
       "        text-align: right;\n",
       "    }\n",
       "</style>\n",
       "<table border=\"1\" class=\"dataframe\">\n",
       "  <thead>\n",
       "    <tr style=\"text-align: right;\">\n",
       "      <th></th>\n",
       "      <th>btc_returns</th>\n",
       "      <th>eth_returns</th>\n",
       "      <th>mean_returns</th>\n",
       "    </tr>\n",
       "    <tr>\n",
       "      <th>Date</th>\n",
       "      <th></th>\n",
       "      <th></th>\n",
       "      <th></th>\n",
       "    </tr>\n",
       "  </thead>\n",
       "  <tbody>\n",
       "    <tr>\n",
       "      <th>2015-08-08</th>\n",
       "      <td>-0.066484</td>\n",
       "      <td>-0.728249</td>\n",
       "      <td>-0.397367</td>\n",
       "    </tr>\n",
       "    <tr>\n",
       "      <th>2015-08-09</th>\n",
       "      <td>0.015655</td>\n",
       "      <td>-0.068268</td>\n",
       "      <td>-0.026306</td>\n",
       "    </tr>\n",
       "    <tr>\n",
       "      <th>2015-08-10</th>\n",
       "      <td>-0.002313</td>\n",
       "      <td>0.009333</td>\n",
       "      <td>0.003510</td>\n",
       "    </tr>\n",
       "    <tr>\n",
       "      <th>2015-08-11</th>\n",
       "      <td>0.022369</td>\n",
       "      <td>0.507323</td>\n",
       "      <td>0.264846</td>\n",
       "    </tr>\n",
       "    <tr>\n",
       "      <th>2015-08-12</th>\n",
       "      <td>-0.014831</td>\n",
       "      <td>0.140075</td>\n",
       "      <td>0.062622</td>\n",
       "    </tr>\n",
       "  </tbody>\n",
       "</table>\n",
       "</div>"
      ],
      "text/plain": [
       "            btc_returns  eth_returns  mean_returns\n",
       "Date                                              \n",
       "2015-08-08    -0.066484    -0.728249     -0.397367\n",
       "2015-08-09     0.015655    -0.068268     -0.026306\n",
       "2015-08-10    -0.002313     0.009333      0.003510\n",
       "2015-08-11     0.022369     0.507323      0.264846\n",
       "2015-08-12    -0.014831     0.140075      0.062622"
      ]
     },
     "execution_count": 7,
     "metadata": {},
     "output_type": "execute_result"
    }
   ],
   "source": [
    "# Create DataFrame\n",
    "returns_df = pd.concat([btc_returns, eth_returns], \\\n",
    "                       keys=['btc_returns','eth_returns'], \\\n",
    "                       axis=1, join='inner')\n",
    "\n",
    "# Add Mean Return Column\n",
    "returns_df['mean_returns'] = returns_df.mean(axis=1)\n",
    "\n",
    "returns_df.head()"
   ]
  },
  {
   "cell_type": "markdown",
   "metadata": {},
   "source": [
    "### Missing Data Check"
   ]
  },
  {
   "cell_type": "code",
   "execution_count": 8,
   "metadata": {},
   "outputs": [
    {
     "data": {
      "text/html": [
       "<div>\n",
       "<style scoped>\n",
       "    .dataframe tbody tr th:only-of-type {\n",
       "        vertical-align: middle;\n",
       "    }\n",
       "\n",
       "    .dataframe tbody tr th {\n",
       "        vertical-align: top;\n",
       "    }\n",
       "\n",
       "    .dataframe thead th {\n",
       "        text-align: right;\n",
       "    }\n",
       "</style>\n",
       "<table border=\"1\" class=\"dataframe\">\n",
       "  <thead>\n",
       "    <tr style=\"text-align: right;\">\n",
       "      <th></th>\n",
       "      <th>btc_returns</th>\n",
       "      <th>eth_returns</th>\n",
       "      <th>mean_returns</th>\n",
       "    </tr>\n",
       "    <tr>\n",
       "      <th>Date</th>\n",
       "      <th></th>\n",
       "      <th></th>\n",
       "      <th></th>\n",
       "    </tr>\n",
       "  </thead>\n",
       "  <tbody>\n",
       "    <tr>\n",
       "      <th>2020-04-17</th>\n",
       "      <td>NaN</td>\n",
       "      <td>NaN</td>\n",
       "      <td>NaN</td>\n",
       "    </tr>\n",
       "    <tr>\n",
       "      <th>2020-04-18</th>\n",
       "      <td>NaN</td>\n",
       "      <td>NaN</td>\n",
       "      <td>NaN</td>\n",
       "    </tr>\n",
       "    <tr>\n",
       "      <th>2020-10-09</th>\n",
       "      <td>NaN</td>\n",
       "      <td>NaN</td>\n",
       "      <td>NaN</td>\n",
       "    </tr>\n",
       "    <tr>\n",
       "      <th>2020-10-10</th>\n",
       "      <td>NaN</td>\n",
       "      <td>NaN</td>\n",
       "      <td>NaN</td>\n",
       "    </tr>\n",
       "    <tr>\n",
       "      <th>2020-10-12</th>\n",
       "      <td>NaN</td>\n",
       "      <td>NaN</td>\n",
       "      <td>NaN</td>\n",
       "    </tr>\n",
       "    <tr>\n",
       "      <th>2020-10-13</th>\n",
       "      <td>NaN</td>\n",
       "      <td>NaN</td>\n",
       "      <td>NaN</td>\n",
       "    </tr>\n",
       "    <tr>\n",
       "      <th>2020-10-14</th>\n",
       "      <td>NaN</td>\n",
       "      <td>NaN</td>\n",
       "      <td>NaN</td>\n",
       "    </tr>\n",
       "  </tbody>\n",
       "</table>\n",
       "</div>"
      ],
      "text/plain": [
       "            btc_returns  eth_returns  mean_returns\n",
       "Date                                              \n",
       "2020-04-17          NaN          NaN           NaN\n",
       "2020-04-18          NaN          NaN           NaN\n",
       "2020-10-09          NaN          NaN           NaN\n",
       "2020-10-10          NaN          NaN           NaN\n",
       "2020-10-12          NaN          NaN           NaN\n",
       "2020-10-13          NaN          NaN           NaN\n",
       "2020-10-14          NaN          NaN           NaN"
      ]
     },
     "execution_count": 8,
     "metadata": {},
     "output_type": "execute_result"
    }
   ],
   "source": [
    "# NaN Values in Returns Data\n",
    "returns_df.loc[returns_df.isna().any(axis=1)]"
   ]
  },
  {
   "cell_type": "code",
   "execution_count": 9,
   "metadata": {},
   "outputs": [
    {
     "data": {
      "text/plain": [
       "Date\n",
       "2020-04-17           NaN\n",
       "2020-04-18    186.914001\n",
       "2020-10-09           NaN\n",
       "2020-10-10    370.967590\n",
       "2020-10-12           NaN\n",
       "2020-10-13           NaN\n",
       "2020-10-14    379.484039\n",
       "Name: prices, dtype: float64"
      ]
     },
     "execution_count": 9,
     "metadata": {},
     "output_type": "execute_result"
    }
   ],
   "source": [
    "# NaN Values in ETH Prices\n",
    "eth_prices.iloc[1:][returns_df.isna().any(axis=1)]"
   ]
  },
  {
   "cell_type": "code",
   "execution_count": 10,
   "metadata": {},
   "outputs": [
    {
     "data": {
      "text/plain": [
       "Date\n",
       "2020-04-17             NaN\n",
       "2020-04-18     7257.665039\n",
       "2020-10-09             NaN\n",
       "2020-10-10    11296.361328\n",
       "2020-10-12             NaN\n",
       "2020-10-13             NaN\n",
       "2020-10-14    11429.506836\n",
       "Name: prices, dtype: float64"
      ]
     },
     "execution_count": 10,
     "metadata": {},
     "output_type": "execute_result"
    }
   ],
   "source": [
    "# NaN Values in BTC Prices\n",
    "btc_prices.loc[returns_df.index][returns_df.isna().any(axis=1)]"
   ]
  },
  {
   "cell_type": "code",
   "execution_count": 11,
   "metadata": {},
   "outputs": [],
   "source": [
    "# Drop Nan Values from Returns\n",
    "returns_df.dropna(inplace=True)"
   ]
  },
  {
   "cell_type": "markdown",
   "metadata": {},
   "source": [
    "# Analyse"
   ]
  },
  {
   "cell_type": "markdown",
   "metadata": {},
   "source": [
    "### Simple Plot"
   ]
  },
  {
   "cell_type": "code",
   "execution_count": 12,
   "metadata": {},
   "outputs": [
    {
     "data": {
      "text/plain": [
       "btc_returns     0.252472\n",
       "eth_returns     0.507323\n",
       "mean_returns    0.264846\n",
       "dtype: float64"
      ]
     },
     "execution_count": 12,
     "metadata": {},
     "output_type": "execute_result"
    }
   ],
   "source": [
    "returns_df.max()"
   ]
  },
  {
   "cell_type": "code",
   "execution_count": 13,
   "metadata": {},
   "outputs": [
    {
     "data": {
      "image/png": "[encoded data removed]",
      "text/plain": [
       "<Figure size 1080x360 with 1 Axes>"
      ]
     },
     "metadata": {
      "needs_background": "light"
     },
     "output_type": "display_data"
    }
   ],
   "source": [
    "# Plot\n",
    "(returns_df*100).loc[:,['btc_returns','eth_returns']] \\\n",
    "                .plot(figsize=[15,5], alpha=0.5, grid=True, \\\n",
    "                      ylim=[-100,100],  ylabel='% Move since last close', \\\n",
    "                      title='Daily USD Returns');"
   ]
  },
  {
   "cell_type": "code",
   "execution_count": null,
   "metadata": {},
   "outputs": [],
   "source": []
  }
 ],
 "metadata": {
  "kernelspec": {
   "display_name": "fattails",
   "language": "python",
   "name": "fattails"
  },
  "language_info": {
   "codemirror_mode": {
    "name": "ipython",
    "version": 3
   },
   "file_extension": ".py",
   "mimetype": "text/x-python",
   "name": "python",
   "nbconvert_exporter": "python",
   "pygments_lexer": "ipython3",
   "version": "3.8.5"
  },
  "widgets": {
   "application/vnd.jupyter.widget-state+json": {
    "state": {},
    "version_major": 2,
    "version_minor": 0
   }
  }
 },
 "nbformat": 4,
 "nbformat_minor": 4
}
