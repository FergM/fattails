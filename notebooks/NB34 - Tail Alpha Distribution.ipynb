{
 "cells": [
  {
   "cell_type": "code",
   "execution_count": 1,
   "metadata": {},
   "outputs": [],
   "source": [
    "import matplotlib.pyplot as plt\n",
    "import numpy as np\n",
    "import pandas as pd"
   ]
  },
  {
   "cell_type": "markdown",
   "metadata": {},
   "source": [
    "# About.\n",
    "This notebook is about Power Law Data. It explores the distribution of **finite sample** estimates for the mean and tail exponent.\n",
    "\n",
    "### Permalink\n",
    "[Click here](https://github.com/FergM/fattails/blob/main/notebooks/NB34%20-%20Tail%20Alpha%20Distribution.ipynb) for latest version of this notebook.\n",
    "\n",
    "### Mean Estimation Methods\n",
    "1. Naive Sample Mean\n",
    "    * i.e. just calculate the sample mean. This can be very biased in the presence of skewness.\n",
    "2. Plug-in Estimation\n",
    "    * i.e. estimate the tail alpha first and use that to estimate the sample mean.\n",
    "\n",
    "### Context\n",
    "For background info see the Technical Incerto chapter called *Calibrating Under Paretianity*.\n",
    "\n",
    "I use the Numpy package's Pareto Distribution:\n",
    "* [Numpy Documentation](https://numpy.org/doc/stable/reference/random/generated/numpy.random.Generator.pareto.html#numpy.random.Generator.pareto)\n",
    "* [Wikipedia](https://en.wikipedia.org/wiki/Pareto_distribution)\n",
    "* Properties\n",
    "    * pdf = alpha*x^(-alpha-1)\n",
    "    * CDF = 1 - x^-alpha\n",
    "    * Survival Function = x^-alpha\n",
    "    * Mean = alpha/(alpha-1)"
   ]
  },
  {
   "cell_type": "markdown",
   "metadata": {},
   "source": [
    "### Generate Samples"
   ]
  },
  {
   "cell_type": "code",
   "execution_count": 2,
   "metadata": {},
   "outputs": [],
   "source": [
    "# Settings\n",
    "alpha = 1.2  # The tail exponent\n",
    "\n",
    "n = summand_count = 100  # The number of values in your sample average\n",
    "\n",
    "sample_size = 100_000  # The number of monte carlos you want to run"
   ]
  },
  {
   "cell_type": "code",
   "execution_count": 3,
   "metadata": {},
   "outputs": [],
   "source": [
    "# Random number generator\n",
    "rng = np.random.default_rng()"
   ]
  },
  {
   "cell_type": "code",
   "execution_count": 4,
   "metadata": {
    "scrolled": true
   },
   "outputs": [
    {
     "data": {
      "text/plain": [
       "array([7.71874151, 1.328448  , 1.46391072])"
      ]
     },
     "execution_count": 4,
     "metadata": {},
     "output_type": "execute_result"
    }
   ],
   "source": [
    "# Samples\n",
    "# ToDo: Explain the +1 term here...\n",
    "samples = [rng.pareto(alpha, summand_count)+1 for idx in range(sample_size)]\n",
    "samples[0][0:3]"
   ]
  },
  {
   "cell_type": "markdown",
   "metadata": {},
   "source": [
    "# Mean Estimates"
   ]
  },
  {
   "cell_type": "code",
   "execution_count": 5,
   "metadata": {},
   "outputs": [
    {
     "data": {
      "text/plain": [
       "6.000000000000001"
      ]
     },
     "execution_count": 5,
     "metadata": {},
     "output_type": "execute_result"
    }
   ],
   "source": [
    "# True Mean\n",
    "true_mean = alpha/(alpha-1)\n",
    "true_mean"
   ]
  },
  {
   "cell_type": "code",
   "execution_count": 6,
   "metadata": {},
   "outputs": [
    {
     "data": {
      "text/plain": [
       "[3.060973357639481, 3.140643943814928, 2.9647158997498657]"
      ]
     },
     "execution_count": 6,
     "metadata": {},
     "output_type": "execute_result"
    }
   ],
   "source": [
    "# Sample Mean Values\n",
    "sample_means = [sample.mean() for sample in samples]\n",
    "sample_means[:3]"
   ]
  },
  {
   "cell_type": "code",
   "execution_count": 7,
   "metadata": {},
   "outputs": [
    {
     "data": {
      "text/plain": [
       "[1.2665939829546191, 1.24482971091516, 1.2875449608466047]"
      ]
     },
     "execution_count": 7,
     "metadata": {},
     "output_type": "execute_result"
    }
   ],
   "source": [
    "# MLE Alpha Values\n",
    "mle_alphas = [(summand_count-1)/(np.log(sample).sum()) for sample in samples]\n",
    "mle_alphas[:3]"
   ]
  },
  {
   "cell_type": "code",
   "execution_count": 8,
   "metadata": {},
   "outputs": [
    {
     "data": {
      "text/plain": [
       "[4.751022393368213, 5.08447159563296, 4.477717004866816]"
      ]
     },
     "execution_count": 8,
     "metadata": {},
     "output_type": "execute_result"
    }
   ],
   "source": [
    "# MLE Mean Estimates\n",
    "alpha_implied_mean = lambda alpha: (alpha/(alpha-1))\n",
    "mle_means = [alpha_implied_mean(alpha) for alpha in mle_alphas]\n",
    "mle_means[:3]"
   ]
  },
  {
   "cell_type": "markdown",
   "metadata": {},
   "source": [
    "# Mean Distribution\n",
    "Plot the distribution of sample mean estimates."
   ]
  },
  {
   "cell_type": "markdown",
   "metadata": {},
   "source": [
    "Put all the data in one table:"
   ]
  },
  {
   "cell_type": "code",
   "execution_count": 9,
   "metadata": {},
   "outputs": [
    {
     "data": {
      "text/html": [
       "<div>\n",
       "<style scoped>\n",
       "    .dataframe tbody tr th:only-of-type {\n",
       "        vertical-align: middle;\n",
       "    }\n",
       "\n",
       "    .dataframe tbody tr th {\n",
       "        vertical-align: top;\n",
       "    }\n",
       "\n",
       "    .dataframe thead th {\n",
       "        text-align: right;\n",
       "    }\n",
       "</style>\n",
       "<table border=\"1\" class=\"dataframe\">\n",
       "  <thead>\n",
       "    <tr style=\"text-align: right;\">\n",
       "      <th></th>\n",
       "      <th>mle_alpha</th>\n",
       "      <th>mle_mean</th>\n",
       "      <th>sample_mean</th>\n",
       "    </tr>\n",
       "  </thead>\n",
       "  <tbody>\n",
       "    <tr>\n",
       "      <th>99995</th>\n",
       "      <td>1.056078</td>\n",
       "      <td>18.832402</td>\n",
       "      <td>4.203487</td>\n",
       "    </tr>\n",
       "    <tr>\n",
       "      <th>99996</th>\n",
       "      <td>1.160875</td>\n",
       "      <td>7.216024</td>\n",
       "      <td>3.934823</td>\n",
       "    </tr>\n",
       "    <tr>\n",
       "      <th>99997</th>\n",
       "      <td>0.996467</td>\n",
       "      <td>-282.009705</td>\n",
       "      <td>5.454379</td>\n",
       "    </tr>\n",
       "    <tr>\n",
       "      <th>99998</th>\n",
       "      <td>1.018729</td>\n",
       "      <td>54.392722</td>\n",
       "      <td>5.366482</td>\n",
       "    </tr>\n",
       "    <tr>\n",
       "      <th>99999</th>\n",
       "      <td>1.234867</td>\n",
       "      <td>5.257724</td>\n",
       "      <td>3.984053</td>\n",
       "    </tr>\n",
       "  </tbody>\n",
       "</table>\n",
       "</div>"
      ],
      "text/plain": [
       "       mle_alpha    mle_mean  sample_mean\n",
       "99995   1.056078   18.832402     4.203487\n",
       "99996   1.160875    7.216024     3.934823\n",
       "99997   0.996467 -282.009705     5.454379\n",
       "99998   1.018729   54.392722     5.366482\n",
       "99999   1.234867    5.257724     3.984053"
      ]
     },
     "execution_count": 9,
     "metadata": {},
     "output_type": "execute_result"
    }
   ],
   "source": [
    "# Put data in a DataFrame\n",
    "sample_means = pd.Series(sample_means)\n",
    "mle_alphas = pd.Series(mle_alphas)\n",
    "mle_means = pd.Series(mle_means)\n",
    "df = pd.concat([mle_alphas, mle_means, sample_means], keys=['mle_alpha', 'mle_mean', 'sample_mean'], axis=1)\n",
    "df.tail()"
   ]
  },
  {
   "cell_type": "markdown",
   "metadata": {},
   "source": [
    "Define the truncation conditions:"
   ]
  },
  {
   "cell_type": "code",
   "execution_count": 10,
   "metadata": {},
   "outputs": [],
   "source": [
    "# Filter Conditions\n",
    "\n",
    "# Only count alpha>1 cases for mle method\n",
    "alpha_condition = df.mle_alpha > 1 # Truncate to remove alpha estimates less than one.\n",
    "\n",
    "# Truncate the range before plotting for faster plots\n",
    "mle_xlim_condition = df.mle_mean < 20  \n",
    "sample_xlim_condition = df.sample_mean < 20  "
   ]
  },
  {
   "cell_type": "markdown",
   "metadata": {},
   "source": [
    "Plot the distribution of mean estimates:"
   ]
  },
  {
   "cell_type": "code",
   "execution_count": 11,
   "metadata": {},
   "outputs": [
    {
     "data": {
      "image/png": "[encoded data removed]",
      "text/plain": [
       "<Figure size 432x288 with 1 Axes>"
      ]
     },
     "metadata": {
      "needs_background": "light"
     },
     "output_type": "display_data"
    }
   ],
   "source": [
    "# Mean Estimation Method Comparison\n",
    "\n",
    "# Mean extimated from MLE Alpha estimate\n",
    "ax = df.mle_mean.loc[alpha_condition & mle_xlim_condition] \\\n",
    "       .plot(kind='hist', bins=200, xlim=[0, 20], alpha=0.5, \\\n",
    "             density=True, \\\n",
    "             title='Distribution of Mean Estimates');  # The alpha=0.5 parameter is just a matplotlib thing for plot shading\n",
    "\n",
    "# Naive Sample Mean\n",
    "df.sample_mean.loc[sample_xlim_condition] \\\n",
    "  .plot(kind='hist', bins=200, xlim=[0, 20], alpha=0.5, \\\n",
    "        density=True, \\\n",
    "        title='Distribution of Mean Estimates');\n",
    "\n",
    "# True Mean\n",
    "ax.axvline(true_mean, linewidth=1, color='k', label='True Mean');\n",
    "plt.xlabel('Mean Estimate')\n",
    "plt.ylabel('Relative Frequency')\n",
    "plt.legend();"
   ]
  },
  {
   "cell_type": "markdown",
   "metadata": {},
   "source": [
    "# Extra Stuff\n",
    "Further exploration beyond what's in Incerto appendix C."
   ]
  },
  {
   "cell_type": "markdown",
   "metadata": {},
   "source": [
    "### Min Max Summary"
   ]
  },
  {
   "cell_type": "code",
   "execution_count": 12,
   "metadata": {},
   "outputs": [
    {
     "data": {
      "text/html": [
       "<div>\n",
       "<style scoped>\n",
       "    .dataframe tbody tr th:only-of-type {\n",
       "        vertical-align: middle;\n",
       "    }\n",
       "\n",
       "    .dataframe tbody tr th {\n",
       "        vertical-align: top;\n",
       "    }\n",
       "\n",
       "    .dataframe thead th {\n",
       "        text-align: right;\n",
       "    }\n",
       "</style>\n",
       "<table border=\"1\" class=\"dataframe\">\n",
       "  <thead>\n",
       "    <tr style=\"text-align: right;\">\n",
       "      <th></th>\n",
       "      <th>mle_alpha</th>\n",
       "      <th>mle_mean</th>\n",
       "      <th>sample_mean</th>\n",
       "    </tr>\n",
       "  </thead>\n",
       "  <tbody>\n",
       "    <tr>\n",
       "      <th>min</th>\n",
       "      <td>0.81</td>\n",
       "      <td>-47325.17</td>\n",
       "      <td>1.9</td>\n",
       "    </tr>\n",
       "    <tr>\n",
       "      <th>max</th>\n",
       "      <td>1.98</td>\n",
       "      <td>197493.97</td>\n",
       "      <td>6265.9</td>\n",
       "    </tr>\n",
       "  </tbody>\n",
       "</table>\n",
       "</div>"
      ],
      "text/plain": [
       "     mle_alpha   mle_mean  sample_mean\n",
       "min       0.81  -47325.17          1.9\n",
       "max       1.98  197493.97       6265.9"
      ]
     },
     "execution_count": 12,
     "metadata": {},
     "output_type": "execute_result"
    }
   ],
   "source": [
    "# Without Truncation\n",
    "df.agg(['min', 'max']).round(2)"
   ]
  },
  {
   "cell_type": "code",
   "execution_count": 13,
   "metadata": {},
   "outputs": [
    {
     "data": {
      "text/html": [
       "<div>\n",
       "<style scoped>\n",
       "    .dataframe tbody tr th:only-of-type {\n",
       "        vertical-align: middle;\n",
       "    }\n",
       "\n",
       "    .dataframe tbody tr th {\n",
       "        vertical-align: top;\n",
       "    }\n",
       "\n",
       "    .dataframe thead th {\n",
       "        text-align: right;\n",
       "    }\n",
       "</style>\n",
       "<table border=\"1\" class=\"dataframe\">\n",
       "  <thead>\n",
       "    <tr style=\"text-align: right;\">\n",
       "      <th></th>\n",
       "      <th>mle_mean</th>\n",
       "    </tr>\n",
       "  </thead>\n",
       "  <tbody>\n",
       "    <tr>\n",
       "      <th>min</th>\n",
       "      <td>2.02</td>\n",
       "    </tr>\n",
       "    <tr>\n",
       "      <th>max</th>\n",
       "      <td>20.00</td>\n",
       "    </tr>\n",
       "  </tbody>\n",
       "</table>\n",
       "</div>"
      ],
      "text/plain": [
       "     mle_mean\n",
       "min      2.02\n",
       "max     20.00"
      ]
     },
     "execution_count": 13,
     "metadata": {},
     "output_type": "execute_result"
    }
   ],
   "source": [
    "# MLE Truncated\n",
    "df.mle_mean.loc[alpha_condition & mle_xlim_condition] \\\n",
    "  .agg(['min', 'max']).round(2).to_frame()"
   ]
  },
  {
   "cell_type": "code",
   "execution_count": 14,
   "metadata": {},
   "outputs": [
    {
     "data": {
      "text/html": [
       "<div>\n",
       "<style scoped>\n",
       "    .dataframe tbody tr th:only-of-type {\n",
       "        vertical-align: middle;\n",
       "    }\n",
       "\n",
       "    .dataframe tbody tr th {\n",
       "        vertical-align: top;\n",
       "    }\n",
       "\n",
       "    .dataframe thead th {\n",
       "        text-align: right;\n",
       "    }\n",
       "</style>\n",
       "<table border=\"1\" class=\"dataframe\">\n",
       "  <thead>\n",
       "    <tr style=\"text-align: right;\">\n",
       "      <th></th>\n",
       "      <th>sample_mean</th>\n",
       "    </tr>\n",
       "  </thead>\n",
       "  <tbody>\n",
       "    <tr>\n",
       "      <th>min</th>\n",
       "      <td>1.9</td>\n",
       "    </tr>\n",
       "    <tr>\n",
       "      <th>max</th>\n",
       "      <td>20.0</td>\n",
       "    </tr>\n",
       "  </tbody>\n",
       "</table>\n",
       "</div>"
      ],
      "text/plain": [
       "     sample_mean\n",
       "min          1.9\n",
       "max         20.0"
      ]
     },
     "execution_count": 14,
     "metadata": {},
     "output_type": "execute_result"
    }
   ],
   "source": [
    "# Sample Mean Truncated\n",
    "df.sample_mean.loc[sample_xlim_condition] \\\n",
    "  .agg(['min', 'max']).round(2).to_frame()"
   ]
  },
  {
   "cell_type": "markdown",
   "metadata": {},
   "source": [
    "### Alpha Distribution"
   ]
  },
  {
   "cell_type": "markdown",
   "metadata": {},
   "source": [
    "Look at things in Alpha space:"
   ]
  },
  {
   "cell_type": "code",
   "execution_count": 15,
   "metadata": {},
   "outputs": [],
   "source": [
    "# Convert sample means to implied alphas\n",
    "mean_implied_alpha = lambda mean: (mean/(mean-1))\n",
    "\n",
    "df['sample_mean_alpha'] = df.sample_mean.apply(mean_implied_alpha)"
   ]
  },
  {
   "cell_type": "code",
   "execution_count": 16,
   "metadata": {},
   "outputs": [
    {
     "data": {
      "image/png": "[encoded data removed]",
      "text/plain": [
       "<Figure size 432x288 with 1 Axes>"
      ]
     },
     "metadata": {
      "needs_background": "light"
     },
     "output_type": "display_data"
    }
   ],
   "source": [
    "ax = df.filter(like='alpha') \\\n",
    "  .plot(kind='hist', bins=200, xlim=[0, 2], alpha=0.5, \\\n",
    "        title='Distribution of Alpha Estimates');\n",
    "\n",
    "ax.axvline(alpha, linewidth=1, color='k', label='True Alpha' );\n",
    "plt.legend();"
   ]
  },
  {
   "cell_type": "markdown",
   "metadata": {},
   "source": [
    "### Alpha-Mean Relationship"
   ]
  },
  {
   "cell_type": "code",
   "execution_count": 18,
   "metadata": {},
   "outputs": [],
   "source": [
    "# Define the Relationship\n",
    "get_mean = lambda alpha: (alpha/(alpha-1))\n",
    "get_alpha = lambda mean: (mean/(mean-1))"
   ]
  },
  {
   "cell_type": "code",
   "execution_count": 19,
   "metadata": {},
   "outputs": [
    {
     "data": {
      "image/png": "[encoded data removed]",
      "text/plain": [
       "<Figure size 432x288 with 1 Axes>"
      ]
     },
     "metadata": {
      "needs_background": "light"
     },
     "output_type": "display_data"
    }
   ],
   "source": [
    "# Tail Alpha vs. Mean \n",
    "\n",
    "# Generate Points\n",
    "alpha_range = np.linspace(1.01, 2)\n",
    "\n",
    "# Plot\n",
    "plt.plot(alpha_range, get_mean(alpha_range))\n",
    "\n",
    "# Labels\n",
    "plt.xlabel('Tail Alpha')\n",
    "plt.ylabel('Mean')\n",
    "plt.title('Mean = f(Tail Alpha)')\n",
    "\n",
    "# Asymptote\n",
    "plt.axhline(y=1, color='g', linewidth=1, label='Converges to 1')\n",
    "plt.axvline(x=1, color='g', linewidth=1);\n",
    "\n",
    "plt.legend()\n",
    "plt.show()"
   ]
  },
  {
   "cell_type": "code",
   "execution_count": 20,
   "metadata": {},
   "outputs": [
    {
     "data": {
      "image/png": "[encoded data removed]",
      "text/plain": [
       "<Figure size 432x288 with 1 Axes>"
      ]
     },
     "metadata": {
      "needs_background": "light"
     },
     "output_type": "display_data"
    }
   ],
   "source": [
    "# Mean vs. Tail Alpha \n",
    "\n",
    "# Generate Points\n",
    "mean_range = np.linspace(1.1, 7)\n",
    "\n",
    "# Plot\n",
    "plt.plot(mean_range, get_alpha(mean_range))\n",
    "\n",
    "# Labels\n",
    "plt.xlabel('Mean')\n",
    "plt.ylabel('Tail Alpha')\n",
    "plt.title('Tail Alpha = f(mean)')\n",
    "\n",
    "# Range\n",
    "plt.ylim([0,10])\n",
    "plt.xlim([0, 7])\n",
    "\n",
    "# Asymptote\n",
    "plt.axhline(y=1, color='g', linewidth=1, label='Converges to 1')\n",
    "plt.axvline(x=1, color='g', linewidth=1);\n",
    "\n",
    "plt.legend()\n",
    "plt.show()"
   ]
  },
  {
   "cell_type": "markdown",
   "metadata": {},
   "source": [
    "### More Plots"
   ]
  },
  {
   "cell_type": "code",
   "execution_count": null,
   "metadata": {},
   "outputs": [],
   "source": [
    "## Plot the Sample Mean Distribution on its own\n",
    "#df.loc[sample_xlim_condition].sample_mean \\\n",
    "#  .plot(kind='hist', bins=200, xlim=[0, 20], \\\n",
    "#        title='Distribution of Sample Mean Estimates');"
   ]
  },
  {
   "cell_type": "code",
   "execution_count": null,
   "metadata": {},
   "outputs": [],
   "source": [
    "## Plot the MLE Distribution on its own\n",
    "#df.loc[alpha_condition & mle_mean_condition].mle_mean \\\n",
    "#  .plot(kind='hist', bins=200, xlim=[0, 20], \\\n",
    "#        title='Distribution of MLE Mean Estimates');"
   ]
  }
 ],
 "metadata": {
  "kernelspec": {
   "display_name": "fattails",
   "language": "python",
   "name": "fattails"
  },
  "language_info": {
   "codemirror_mode": {
    "name": "ipython",
    "version": 3
   },
   "file_extension": ".py",
   "mimetype": "text/x-python",
   "name": "python",
   "nbconvert_exporter": "python",
   "pygments_lexer": "ipython3",
   "version": "3.8.5"
  }
 },
 "nbformat": 4,
 "nbformat_minor": 4
}
