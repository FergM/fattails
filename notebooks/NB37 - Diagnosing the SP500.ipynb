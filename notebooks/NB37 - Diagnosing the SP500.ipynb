{
 "cells": [
  {
   "cell_type": "markdown",
   "metadata": {},
   "source": [
    "# About\n",
    "Replication of Chapter 10 plots of S&P500 returns."
   ]
  },
  {
   "cell_type": "code",
   "execution_count": 1,
   "metadata": {},
   "outputs": [],
   "source": [
    "import numpy as np\n",
    "import pandas as pd\n",
    "\n"
   ]
  },
  {
   "cell_type": "markdown",
   "metadata": {},
   "source": [
    "# Helper Function"
   ]
  },
  {
   "cell_type": "code",
   "execution_count": 2,
   "metadata": {},
   "outputs": [],
   "source": [
    "def get_SP500_daily_returns(data_source, log_returns=False):\n",
    "    \"\"\"Load time series of SP500 daily returns from finance.yahoo.com\n",
    "    \n",
    "    Parameters\n",
    "    ----------\n",
    "    data_source : str\n",
    "        URL or path to csv file.\n",
    "    log_returns : bool\n",
    "        False returns the return ratio minus one.\n",
    "            e.g. 0.20 for a 20% gain, -0.80 for a 20% decline.\n",
    "        True returns the natural log of the return ratio.\n",
    "\n",
    "    \n",
    "    Returns\n",
    "    -------\n",
    "    daily_return : Pandas Series\n",
    "    \"\"\"\n",
    "\n",
    "    # Load Dataset\n",
    "    price_data = pd.read_csv(data_source, index_col=0, parse_dates=True)\n",
    "    \n",
    "    # Select Closing Prices\n",
    "    close_price = price_data.Close\n",
    "    \n",
    "    # Calculate Daily Return\n",
    "    price_change_ratio = close_price / close_price.shift(1) \n",
    "\n",
    "    if log_returns:\n",
    "        daily_return = np.log(price_change_ratio)\n",
    "    else:\n",
    "        daily_return = price_change_ratio - 1\n",
    "    \n",
    "    # Remove NaN value\n",
    "    ## The first day has no prior day so return is NaN\n",
    "    assert daily_return.isna().sum() == 1  \n",
    "    daily_return.dropna(inplace=True)\n",
    "\n",
    "    return daily_return"
   ]
  },
  {
   "cell_type": "markdown",
   "metadata": {},
   "source": [
    "# Fetch S&P 500 Returns"
   ]
  },
  {
   "cell_type": "markdown",
   "metadata": {},
   "source": [
    "Calculate the historic daily returns. For context, a value of 0.01 indicates a 1% increase in value on the specified day."
   ]
  },
  {
   "cell_type": "code",
   "execution_count": 3,
   "metadata": {},
   "outputs": [],
   "source": [
    "# Calculate Returns\n",
    "# This particular link captures 60 years from 1960 to 2019 end.\n",
    "data_source = 'https://query1.finance.yahoo.com/v7/finance/download/%5EGSPC?period1=-315619200&period2=1577836800&interval=1d&events=history&includeAdjustedClose=true'"
   ]
  },
  {
   "cell_type": "code",
   "execution_count": 4,
   "metadata": {},
   "outputs": [
    {
     "data": {
      "text/plain": [
       "Date\n",
       "1960-01-05    0.008012\n",
       "1960-01-06   -0.004305\n",
       "1960-01-07   -0.007318\n",
       "1960-01-08   -0.003183\n",
       "1960-01-11   -0.012269\n",
       "                ...   \n",
       "2019-12-24   -0.000195\n",
       "2019-12-26    0.005128\n",
       "2019-12-27    0.000034\n",
       "2019-12-30   -0.005781\n",
       "2019-12-31    0.002946\n",
       "Name: Close, Length: 15101, dtype: float64"
      ]
     },
     "execution_count": 4,
     "metadata": {},
     "output_type": "execute_result"
    }
   ],
   "source": [
    "daily_returns = get_SP500_daily_returns(data_source)\n",
    "daily_returns"
   ]
  },
  {
   "cell_type": "code",
   "execution_count": 5,
   "metadata": {},
   "outputs": [
    {
     "data": {
      "text/plain": [
       "Date\n",
       "1960-01-05    0.007980\n",
       "1960-01-06   -0.004315\n",
       "1960-01-07   -0.007344\n",
       "1960-01-08   -0.003188\n",
       "1960-01-11   -0.012345\n",
       "                ...   \n",
       "2019-12-24   -0.000195\n",
       "2019-12-26    0.005115\n",
       "2019-12-27    0.000034\n",
       "2019-12-30   -0.005798\n",
       "2019-12-31    0.002942\n",
       "Name: Close, Length: 15101, dtype: float64"
      ]
     },
     "execution_count": 5,
     "metadata": {},
     "output_type": "execute_result"
    }
   ],
   "source": [
    "log_returns = get_SP500_daily_returns(data_source, log_returns=True)\n",
    "log_returns"
   ]
  },
  {
   "cell_type": "code",
   "execution_count": 6,
   "metadata": {},
   "outputs": [],
   "source": [
    "# Save data to file\n",
    "#daily_returns.to_csv('NB37_daily_returns.csv')"
   ]
  },
  {
   "cell_type": "markdown",
   "metadata": {},
   "source": [
    "# Figure 10.1 Log-Log Survival Probability"
   ]
  },
  {
   "cell_type": "code",
   "execution_count": 7,
   "metadata": {},
   "outputs": [],
   "source": [
    "import fattails"
   ]
  },
  {
   "cell_type": "code",
   "execution_count": 8,
   "metadata": {},
   "outputs": [],
   "source": [
    "sr = 100*daily_returns.abs()"
   ]
  },
  {
   "cell_type": "code",
   "execution_count": 9,
   "metadata": {},
   "outputs": [],
   "source": [
    "sr.rename('daily_return', inplace=True)\n",
    "df = sr.to_frame()"
   ]
  },
  {
   "cell_type": "code",
   "execution_count": 10,
   "metadata": {},
   "outputs": [
    {
     "data": {
      "text/html": [
       "<div>\n",
       "<style scoped>\n",
       "    .dataframe tbody tr th:only-of-type {\n",
       "        vertical-align: middle;\n",
       "    }\n",
       "\n",
       "    .dataframe tbody tr th {\n",
       "        vertical-align: top;\n",
       "    }\n",
       "\n",
       "    .dataframe thead th {\n",
       "        text-align: right;\n",
       "    }\n",
       "</style>\n",
       "<table border=\"1\" class=\"dataframe\">\n",
       "  <thead>\n",
       "    <tr style=\"text-align: right;\">\n",
       "      <th></th>\n",
       "      <th>daily_return</th>\n",
       "      <th>survival_probability</th>\n",
       "    </tr>\n",
       "    <tr>\n",
       "      <th>Date</th>\n",
       "      <th></th>\n",
       "      <th></th>\n",
       "    </tr>\n",
       "  </thead>\n",
       "  <tbody>\n",
       "    <tr>\n",
       "      <th>1960-07-19</th>\n",
       "      <td>0.000000</td>\n",
       "      <td>0.999934</td>\n",
       "    </tr>\n",
       "    <tr>\n",
       "      <th>1979-08-29</th>\n",
       "      <td>0.000000</td>\n",
       "      <td>0.999868</td>\n",
       "    </tr>\n",
       "    <tr>\n",
       "      <th>1976-04-29</th>\n",
       "      <td>0.000000</td>\n",
       "      <td>0.999801</td>\n",
       "    </tr>\n",
       "    <tr>\n",
       "      <th>1976-03-26</th>\n",
       "      <td>0.000000</td>\n",
       "      <td>0.999735</td>\n",
       "    </tr>\n",
       "    <tr>\n",
       "      <th>1985-03-28</th>\n",
       "      <td>0.000000</td>\n",
       "      <td>0.999669</td>\n",
       "    </tr>\n",
       "    <tr>\n",
       "      <th>...</th>\n",
       "      <td>...</td>\n",
       "      <td>...</td>\n",
       "    </tr>\n",
       "    <tr>\n",
       "      <th>2008-10-15</th>\n",
       "      <td>9.034978</td>\n",
       "      <td>0.000331</td>\n",
       "    </tr>\n",
       "    <tr>\n",
       "      <th>1987-10-21</th>\n",
       "      <td>9.099355</td>\n",
       "      <td>0.000265</td>\n",
       "    </tr>\n",
       "    <tr>\n",
       "      <th>2008-10-28</th>\n",
       "      <td>10.789006</td>\n",
       "      <td>0.000199</td>\n",
       "    </tr>\n",
       "    <tr>\n",
       "      <th>2008-10-13</th>\n",
       "      <td>11.580037</td>\n",
       "      <td>0.000132</td>\n",
       "    </tr>\n",
       "    <tr>\n",
       "      <th>1987-10-19</th>\n",
       "      <td>20.466931</td>\n",
       "      <td>0.000066</td>\n",
       "    </tr>\n",
       "  </tbody>\n",
       "</table>\n",
       "<p>15101 rows × 2 columns</p>\n",
       "</div>"
      ],
      "text/plain": [
       "            daily_return  survival_probability\n",
       "Date                                          \n",
       "1960-07-19      0.000000              0.999934\n",
       "1979-08-29      0.000000              0.999868\n",
       "1976-04-29      0.000000              0.999801\n",
       "1976-03-26      0.000000              0.999735\n",
       "1985-03-28      0.000000              0.999669\n",
       "...                  ...                   ...\n",
       "2008-10-15      9.034978              0.000331\n",
       "1987-10-21      9.099355              0.000265\n",
       "2008-10-28     10.789006              0.000199\n",
       "2008-10-13     11.580037              0.000132\n",
       "1987-10-19     20.466931              0.000066\n",
       "\n",
       "[15101 rows x 2 columns]"
      ]
     },
     "execution_count": 10,
     "metadata": {},
     "output_type": "execute_result"
    }
   ],
   "source": [
    "# Calculate survival probability for each datapoint\n",
    "df['survival_probability'] = fattails.metrics.get_survival_probability(df.daily_return)\n",
    "df = df.sort_values(by='daily_return') # show sorted values\n",
    "df"
   ]
  },
  {
   "cell_type": "code",
   "execution_count": 11,
   "metadata": {},
   "outputs": [
    {
     "data": {
      "image/png": "[encoded data removed]",
      "text/plain": [
       "<Figure size 432x288 with 1 Axes>"
      ]
     },
     "metadata": {
      "needs_background": "light"
     },
     "output_type": "display_data"
    }
   ],
   "source": [
    "# Plot the Right Tail\n",
    "selection = df.daily_return > 0.8 \n",
    "\n",
    "right_tail = df.loc[selection]\n",
    "\n",
    "right_tail.plot(x='daily_return', y='survival_probability',\n",
    "                xlabel='Daily Return %', ylabel='Probability of >= X', \n",
    "                title='SP500 Daily Returns',\n",
    "                kind='scatter', loglog=True,\n",
    "                s=1); # xlabel argument requires pandas >= 1.2.0"
   ]
  },
  {
   "cell_type": "markdown",
   "metadata": {},
   "source": [
    "# Figure 10.2 Convergence of Kurtosis\n",
    "Kurtosis is a proxy for fat-tailedness."
   ]
  },
  {
   "cell_type": "code",
   "execution_count": 12,
   "metadata": {},
   "outputs": [
    {
     "data": {
      "text/html": [
       "<div>\n",
       "<style scoped>\n",
       "    .dataframe tbody tr th:only-of-type {\n",
       "        vertical-align: middle;\n",
       "    }\n",
       "\n",
       "    .dataframe tbody tr th {\n",
       "        vertical-align: top;\n",
       "    }\n",
       "\n",
       "    .dataframe thead th {\n",
       "        text-align: right;\n",
       "    }\n",
       "</style>\n",
       "<table border=\"1\" class=\"dataframe\">\n",
       "  <thead>\n",
       "    <tr style=\"text-align: right;\">\n",
       "      <th></th>\n",
       "      <th>log_return</th>\n",
       "    </tr>\n",
       "    <tr>\n",
       "      <th>Date</th>\n",
       "      <th></th>\n",
       "    </tr>\n",
       "  </thead>\n",
       "  <tbody>\n",
       "    <tr>\n",
       "      <th>1960-01-05</th>\n",
       "      <td>0.007980</td>\n",
       "    </tr>\n",
       "    <tr>\n",
       "      <th>1960-01-06</th>\n",
       "      <td>-0.004315</td>\n",
       "    </tr>\n",
       "    <tr>\n",
       "      <th>1960-01-07</th>\n",
       "      <td>-0.007344</td>\n",
       "    </tr>\n",
       "    <tr>\n",
       "      <th>1960-01-08</th>\n",
       "      <td>-0.003188</td>\n",
       "    </tr>\n",
       "    <tr>\n",
       "      <th>1960-01-11</th>\n",
       "      <td>-0.012345</td>\n",
       "    </tr>\n",
       "    <tr>\n",
       "      <th>...</th>\n",
       "      <td>...</td>\n",
       "    </tr>\n",
       "    <tr>\n",
       "      <th>2019-12-24</th>\n",
       "      <td>-0.000195</td>\n",
       "    </tr>\n",
       "    <tr>\n",
       "      <th>2019-12-26</th>\n",
       "      <td>0.005115</td>\n",
       "    </tr>\n",
       "    <tr>\n",
       "      <th>2019-12-27</th>\n",
       "      <td>0.000034</td>\n",
       "    </tr>\n",
       "    <tr>\n",
       "      <th>2019-12-30</th>\n",
       "      <td>-0.005798</td>\n",
       "    </tr>\n",
       "    <tr>\n",
       "      <th>2019-12-31</th>\n",
       "      <td>0.002942</td>\n",
       "    </tr>\n",
       "  </tbody>\n",
       "</table>\n",
       "<p>15101 rows × 1 columns</p>\n",
       "</div>"
      ],
      "text/plain": [
       "            log_return\n",
       "Date                  \n",
       "1960-01-05    0.007980\n",
       "1960-01-06   -0.004315\n",
       "1960-01-07   -0.007344\n",
       "1960-01-08   -0.003188\n",
       "1960-01-11   -0.012345\n",
       "...                ...\n",
       "2019-12-24   -0.000195\n",
       "2019-12-26    0.005115\n",
       "2019-12-27    0.000034\n",
       "2019-12-30   -0.005798\n",
       "2019-12-31    0.002942\n",
       "\n",
       "[15101 rows x 1 columns]"
      ]
     },
     "execution_count": 12,
     "metadata": {},
     "output_type": "execute_result"
    }
   ],
   "source": [
    "df = log_returns.rename('log_return').to_frame()\n",
    "df"
   ]
  },
  {
   "cell_type": "code",
   "execution_count": 13,
   "metadata": {},
   "outputs": [
    {
     "data": {
      "text/html": [
       "<div>\n",
       "<style scoped>\n",
       "    .dataframe tbody tr th:only-of-type {\n",
       "        vertical-align: middle;\n",
       "    }\n",
       "\n",
       "    .dataframe tbody tr th {\n",
       "        vertical-align: top;\n",
       "    }\n",
       "\n",
       "    .dataframe thead th {\n",
       "        text-align: right;\n",
       "    }\n",
       "</style>\n",
       "<table border=\"1\" class=\"dataframe\">\n",
       "  <thead>\n",
       "    <tr style=\"text-align: right;\">\n",
       "      <th></th>\n",
       "      <th>window_size</th>\n",
       "    </tr>\n",
       "  </thead>\n",
       "  <tbody>\n",
       "    <tr>\n",
       "      <th>0</th>\n",
       "      <td>1</td>\n",
       "    </tr>\n",
       "    <tr>\n",
       "      <th>1</th>\n",
       "      <td>2</td>\n",
       "    </tr>\n",
       "    <tr>\n",
       "      <th>2</th>\n",
       "      <td>3</td>\n",
       "    </tr>\n",
       "    <tr>\n",
       "      <th>3</th>\n",
       "      <td>4</td>\n",
       "    </tr>\n",
       "    <tr>\n",
       "      <th>4</th>\n",
       "      <td>5</td>\n",
       "    </tr>\n",
       "  </tbody>\n",
       "</table>\n",
       "</div>"
      ],
      "text/plain": [
       "   window_size\n",
       "0            1\n",
       "1            2\n",
       "2            3\n",
       "3            4\n",
       "4            5"
      ]
     },
     "execution_count": 13,
     "metadata": {},
     "output_type": "execute_result"
    }
   ],
   "source": [
    "kurtosis_df = pd.DataFrame({'window_size':range(1,100+1)})\n",
    "kurtosis_df.head()"
   ]
  },
  {
   "cell_type": "code",
   "execution_count": 14,
   "metadata": {},
   "outputs": [],
   "source": [
    "from scipy.stats import kurtosis\n",
    "\n",
    "def grouped_kurtosis(df, window_size):\n",
    "    \"\"\" Calculate the kurtosis of log returns for different lags.\"\"\"\n",
    "\n",
    "    df = df.copy()\n",
    "\n",
    "    df['window_number'] = np.arange(0, len(df)) // window_size\n",
    "\n",
    "    kurt = df.groupby(df.window_number).sum().apply(kurtosis, fisher=False)\n",
    "    \n",
    "    return kurt"
   ]
  },
  {
   "cell_type": "code",
   "execution_count": 15,
   "metadata": {},
   "outputs": [
    {
     "data": {
      "image/png": "[encoded data removed]",
      "text/plain": [
       "<Figure size 432x288 with 1 Axes>"
      ]
     },
     "metadata": {
      "needs_background": "light"
     },
     "output_type": "display_data"
    }
   ],
   "source": [
    "kurtosis_df['kurtosis'] = kurtosis_df.window_size.apply(lambda window_size: grouped_kurtosis(df, window_size))\n",
    "\n",
    "kurtosis_df['shuffled_kurtosis'] = kurtosis_df.window_size.apply(lambda window_size: grouped_kurtosis(df.sample(frac=1), window_size))\n",
    "\n",
    "trace_columns = ['kurtosis', 'shuffled_kurtosis']\n",
    "\n",
    "ax = kurtosis_df.plot(x='window_size', y=trace_columns,\n",
    "                  xlabel='Window Size (days)', ylabel='Kurtosis',\n",
    "                  title='Kurtosis for different time granularities');\n",
    "\n",
    "ax.axhline(3, color='g', linestyle='--', label='Gaussian Benchmark');\n",
    "\n",
    "ax.legend();"
   ]
  },
  {
   "cell_type": "code",
   "execution_count": null,
   "metadata": {},
   "outputs": [],
   "source": []
  }
 ],
 "metadata": {
  "kernelspec": {
   "display_name": "fattails",
   "language": "python",
   "name": "fattails"
  },
  "language_info": {
   "codemirror_mode": {
    "name": "ipython",
    "version": 3
   },
   "file_extension": ".py",
   "mimetype": "text/x-python",
   "name": "python",
   "nbconvert_exporter": "python",
   "pygments_lexer": "ipython3",
   "version": "3.8.5"
  },
  "widgets": {
   "application/vnd.jupyter.widget-state+json": {
    "state": {},
    "version_major": 2,
    "version_minor": 0
   }
  }
 },
 "nbformat": 4,
 "nbformat_minor": 4
}
