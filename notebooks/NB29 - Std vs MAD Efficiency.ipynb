{
 "cells": [
  {
   "cell_type": "markdown",
   "metadata": {},
   "source": [
    "# About\n",
    "Notebook exploring the Efficiency comparisons of Standard Deviation vs. Mean Deviation.\n",
    "\n",
    "This is dealt with in chapter 4 of the technical incerto. For distributions fatter than gaussian, the mean deviation is more precise (less variability in its estimation)."
   ]
  },
  {
   "cell_type": "code",
   "execution_count": 1,
   "metadata": {},
   "outputs": [],
   "source": [
    "import numpy as np\n",
    "from numpy.random import default_rng\n",
    "\n",
    "# Initialise Random Number Generator\n",
    "rng = default_rng()"
   ]
  },
  {
   "cell_type": "markdown",
   "metadata": {},
   "source": [
    "### Helper Functions"
   ]
  },
  {
   "cell_type": "code",
   "execution_count": 2,
   "metadata": {},
   "outputs": [],
   "source": [
    "def mad(x):\n",
    "    \"\"\"Calculate Mean Absolute Deviation\n",
    "    \n",
    "    The average deviation from sample mean.\n",
    "    Not to be confused with 'Median' Absolute Deviation.\n",
    "    Source: https://github.com/FergM/fattails/blob/87fddc034937a6d25f2e62c8aad3d60f1aac1856/fattails/metrics.py#L7\n",
    "    \n",
    "    Parameters\n",
    "    ----------\n",
    "    x : array_like\n",
    "        Input array or object that can be converted to an array.\n",
    "    Returns\n",
    "    -------\n",
    "    mad : scalar\n",
    "          Mean Absolute Deviation of x\n",
    "    \"\"\"\n",
    "\n",
    "    mean = np.mean(x)\n",
    "\n",
    "    deviation = x-mean\n",
    "\n",
    "    absolute_deviation = np.abs(deviation)\n",
    "\n",
    "    mad = np.mean(absolute_deviation)\n",
    "\n",
    "    return mad"
   ]
  },
  {
   "cell_type": "code",
   "execution_count": 3,
   "metadata": {},
   "outputs": [],
   "source": [
    "def sample_mixed_norm(jump_sigma, jump_prob, n):\n",
    "    \"\"\" Draw samples from a standard Normal distribution, with occasional spikes in standard deviation.\n",
    "    \n",
    "    The standard deviation switches from 1 to jump_sigma with probability p.\n",
    "    The output returns n samples.\n",
    "\n",
    "    Parameters\n",
    "    ----------\n",
    "    jump_sigma : float\n",
    "        Standard deviation of our high variance distribution.\n",
    "    jump_prob : float\n",
    "        Probability of sampling from the high variance distribution.\n",
    "    n : int\n",
    "        The number of output samples.\n",
    "    \n",
    "    Returns\n",
    "    -------\n",
    "    out : ndarray\n",
    "        A floating-point array of shape `n` of drawn samples.\n",
    "        \n",
    "    Examples\n",
    "    --------\n",
    "    >>> sample_mixed_norm(jump_sigma=1, jump_prob=0, n=1)  # No jump probability\n",
    "\n",
    "    >>> sample_mixed_norm(jump_sigma=3, jump_prob=0.01, n=3)  # Three Sigma Jump for 1% of datapoints.\n",
    "    \"\"\"\n",
    "\n",
    "    # --------------------------------------------\n",
    "    # Generate Samples from a Standard Normal \n",
    "    normals = rng.standard_normal(n)\n",
    "\n",
    "    # --------------------------------------------\n",
    "    # Rescale jump_prob % of samples with jump_sigma\n",
    "\n",
    "    # Flag some samples for rescaling\n",
    "    jump_flag = rng.binomial(1, jump_prob, n)\n",
    "    jump_flag = jump_flag.astype(bool)\n",
    "    norm_flag = ~jump_flag\n",
    "\n",
    "    # Rescale Flagged Samples to get a Mixed Gaussian\n",
    "    jump_flag_rvs = normals*jump_flag*jump_sigma\n",
    "    norm_flag_rvs = normals*norm_flag\n",
    "\n",
    "    mixed_rvs = jump_flag_rvs + norm_flag_rvs\n",
    "\n",
    "    return mixed_rvs"
   ]
  },
  {
   "cell_type": "code",
   "execution_count": 4,
   "metadata": {},
   "outputs": [],
   "source": [
    "def get_efficiency(data):\n",
    "    \"\"\"Calculate the \"efficiency\" of samples in a dataset.\n",
    "    \n",
    "    The variance of a dataset normalised by its sample mean.\n",
    "    Efficient datasets will return a value near 0.\n",
    "    \n",
    "    Parameters\n",
    "    ----------\n",
    "    data : list-like numeric data\n",
    "        The values whose efficiency you want to calculate.\n",
    "    \n",
    "    \"\"\"\n",
    "    \n",
    "    variance = np.var(data)\n",
    "    mean = np.mean(data)\n",
    "    \n",
    "    # Calculate normalised variance\n",
    "    # This is equivalent to normalising the dataset\n",
    "    # so that it has a mean value of 1.\n",
    "    efficiency = np.var(data)/(np.mean(data))**2\n",
    "    \n",
    "    return efficiency\n",
    "    "
   ]
  },
  {
   "cell_type": "code",
   "execution_count": 5,
   "metadata": {},
   "outputs": [
    {
     "data": {
      "text/plain": [
       "array([-0.46114958,  0.30579549,  1.29543481])"
      ]
     },
     "execution_count": 5,
     "metadata": {},
     "output_type": "execute_result"
    }
   ],
   "source": [
    "# Check Function Executes\n",
    "sample_mixed_norm(jump_sigma=3, jump_prob=0.01, n=3)"
   ]
  },
  {
   "cell_type": "code",
   "execution_count": 6,
   "metadata": {},
   "outputs": [
    {
     "data": {
      "text/plain": [
       "0.6666666666666667"
      ]
     },
     "execution_count": 6,
     "metadata": {},
     "output_type": "execute_result"
    }
   ],
   "source": [
    "# Check Efficiency Function\n",
    "get_efficiency([0,10,20])"
   ]
  },
  {
   "cell_type": "code",
   "execution_count": 7,
   "metadata": {},
   "outputs": [
    {
     "data": {
      "text/plain": [
       "0.6666666666666666"
      ]
     },
     "execution_count": 7,
     "metadata": {},
     "output_type": "execute_result"
    }
   ],
   "source": [
    "get_efficiency([0,1,2])"
   ]
  },
  {
   "cell_type": "code",
   "execution_count": 8,
   "metadata": {},
   "outputs": [
    {
     "data": {
      "text/plain": [
       "0.0"
      ]
     },
     "execution_count": 8,
     "metadata": {},
     "output_type": "execute_result"
    }
   ],
   "source": [
    "get_efficiency([1,1,1])"
   ]
  },
  {
   "cell_type": "markdown",
   "metadata": {},
   "source": [
    "# Analyse\n",
    "Lets look at what happens when we fatten the distribution away from a standard gaussian."
   ]
  },
  {
   "cell_type": "markdown",
   "metadata": {},
   "source": [
    "### First check calibration for Gaussian case"
   ]
  },
  {
   "cell_type": "code",
   "execution_count": 9,
   "metadata": {},
   "outputs": [],
   "source": [
    "# Settings\n",
    "n_samples = 100_000     # Number of samples\n",
    "n_datapoints = 1_000  # Number of datapoints in each sample\n",
    "\n",
    "# Jump Definition\n",
    "jump_sigma = 0\n",
    "jump_prob = 0              # 1% of datapoints have higher std"
   ]
  },
  {
   "cell_type": "code",
   "execution_count": 10,
   "metadata": {},
   "outputs": [],
   "source": [
    "# Generate Random Samples\n",
    "samples = [sample_mixed_norm(jump_sigma, jump_prob, n=n_datapoints) for i in range(n_samples)]"
   ]
  },
  {
   "cell_type": "code",
   "execution_count": 11,
   "metadata": {},
   "outputs": [],
   "source": [
    "# Calculate Metrics\n",
    "std_samples = [np.std(sample) for sample in samples]\n",
    "mad_samples = [mad(sample) for sample in samples]"
   ]
  },
  {
   "cell_type": "code",
   "execution_count": 12,
   "metadata": {},
   "outputs": [],
   "source": [
    "# Calculate Metric Variance (Normalised)\n",
    "std_efficiency = get_efficiency(std_samples)\n",
    "mad_efficiency = get_efficiency(mad_samples)"
   ]
  },
  {
   "cell_type": "code",
   "execution_count": 13,
   "metadata": {},
   "outputs": [
    {
     "data": {
      "text/plain": [
       "0.0005013502229411268"
      ]
     },
     "execution_count": 13,
     "metadata": {},
     "output_type": "execute_result"
    }
   ],
   "source": [
    "std_efficiency"
   ]
  },
  {
   "cell_type": "code",
   "execution_count": 14,
   "metadata": {},
   "outputs": [
    {
     "data": {
      "text/plain": [
       "0.0005730253084100833"
      ]
     },
     "execution_count": 14,
     "metadata": {},
     "output_type": "execute_result"
    }
   ],
   "source": [
    "mad_efficiency"
   ]
  },
  {
   "cell_type": "code",
   "execution_count": 15,
   "metadata": {},
   "outputs": [
    {
     "data": {
      "text/plain": [
       "0.8749181154531791"
      ]
     },
     "execution_count": 15,
     "metadata": {},
     "output_type": "execute_result"
    }
   ],
   "source": [
    "efficiency_ratio = std_efficiency/mad_efficiency\n",
    "efficiency_ratio"
   ]
  },
  {
   "cell_type": "markdown",
   "metadata": {},
   "source": [
    "As expected the efficiency ratio rounds to ~0.87"
   ]
  },
  {
   "cell_type": "markdown",
   "metadata": {},
   "source": [
    "# Generalise for a Range of Jump Sizes"
   ]
  },
  {
   "cell_type": "code",
   "execution_count": 16,
   "metadata": {},
   "outputs": [],
   "source": [
    "def estimate_relative_efficiency(jump_sigma, jump_prob, n_samples, n_datapoints):\n",
    "    \"\"\"Estimate the relative efficiency or Std vs MAD.\n",
    "    \n",
    "    High values (above 1) indicate that Std varies more than MAD.\n",
    "    High values therefore indicate where MAD is more efficient.\n",
    "    \"\"\"\n",
    "\n",
    "    # Generate Random Samples\n",
    "    samples = [sample_mixed_norm(jump_sigma, jump_prob, n=n_datapoints) for i in range(n_samples)]\n",
    "\n",
    "    # Calculate Metrics on the Random Samples\n",
    "    std_samples = [np.std(sample) for sample in samples]\n",
    "    mad_samples = [mad(sample) for sample in samples]\n",
    "\n",
    "    # Calculate Metric Variance (Normalised)\n",
    "    std_efficiency = get_efficiency(std_samples)\n",
    "    mad_efficiency = get_efficiency(mad_samples)\n",
    "\n",
    "    # Calculate relative efficiency (Std/MAD)\n",
    "    efficiency_ratio = std_efficiency/mad_efficiency\n",
    "    \n",
    "    return efficiency_ratio"
   ]
  },
  {
   "cell_type": "code",
   "execution_count": 17,
   "metadata": {},
   "outputs": [],
   "source": [
    "# Settings\n",
    "n_samples = 100_000     # Number of samples\n",
    "n_datapoints = 1_000  # Number of datapoints in each sample\n",
    "\n",
    "# Jump Definition\n",
    "jump_prob = 0.01             # 1% of datapoints have higher std\n",
    "jump_sigma = 2"
   ]
  },
  {
   "cell_type": "code",
   "execution_count": 18,
   "metadata": {},
   "outputs": [
    {
     "data": {
      "text/plain": [
       "0.9584088363032649"
      ]
     },
     "execution_count": 18,
     "metadata": {},
     "output_type": "execute_result"
    }
   ],
   "source": [
    "# Test Example:\n",
    "estimate_relative_efficiency(jump_sigma, jump_prob, n_samples, n_datapoints)"
   ]
  },
  {
   "cell_type": "markdown",
   "metadata": {},
   "source": [
    "### Run for a range of jump sizes"
   ]
  },
  {
   "cell_type": "code",
   "execution_count": 19,
   "metadata": {},
   "outputs": [],
   "source": [
    "import pandas as pd"
   ]
  },
  {
   "cell_type": "code",
   "execution_count": 20,
   "metadata": {},
   "outputs": [
    {
     "data": {
      "text/html": [
       "<div>\n",
       "<style scoped>\n",
       "    .dataframe tbody tr th:only-of-type {\n",
       "        vertical-align: middle;\n",
       "    }\n",
       "\n",
       "    .dataframe tbody tr th {\n",
       "        vertical-align: top;\n",
       "    }\n",
       "\n",
       "    .dataframe thead th {\n",
       "        text-align: right;\n",
       "    }\n",
       "</style>\n",
       "<table border=\"1\" class=\"dataframe\">\n",
       "  <thead>\n",
       "    <tr style=\"text-align: right;\">\n",
       "      <th></th>\n",
       "      <th>Jump Std</th>\n",
       "    </tr>\n",
       "  </thead>\n",
       "  <tbody>\n",
       "    <tr>\n",
       "      <th>0</th>\n",
       "      <td>1</td>\n",
       "    </tr>\n",
       "    <tr>\n",
       "      <th>1</th>\n",
       "      <td>2</td>\n",
       "    </tr>\n",
       "    <tr>\n",
       "      <th>2</th>\n",
       "      <td>3</td>\n",
       "    </tr>\n",
       "    <tr>\n",
       "      <th>3</th>\n",
       "      <td>4</td>\n",
       "    </tr>\n",
       "    <tr>\n",
       "      <th>4</th>\n",
       "      <td>5</td>\n",
       "    </tr>\n",
       "    <tr>\n",
       "      <th>5</th>\n",
       "      <td>6</td>\n",
       "    </tr>\n",
       "    <tr>\n",
       "      <th>6</th>\n",
       "      <td>7</td>\n",
       "    </tr>\n",
       "    <tr>\n",
       "      <th>7</th>\n",
       "      <td>8</td>\n",
       "    </tr>\n",
       "  </tbody>\n",
       "</table>\n",
       "</div>"
      ],
      "text/plain": [
       "   Jump Std\n",
       "0         1\n",
       "1         2\n",
       "2         3\n",
       "3         4\n",
       "4         5\n",
       "5         6\n",
       "6         7\n",
       "7         8"
      ]
     },
     "execution_count": 20,
     "metadata": {},
     "output_type": "execute_result"
    }
   ],
   "source": [
    "# Prepare Jump Sizes\n",
    "sigmas = [1,2,3,4,5,6,7,8]\n",
    "sr = pd.Series(sigmas, name='Jump Std')\n",
    "\n",
    "df = sr.to_frame()\n",
    "df"
   ]
  },
  {
   "cell_type": "code",
   "execution_count": 21,
   "metadata": {},
   "outputs": [],
   "source": [
    "# Calculate Efficiency for each Jump Size\n",
    "df['Relative Efficiency'] = df['Jump Std'].apply(estimate_relative_efficiency, args=(jump_prob, n_samples, n_datapoints))"
   ]
  },
  {
   "cell_type": "code",
   "execution_count": 22,
   "metadata": {},
   "outputs": [
    {
     "data": {
      "text/plain": [
       "<matplotlib.axes._subplots.AxesSubplot at 0x2932f14e048>"
      ]
     },
     "execution_count": 22,
     "metadata": {},
     "output_type": "execute_result"
    },
    {
     "data": {
      "image/png": "[encoded data removed]",
      "text/plain": [
       "<Figure size 432x288 with 1 Axes>"
      ]
     },
     "metadata": {
      "needs_background": "light"
     },
     "output_type": "display_data"
    }
   ],
   "source": [
    "# Plot\n",
    "df.plot('Jump Std', 'Relative Efficiency', ylim=(0,15), title='Relative Efficiency as the Tail Thickens...')"
   ]
  },
  {
   "cell_type": "code",
   "execution_count": 23,
   "metadata": {},
   "outputs": [
    {
     "data": {
      "text/html": [
       "<div>\n",
       "<style scoped>\n",
       "    .dataframe tbody tr th:only-of-type {\n",
       "        vertical-align: middle;\n",
       "    }\n",
       "\n",
       "    .dataframe tbody tr th {\n",
       "        vertical-align: top;\n",
       "    }\n",
       "\n",
       "    .dataframe thead th {\n",
       "        text-align: right;\n",
       "    }\n",
       "</style>\n",
       "<table border=\"1\" class=\"dataframe\">\n",
       "  <thead>\n",
       "    <tr style=\"text-align: right;\">\n",
       "      <th></th>\n",
       "      <th>Jump Std</th>\n",
       "      <th>Relative Efficiency</th>\n",
       "    </tr>\n",
       "  </thead>\n",
       "  <tbody>\n",
       "    <tr>\n",
       "      <th>0</th>\n",
       "      <td>1</td>\n",
       "      <td>0.88</td>\n",
       "    </tr>\n",
       "    <tr>\n",
       "      <th>1</th>\n",
       "      <td>2</td>\n",
       "      <td>0.96</td>\n",
       "    </tr>\n",
       "    <tr>\n",
       "      <th>2</th>\n",
       "      <td>3</td>\n",
       "      <td>1.42</td>\n",
       "    </tr>\n",
       "    <tr>\n",
       "      <th>3</th>\n",
       "      <td>4</td>\n",
       "      <td>2.47</td>\n",
       "    </tr>\n",
       "    <tr>\n",
       "      <th>4</th>\n",
       "      <td>5</td>\n",
       "      <td>3.96</td>\n",
       "    </tr>\n",
       "    <tr>\n",
       "      <th>5</th>\n",
       "      <td>6</td>\n",
       "      <td>5.73</td>\n",
       "    </tr>\n",
       "    <tr>\n",
       "      <th>6</th>\n",
       "      <td>7</td>\n",
       "      <td>7.47</td>\n",
       "    </tr>\n",
       "    <tr>\n",
       "      <th>7</th>\n",
       "      <td>8</td>\n",
       "      <td>8.91</td>\n",
       "    </tr>\n",
       "  </tbody>\n",
       "</table>\n",
       "</div>"
      ],
      "text/plain": [
       "   Jump Std  Relative Efficiency\n",
       "0         1                 0.88\n",
       "1         2                 0.96\n",
       "2         3                 1.42\n",
       "3         4                 2.47\n",
       "4         5                 3.96\n",
       "5         6                 5.73\n",
       "6         7                 7.47\n",
       "7         8                 8.91"
      ]
     },
     "execution_count": 23,
     "metadata": {},
     "output_type": "execute_result"
    }
   ],
   "source": [
    "df.round(2)"
   ]
  },
  {
   "cell_type": "markdown",
   "metadata": {},
   "source": [
    "### Visualise the Performance\n",
    "Show histograms of sample Std and MAD"
   ]
  },
  {
   "cell_type": "markdown",
   "metadata": {},
   "source": [
    "##### Case 1: Standard Normal"
   ]
  },
  {
   "cell_type": "code",
   "execution_count": 24,
   "metadata": {},
   "outputs": [],
   "source": [
    "# Settings\n",
    "n_samples = 100_000     # Number of samples\n",
    "n_datapoints = 1_000  # Number of datapoints in each sample\n",
    "\n",
    "# Jump Definition\n",
    "jump_prob = 0             # 1% of datapoints have higher std\n",
    "jump_sigma = 0"
   ]
  },
  {
   "cell_type": "code",
   "execution_count": 25,
   "metadata": {},
   "outputs": [],
   "source": [
    "# Generate Random Samples\n",
    "samples = [sample_mixed_norm(jump_sigma, jump_prob, n=n_datapoints) for i in range(n_samples)]\n",
    "\n",
    "# Calculate Metrics\n",
    "std_samples = [np.std(sample) for sample in samples]\n",
    "mad_samples = [mad(sample) for sample in samples]"
   ]
  },
  {
   "cell_type": "code",
   "execution_count": 26,
   "metadata": {},
   "outputs": [
    {
     "data": {
      "image/png": "[encoded data removed]",
      "text/plain": [
       "<Figure size 432x288 with 1 Axes>"
      ]
     },
     "metadata": {
      "needs_background": "light"
     },
     "output_type": "display_data"
    }
   ],
   "source": [
    "# Plot Sample Distributions\n",
    "d = {'std': std_samples, 'mad': mad_samples}\n",
    "df = pd.DataFrame(d)\n",
    "\n",
    "df.plot(kind='hist', bins=100, title='Distribution of sample estimates');"
   ]
  },
  {
   "cell_type": "markdown",
   "metadata": {},
   "source": [
    "### Case 2: STD more than twice as wide as MAD\n",
    "From the line plot above when we ran different jump_probabilities, we can tell that setting `jump_sigma=4` jump makes std/mad efficiency ratio greater than 2."
   ]
  },
  {
   "cell_type": "code",
   "execution_count": 27,
   "metadata": {},
   "outputs": [],
   "source": [
    "# Settings\n",
    "n_samples = 100_000     # Number of samples\n",
    "n_datapoints = 1_000  # Number of datapoints in each sample\n",
    "\n",
    "# Jump Definition\n",
    "jump_prob = 0.1             # 1% of datapoints have higher std\n",
    "jump_sigma = 4"
   ]
  },
  {
   "cell_type": "code",
   "execution_count": 28,
   "metadata": {},
   "outputs": [],
   "source": [
    "# Generate Random Samples\n",
    "samples = [sample_mixed_norm(jump_sigma, jump_prob, n=n_datapoints) for i in range(n_samples)]\n",
    "\n",
    "# Calculate Metrics\n",
    "std_samples = [np.std(sample) for sample in samples]\n",
    "mad_samples = [mad(sample) for sample in samples]"
   ]
  },
  {
   "cell_type": "code",
   "execution_count": 29,
   "metadata": {},
   "outputs": [
    {
     "data": {
      "image/png": "[encoded data removed]",
      "text/plain": [
       "<Figure size 432x288 with 1 Axes>"
      ]
     },
     "metadata": {
      "needs_background": "light"
     },
     "output_type": "display_data"
    }
   ],
   "source": [
    "# Plot Sample Distributions\n",
    "d = {'std': std_samples, 'mad': mad_samples}\n",
    "df = pd.DataFrame(d)\n",
    "\n",
    "df.plot(kind='hist', bins=100, title='Distribution of sample estimates');"
   ]
  },
  {
   "cell_type": "markdown",
   "metadata": {},
   "source": [
    "##### Normalise for Comparison\n",
    "Normalise the metric magnitudes so we can overlay them for comparison."
   ]
  },
  {
   "cell_type": "code",
   "execution_count": 30,
   "metadata": {},
   "outputs": [],
   "source": [
    "std_mean = np.mean(std_samples)\n",
    "mad_mean = np.mean(mad_samples)\n",
    "\n",
    "# Generous Method (Think Percentage error)\n",
    "# The Book uses this method for Relative Efficiency\n",
    "#std_normalised_samples = std_samples/std_mean\n",
    "#mad_normalised_samples = mad_samples/mad_mean\n",
    "\n",
    "# Practical Method (Think error magnitude)\n",
    "std_normalised_samples = std_samples - std_mean\n",
    "mad_normalised_samples = mad_samples - mad_mean"
   ]
  },
  {
   "cell_type": "code",
   "execution_count": 31,
   "metadata": {},
   "outputs": [
    {
     "data": {
      "image/png": "[encoded data removed]",
      "text/plain": [
       "<Figure size 432x288 with 1 Axes>"
      ]
     },
     "metadata": {
      "needs_background": "light"
     },
     "output_type": "display_data"
    }
   ],
   "source": [
    "# Plot Sample Distributions\n",
    "d = {'std': std_normalised_samples, 'mad': mad_normalised_samples}\n",
    "df = pd.DataFrame(d)\n",
    "\n",
    "df.plot(kind='hist', bins=100, title='Distribution of sample estimates', alpha=0.6);"
   ]
  },
  {
   "cell_type": "code",
   "execution_count": null,
   "metadata": {},
   "outputs": [],
   "source": []
  }
 ],
 "metadata": {
  "kernelspec": {
   "display_name": "Python 3",
   "language": "python",
   "name": "python3"
  },
  "language_info": {
   "codemirror_mode": {
    "name": "ipython",
    "version": 3
   },
   "file_extension": ".py",
   "mimetype": "text/x-python",
   "name": "python",
   "nbconvert_exporter": "python",
   "pygments_lexer": "ipython3",
   "version": "3.7.6"
  }
 },
 "nbformat": 4,
 "nbformat_minor": 4
}
