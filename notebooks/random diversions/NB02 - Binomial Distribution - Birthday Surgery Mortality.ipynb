{
 "cells": [
  {
   "cell_type": "code",
   "execution_count": 1,
   "metadata": {},
   "outputs": [],
   "source": [
    "import matplotlib.pyplot as plt\n",
    "import numpy as np\n",
    "import pandas as pd\n",
    "from scipy.stats import binom"
   ]
  },
  {
   "cell_type": "markdown",
   "metadata": {},
   "source": [
    "# About\n",
    "Exploring a BMJ paper that claims surgeries have higher mortality on a surgeon's birthday.\n",
    "\n",
    "Link: https://www.bmj.com/content/371/bmj.m4381"
   ]
  },
  {
   "cell_type": "markdown",
   "metadata": {},
   "source": [
    "# Binomial Approach"
   ]
  },
  {
   "cell_type": "markdown",
   "metadata": {},
   "source": [
    "Paper Conclusions:\n",
    "* Birthday Mortality 6.9%, 95% confidence interval 5.7% to 8.1%\n",
    "* Other Day Mortality 5.6%, 95% confidence interval 5.6% to 5.6%\n",
    "* Difference 1.3%, 95% confidence interval 0.1% to 2.5%"
   ]
  },
  {
   "cell_type": "markdown",
   "metadata": {},
   "source": [
    "Sample Sizes:\n",
    "* Birthday: 2064\n",
    "* Other days: 978812 "
   ]
  },
  {
   "cell_type": "markdown",
   "metadata": {},
   "source": [
    "Set known values:"
   ]
  },
  {
   "cell_type": "code",
   "execution_count": 2,
   "metadata": {},
   "outputs": [],
   "source": [
    "# Sample Sizes\n",
    "birthday_n=2064\n",
    "otherday_n=978812"
   ]
  },
  {
   "cell_type": "code",
   "execution_count": 3,
   "metadata": {},
   "outputs": [],
   "source": [
    "# Probabilities\n",
    "birthday_p=0.069\n",
    "birthday_p_margin=0.012 # Half the confidence interval size\n",
    "\n",
    "otherday_p=0.056\n",
    "otherday_p_margin=0"
   ]
  },
  {
   "cell_type": "markdown",
   "metadata": {},
   "source": [
    "# Analyse"
   ]
  },
  {
   "cell_type": "markdown",
   "metadata": {},
   "source": [
    "Plot small sample distribution, assuming large sample mean is true."
   ]
  },
  {
   "cell_type": "code",
   "execution_count": 4,
   "metadata": {},
   "outputs": [],
   "source": [
    "p = otherday_p\n",
    "n = birthday_n"
   ]
  },
  {
   "cell_type": "code",
   "execution_count": 5,
   "metadata": {},
   "outputs": [
    {
     "data": {
      "text/plain": [
       "<matplotlib.collections.LineCollection at 0x25cf39a39c8>"
      ]
     },
     "execution_count": 5,
     "metadata": {},
     "output_type": "execute_result"
    },
    {
     "data": {
      "image/png": "[encoded data removed]",
      "text/plain": [
       "<Figure size 432x288 with 1 Axes>"
      ]
     },
     "metadata": {
      "needs_background": "light"
     },
     "output_type": "display_data"
    }
   ],
   "source": [
    "# Distribution of birthday_n sized sample\n",
    "# Assuming otherday_p is true and iid\n",
    "fig, ax = plt.subplots(1, 1)\n",
    "\n",
    "sd = np.sqrt(n*p*(1-p))\n",
    "sd_count_window=4\n",
    "\n",
    "x = np.arange(int(n*p-sd*sd_count_window), int(n*p+sd*sd_count_window))\n",
    "ax.plot(x/n, binom.pmf(x, n, p), 'bo', ms=2, label='binom pmf')\n",
    "ax.vlines(x/n, 0, binom.pmf(x, n, p), colors='b', lw=5, alpha=0.05)"
   ]
  },
  {
   "cell_type": "markdown",
   "metadata": {},
   "source": [
    "Lets suppose the true mortality is 5.6% for all days.\n",
    "\n",
    "What's the chance of observing 6.9% in a sample sized 2,064?"
   ]
  },
  {
   "cell_type": "code",
   "execution_count": 6,
   "metadata": {},
   "outputs": [
    {
     "data": {
      "text/plain": [
       "0.497549232393399"
      ]
     },
     "execution_count": 6,
     "metadata": {},
     "output_type": "execute_result"
    }
   ],
   "source": [
    "# Probability of Exceeding the true mean \n",
    "exceedance_probability = 1 - binom.cdf(otherday_p*n,n,p)\n",
    "exceedance_probability"
   ]
  },
  {
   "cell_type": "code",
   "execution_count": 7,
   "metadata": {},
   "outputs": [
    {
     "data": {
      "text/plain": [
       "0.006130514734890458"
      ]
     },
     "execution_count": 7,
     "metadata": {},
     "output_type": "execute_result"
    }
   ],
   "source": [
    "# Probability of Exceeding the 6.9% \n",
    "exceedance_probability = 1 - binom.cdf(birthday_p*n,n,p)\n",
    "exceedance_probability"
   ]
  },
  {
   "cell_type": "markdown",
   "metadata": {},
   "source": [
    "Conclusion:\n",
    "* Less than 1% samples are as extreme as the birthday sample\n",
    "* This suggests the result is no coincidence\n",
    "* Assumptions:\n",
    "    * iid binomial random variables\n",
    "    * Non-birthday sample mean is the true mean\n",
    "    \n",
    "Caveats:\n",
    "* I'm not sure whether something such as p-hacking or the curse of dimensionality would nullify the conclusion."
   ]
  },
  {
   "cell_type": "markdown",
   "metadata": {},
   "source": [
    "# Appendix\n",
    "### Paper Abstract\n",
    "```\n",
    "Objective To determine whether patient mortality after surgery differs between surgeries performed on surgeons’ birthdays compared with other days of the year.\n",
    "\n",
    "Design Retrospective observational study.\n",
    "\n",
    "Setting US acute care and critical access hospitals.\n",
    "\n",
    "Participants 100% fee-for-service Medicare beneficiaries aged 65 to 99 years who underwent one of 17 common emergency surgical procedures in 2011-14.\n",
    "\n",
    "Main outcome measures Patient postoperative 30 day mortality, defined as death within 30 days after surgery, with adjustment for patient characteristics and surgeon fixed effects.\n",
    "\n",
    "Results 980 876 procedures performed by 47 489 surgeons were analyzed. 2064 (0.2%) of the procedures were performed on surgeons’ birthdays. Patient characteristics, including severity of illness, were similar between patients who underwent surgery on a surgeon’s birthday and those who underwent surgery on other days. The overall unadjusted 30 day mortality on the operating surgeon’s birthday was 7.0% (145/2064) and that on other days was 5.6% (54 824/978 812). After adjusting for patient characteristics and surgeon fixed effects (effectively comparing outcomes of patients treated by the same surgeon on different days), patients who underwent surgery on a surgeon’s birthday exhibited higher mortality compared with patients who underwent surgery on other days (adjusted mortality rate, 6.9% v 5.6%; adjusted difference 1.3%, 95% confidence interval 0.1% to 2.5%; P=0.03). Event study analysis of patient mortality by day of surgery relative to a surgeon’s birthday found similar results.\n",
    "\n",
    "Conclusions Among Medicare beneficiaries who underwent common emergency surgeries, those who received surgery on the surgeon’s birthday experienced higher mortality compared with patients who underwent surgery on other days. These findings suggest that surgeons might be distracted by life events that are not directly related to work.\n",
    "```"
   ]
  }
 ],
 "metadata": {
  "kernelspec": {
   "display_name": "Python 3",
   "language": "python",
   "name": "python3"
  },
  "language_info": {
   "codemirror_mode": {
    "name": "ipython",
    "version": 3
   },
   "file_extension": ".py",
   "mimetype": "text/x-python",
   "name": "python",
   "nbconvert_exporter": "python",
   "pygments_lexer": "ipython3",
   "version": "3.7.6"
  }
 },
 "nbformat": 4,
 "nbformat_minor": 4
}
