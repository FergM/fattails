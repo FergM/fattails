{
 "cells": [
  {
   "cell_type": "markdown",
   "metadata": {},
   "source": [
    "# About\n",
    "Chapter 12: Election Predictions as Martingales"
   ]
  },
  {
   "cell_type": "code",
   "execution_count": 1,
   "metadata": {},
   "outputs": [],
   "source": [
    "import numpy as np\n",
    "import pandas as pd"
   ]
  },
  {
   "cell_type": "markdown",
   "metadata": {},
   "source": [
    "# Figure 12.1: Price as function of Volatility"
   ]
  },
  {
   "cell_type": "markdown",
   "metadata": {},
   "source": [
    "Sidenote about *erfc*:\n",
    "* erfc definition seems to vary depending on source\n",
    "* The version here from scipy gives output in the range [0, 2]\n",
    "* By contrast there's plot on the erfc wikipedia page which is in the range [-1, 1]"
   ]
  },
  {
   "cell_type": "code",
   "execution_count": 2,
   "metadata": {},
   "outputs": [],
   "source": [
    "from scipy.special import erfc, erfinv\n",
    "\n",
    "def get_binary_price(Y0, sigma, t0, T, l=0):\n",
    "    \"\"\"Forecast probability of winning on a binary bet.\n",
    "    \n",
    "    For SCFT chapter 12 election prediction\n",
    "    \n",
    "    SCFT Equation 12.2\n",
    "\n",
    "    \n",
    "    Parameters\n",
    "    ----------\n",
    "    Y0 : float\n",
    "        Current level of the underlying (estimated).\n",
    "        Between 0 and 1, representing 0 to 100% vote share.\n",
    "    sigma : float\n",
    "        Volatility of the shadow brownian motion process.\n",
    "        Should be non-negative.\n",
    "    t0 : float\n",
    "        Current position in time. Should be positive.\n",
    "    T : float\n",
    "        Time at maturity. Should be positive.        \n",
    "    l : float (default: 0)\n",
    "        Success threshold for the X process. Between -inf and +inf.\n",
    "        \n",
    "    Returns\n",
    "    -------\n",
    "    price : float\n",
    "        Binary forecast probability, which can be interpreted as a price.\n",
    "    \"\"\"\n",
    "    \n",
    "    # TOP\n",
    "    top = l - erfinv(2*Y0-1) * np.exp((sigma**2)*(T-t0))\n",
    "\n",
    "    # BOTTOM\n",
    "    bottom_exponent = 2*(sigma**2)*(T-t0)\n",
    "\n",
    "    bottom = np.sqrt(np.exp(bottom_exponent)-1)\n",
    "\n",
    "    # Main Calculation\n",
    "    price = 0.5*erfc(top/bottom)\n",
    "    \n",
    "    return price"
   ]
  },
  {
   "cell_type": "code",
   "execution_count": 3,
   "metadata": {},
   "outputs": [],
   "source": [
    "def get_sigma(Y0, s, t0, T):\n",
    "    \"\"\"Calculate the volatility of the underlying brownian motion.\n",
    "    \n",
    "    Maps underlying volatility s to brownian motion volatility sigma.\n",
    "    \n",
    "    SCFT Equation 12.2\n",
    "    \n",
    "    Parameters\n",
    "    ----------\n",
    "    Y0 : float\n",
    "        Current level of the underlying (estimated).\n",
    "        Between 0 and 1, representing 0 to 100% vote share.\n",
    "    s : float\n",
    "        Volatility of the underlying Y process.\n",
    "        Should be non-negative.\n",
    "    t0 : float\n",
    "        Current position in time. Should be positive.\n",
    "    T : float\n",
    "        Time at maturity. Should be positive.        \n",
    "\n",
    "    Returns:\n",
    "    sigma : float\n",
    "        Volatility of the shadow brownian motion process.\n",
    "    \"\"\"\n",
    "    \n",
    "    top_exponent = 2*erfinv((2*Y0-1)**2)\n",
    "    top_log_input = 2*np.pi*(s**2)*np.exp(top_exponent)+1\n",
    "    top = np.sqrt(np.log(top_log_input))\n",
    "    \n",
    "    bottom = np.sqrt(2*(T-t0))\n",
    "    \n",
    "    sigma = top/bottom\n",
    "    \n",
    "    return sigma"
   ]
  },
  {
   "cell_type": "code",
   "execution_count": 4,
   "metadata": {},
   "outputs": [],
   "source": [
    "def plot_price_df(df, title = 'Price vs. Volatility.', ylabel = 'Binary Formula Price ($)', **kwargs):\n",
    "    \"\"\" Plot Binary Prices against volatility.\n",
    "    \n",
    "    Parameters\n",
    "    ----------\n",
    "    df : pd.DataFrame\n",
    "        * Rows are volatility values\n",
    "        * Columns are vote share fractions\n",
    "        * Values are the binary price\n",
    "\n",
    "    Returns\n",
    "    -------\n",
    "    ax : matplotlib axis\n",
    "        * df rows are the x-axis\n",
    "        * df values are the y-axis\n",
    "        * df columns are the different lines\n",
    "    \"\"\"\n",
    "\n",
    "    # Plot\n",
    "    ax = df.plot(title=title,\n",
    "                 ylabel=ylabel,\n",
    "                 ylim=[-0.1,1.1],\n",
    "                 **kwargs);\n",
    "\n",
    "    # Legend\n",
    "    legend_labels = [f'{share*100:0.0f} %' for share in df.columns]  # Format as %\n",
    "    legend_labels\n",
    "\n",
    "    ax.legend(title='Initial Vote Share:',\n",
    "              labels = legend_labels,\n",
    "              loc=\"center left\", bbox_to_anchor=(1, 0.5));\n",
    "    \n",
    "    return ax"
   ]
  },
  {
   "cell_type": "markdown",
   "metadata": {},
   "source": [
    "### Simple Example"
   ]
  },
  {
   "cell_type": "code",
   "execution_count": 5,
   "metadata": {},
   "outputs": [],
   "source": [
    "# PARAMETERS\n",
    "\n",
    "Y0 = 0.45  # Vote Share\n",
    "\n",
    "t0 = 0\n",
    "T = 30*5  # Time to Maturity\n",
    "\n",
    "sigma = 0.04  # Volatility magnitude"
   ]
  },
  {
   "cell_type": "markdown",
   "metadata": {},
   "source": [
    "Notice how the price gets more extreme when the election is about to happen."
   ]
  },
  {
   "cell_type": "markdown",
   "metadata": {},
   "source": [
    "Price with lots of time:"
   ]
  },
  {
   "cell_type": "code",
   "execution_count": 6,
   "metadata": {},
   "outputs": [
    {
     "data": {
      "text/plain": [
       "0.42"
      ]
     },
     "execution_count": 6,
     "metadata": {},
     "output_type": "execute_result"
    }
   ],
   "source": [
    "get_binary_price(Y0, sigma, t0, T=30*5).round(2)"
   ]
  },
  {
   "cell_type": "markdown",
   "metadata": {},
   "source": [
    "Price near election:"
   ]
  },
  {
   "cell_type": "code",
   "execution_count": 7,
   "metadata": {},
   "outputs": [
    {
     "data": {
      "text/plain": [
       "0.01"
      ]
     },
     "execution_count": 7,
     "metadata": {},
     "output_type": "execute_result"
    }
   ],
   "source": [
    "get_binary_price(Y0, sigma, t0, T=1).round(2)"
   ]
  },
  {
   "cell_type": "markdown",
   "metadata": {},
   "source": [
    "### Tabular Example"
   ]
  },
  {
   "cell_type": "markdown",
   "metadata": {},
   "source": [
    "Make a DataFrame\n",
    "* rows = s_values\n",
    "* columns = Y0_values\n",
    "* values = binary_prices"
   ]
  },
  {
   "cell_type": "code",
   "execution_count": 8,
   "metadata": {},
   "outputs": [
    {
     "data": {
      "text/html": [
       "<div>\n",
       "<style scoped>\n",
       "    .dataframe tbody tr th:only-of-type {\n",
       "        vertical-align: middle;\n",
       "    }\n",
       "\n",
       "    .dataframe tbody tr th {\n",
       "        vertical-align: top;\n",
       "    }\n",
       "\n",
       "    .dataframe thead th {\n",
       "        text-align: right;\n",
       "    }\n",
       "</style>\n",
       "<table border=\"1\" class=\"dataframe\">\n",
       "  <thead>\n",
       "    <tr style=\"text-align: right;\">\n",
       "      <th>vote_share</th>\n",
       "      <th>0.65</th>\n",
       "      <th>0.60</th>\n",
       "      <th>0.55</th>\n",
       "      <th>0.50</th>\n",
       "      <th>0.45</th>\n",
       "      <th>0.40</th>\n",
       "      <th>0.35</th>\n",
       "    </tr>\n",
       "    <tr>\n",
       "      <th>volatility</th>\n",
       "      <th></th>\n",
       "      <th></th>\n",
       "      <th></th>\n",
       "      <th></th>\n",
       "      <th></th>\n",
       "      <th></th>\n",
       "      <th></th>\n",
       "    </tr>\n",
       "  </thead>\n",
       "  <tbody>\n",
       "    <tr>\n",
       "      <th>0.035</th>\n",
       "      <td>0.76</td>\n",
       "      <td>0.68</td>\n",
       "      <td>0.59</td>\n",
       "      <td>0.5</td>\n",
       "      <td>0.41</td>\n",
       "      <td>0.32</td>\n",
       "      <td>0.24</td>\n",
       "    </tr>\n",
       "    <tr>\n",
       "      <th>0.036</th>\n",
       "      <td>0.75</td>\n",
       "      <td>0.67</td>\n",
       "      <td>0.59</td>\n",
       "      <td>0.5</td>\n",
       "      <td>0.41</td>\n",
       "      <td>0.33</td>\n",
       "      <td>0.25</td>\n",
       "    </tr>\n",
       "    <tr>\n",
       "      <th>0.037</th>\n",
       "      <td>0.75</td>\n",
       "      <td>0.67</td>\n",
       "      <td>0.59</td>\n",
       "      <td>0.5</td>\n",
       "      <td>0.41</td>\n",
       "      <td>0.33</td>\n",
       "      <td>0.25</td>\n",
       "    </tr>\n",
       "    <tr>\n",
       "      <th>0.038</th>\n",
       "      <td>0.74</td>\n",
       "      <td>0.67</td>\n",
       "      <td>0.58</td>\n",
       "      <td>0.5</td>\n",
       "      <td>0.42</td>\n",
       "      <td>0.33</td>\n",
       "      <td>0.26</td>\n",
       "    </tr>\n",
       "    <tr>\n",
       "      <th>0.039</th>\n",
       "      <td>0.74</td>\n",
       "      <td>0.66</td>\n",
       "      <td>0.58</td>\n",
       "      <td>0.5</td>\n",
       "      <td>0.42</td>\n",
       "      <td>0.34</td>\n",
       "      <td>0.26</td>\n",
       "    </tr>\n",
       "  </tbody>\n",
       "</table>\n",
       "</div>"
      ],
      "text/plain": [
       "vote_share  0.65  0.60  0.55  0.50  0.45  0.40  0.35\n",
       "volatility                                          \n",
       "0.035       0.76  0.68  0.59   0.5  0.41  0.32  0.24\n",
       "0.036       0.75  0.67  0.59   0.5  0.41  0.33  0.25\n",
       "0.037       0.75  0.67  0.59   0.5  0.41  0.33  0.25\n",
       "0.038       0.74  0.67  0.58   0.5  0.42  0.33  0.26\n",
       "0.039       0.74  0.66  0.58   0.5  0.42  0.34  0.26"
      ]
     },
     "metadata": {},
     "output_type": "display_data"
    }
   ],
   "source": [
    "# Row Values\n",
    "s_values = np.arange(0, 0.04, step=0.001)\n",
    "s_values = pd.Series(s_values, name='volatility')\n",
    "\n",
    "# Column Values\n",
    "Y0_values = [0.65, 0.60, 0.55, 0.50, 0.45, 0.40, 0.35]\n",
    "\n",
    "# Time to Maturity\n",
    "t0 = 0\n",
    "T = 30*5  \n",
    "\n",
    "# Make Columns\n",
    "data = {}\n",
    "for Y0_value in Y0_values:\n",
    "    \n",
    "    data[Y0_value] = s_values.apply(lambda s_value: get_binary_price(Y0_value, s_value, t0, T))\n",
    "\n",
    "# Make DataFrame\n",
    "df = pd.DataFrame(data)\n",
    "df.columns.name = 'vote_share'\n",
    "df.index = s_values\n",
    "\n",
    "display(df.tail().round(2))"
   ]
  },
  {
   "cell_type": "code",
   "execution_count": 9,
   "metadata": {},
   "outputs": [
    {
     "data": {
      "image/png": "[encoded data removed]",
      "text/plain": [
       "<Figure size 432x288 with 1 Axes>"
      ]
     },
     "metadata": {
      "needs_background": "light"
     },
     "output_type": "display_data"
    }
   ],
   "source": [
    "column_selection = [0.5, 0.45]\n",
    "\n",
    "plot_price_df(df.loc[:, column_selection]);"
   ]
  },
  {
   "cell_type": "code",
   "execution_count": 10,
   "metadata": {},
   "outputs": [
    {
     "data": {
      "image/png": "[encoded data removed]",
      "text/plain": [
       "<Figure size 432x288 with 1 Axes>"
      ]
     },
     "metadata": {
      "needs_background": "light"
     },
     "output_type": "display_data"
    }
   ],
   "source": [
    "column_selection = [0.55, 0.5, 0.45]\n",
    "\n",
    "plot_price_df(df.loc[:, column_selection]);"
   ]
  },
  {
   "cell_type": "code",
   "execution_count": 11,
   "metadata": {},
   "outputs": [
    {
     "data": {
      "image/png": "[encoded data removed]",
      "text/plain": [
       "<Figure size 432x288 with 1 Axes>"
      ]
     },
     "metadata": {
      "needs_background": "light"
     },
     "output_type": "display_data"
    }
   ],
   "source": [
    "plot_price_df(df);"
   ]
  },
  {
   "cell_type": "code",
   "execution_count": null,
   "metadata": {},
   "outputs": [],
   "source": []
  }
 ],
 "metadata": {
  "kernelspec": {
   "display_name": "Python (myenv)",
   "language": "python",
   "name": "env"
  },
  "language_info": {
   "codemirror_mode": {
    "name": "ipython",
    "version": 3
   },
   "file_extension": ".py",
   "mimetype": "text/x-python",
   "name": "python",
   "nbconvert_exporter": "python",
   "pygments_lexer": "ipython3",
   "version": "3.9.2"
  }
 },
 "nbformat": 4,
 "nbformat_minor": 4
}
