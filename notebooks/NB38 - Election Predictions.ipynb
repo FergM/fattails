{
 "cells": [
  {
   "cell_type": "markdown",
   "metadata": {},
   "source": [
    "# About\n",
    "Chapter 12: Election Predictions as Martingales"
   ]
  },
  {
   "cell_type": "code",
   "execution_count": 1,
   "metadata": {},
   "outputs": [],
   "source": [
    "import numpy as np\n",
    "import pandas as pd"
   ]
  },
  {
   "cell_type": "markdown",
   "metadata": {},
   "source": [
    "# Figure 12.1: Price as function of Volatility"
   ]
  },
  {
   "cell_type": "markdown",
   "metadata": {},
   "source": [
    "Sidenote about *erfc*:\n",
    "* erfc definition seems to vary depending on source\n",
    "* The version here from scipy gives output in the range [0, 2]\n",
    "* By contrast there's plot on the erfc wikipedia page which is in the range [-1, 1]"
   ]
  },
  {
   "cell_type": "code",
   "execution_count": 2,
   "metadata": {},
   "outputs": [],
   "source": [
    "from scipy.special import erfc, erfinv\n",
    "\n",
    "def binary_price_sigma(Y0, sigma, t0, T, l=0):\n",
    "    \"\"\"Forecast probability of winning on a binary bet.\n",
    "    \n",
    "    For SCFT chapter 12 election prediction\n",
    "    \n",
    "    SCFT Equation 12.2\n",
    "\n",
    "    \n",
    "    Parameters\n",
    "    ----------\n",
    "    Y0 : float\n",
    "        Current level of the underlying (estimated).\n",
    "        Between 0 and 1, representing 0 to 100% vote share.\n",
    "    sigma : float\n",
    "        Volatility of the shadow brownian motion process.\n",
    "        Should be non-negative.\n",
    "    t0 : float\n",
    "        Current position in time. Should be positive.\n",
    "    T : float\n",
    "        Time at maturity. Should be positive.        \n",
    "    l : float (default: 0)\n",
    "        Success threshold for the X process. Between -inf and +inf.\n",
    "        \n",
    "    Returns\n",
    "    -------\n",
    "    price : float\n",
    "        Binary forecast probability, which can be interpreted as a price.\n",
    "    \"\"\"\n",
    "    \n",
    "    # TOP\n",
    "    top = l - erfinv(2*Y0-1) * np.exp((sigma**2)*(T-t0))\n",
    "\n",
    "    # BOTTOM\n",
    "    bottom_exponent = 2*(sigma**2)*(T-t0)\n",
    "\n",
    "    bottom = np.sqrt(np.exp(bottom_exponent)-1)\n",
    "\n",
    "    # Main Calculation\n",
    "    price = 0.5*erfc(top/bottom)\n",
    "    \n",
    "    return price"
   ]
  },
  {
   "cell_type": "code",
   "execution_count": 3,
   "metadata": {},
   "outputs": [],
   "source": [
    "def binary_price_s(Y0, s, t0, T, l=0.5):\n",
    "    \"\"\"Forecast probability of winning on a binary bet.\n",
    "    \n",
    "    For SCFT chapter 12 election prediction\n",
    "    \n",
    "    SCFT Equation 12.2\n",
    "\n",
    "    \n",
    "    Parameters\n",
    "    ----------\n",
    "    Y0 : float\n",
    "        Current level of the underlying (estimated).\n",
    "        Between 0 and 1, representing 0 to 100% vote share.\n",
    "    s : float\n",
    "        Volatility of the underlying Y process.\n",
    "        Should be non-negative.\n",
    "    t0 : float\n",
    "        Current position in time. Should be positive.\n",
    "    T : float\n",
    "        Time at maturity. Should be positive.        \n",
    "    l : float (default: 0.5)\n",
    "        Success threshold. Between 0 and 1.\n",
    "        \n",
    "    Returns\n",
    "    -------\n",
    "    price : float\n",
    "        Binary forecast probability, which can be interpreted as a price.\n",
    "    \"\"\"\n",
    "    sigma = get_sigma(Y0, s, t0, T)\n",
    "    \n",
    "    binary_price_sigma(Y0, sigma, t0, T, l=0.5)\n",
    "    \n",
    "    return price"
   ]
  },
  {
   "cell_type": "code",
   "execution_count": 4,
   "metadata": {},
   "outputs": [],
   "source": [
    "def get_sigma(Y0, s, t0, T):\n",
    "    \"\"\"Calculate the volatility of the underlying brownian motion.\n",
    "    \n",
    "    Maps underlying volatility s to brownian motion volatility sigma.\n",
    "    \n",
    "    SCFT Equation 12.2\n",
    "    \n",
    "    Parameters\n",
    "    ----------\n",
    "    Y0 : float\n",
    "        Current level of the underlying (estimated).\n",
    "        Between 0 and 1, representing 0 to 100% vote share.\n",
    "    s : float\n",
    "        Volatility of the underlying Y process.\n",
    "        Should be non-negative.\n",
    "    t0 : float\n",
    "        Current position in time. Should be positive.\n",
    "    T : float\n",
    "        Time at maturity. Should be positive.        \n",
    "\n",
    "    Returns:\n",
    "    sigma : float\n",
    "        Volatility of the shadow brownian motion process.\n",
    "    \"\"\"\n",
    "    \n",
    "    top_exponent = 2*erfinv((2*Y0-1)**2)\n",
    "    top_log_input = 2*np.pi*(s**2)*np.exp(top_exponent)+1\n",
    "    top = np.sqrt(np.log(top_log_input))\n",
    "    \n",
    "    bottom = np.sqrt(2*(T-t0))\n",
    "    \n",
    "    sigma = top/bottom\n",
    "    \n",
    "    return sigma"
   ]
  },
  {
   "cell_type": "markdown",
   "metadata": {},
   "source": [
    "### Simple Example"
   ]
  },
  {
   "cell_type": "code",
   "execution_count": 5,
   "metadata": {},
   "outputs": [],
   "source": [
    "Y0 = 0.49\n",
    "s = 0.10\n",
    "t0 = 0\n",
    "T = 100"
   ]
  },
  {
   "cell_type": "code",
   "execution_count": 6,
   "metadata": {},
   "outputs": [],
   "source": [
    "sigma = 0.10"
   ]
  },
  {
   "cell_type": "code",
   "execution_count": 7,
   "metadata": {},
   "outputs": [],
   "source": [
    "#binary_price_s(Y0, s, t0, T)\n",
    "#binary_price_sigma(Y0, get_sigma(Y0, s, t0, T), t0, T)"
   ]
  },
  {
   "cell_type": "code",
   "execution_count": 8,
   "metadata": {},
   "outputs": [
    {
     "data": {
      "text/plain": [
       "0.4892460252600498"
      ]
     },
     "execution_count": 8,
     "metadata": {},
     "output_type": "execute_result"
    }
   ],
   "source": [
    "binary_price_sigma(Y0, sigma, t0, T)"
   ]
  },
  {
   "cell_type": "markdown",
   "metadata": {},
   "source": [
    "Comment:\n",
    "* Temporarily use the sigma formula because the s version seems insensitive to time to maturity\n",
    "* To be debugged"
   ]
  },
  {
   "cell_type": "markdown",
   "metadata": {},
   "source": [
    "### Tabular Example"
   ]
  },
  {
   "cell_type": "code",
   "execution_count": 9,
   "metadata": {},
   "outputs": [],
   "source": [
    "s_values = np.arange(0, 0.13, step=0.001)\n",
    "s_values = pd.Series(s_values, name='volatility')\n",
    "\n",
    "Y0_values = [0.42, 0.44, 0.46, 0.48, 0.5]"
   ]
  },
  {
   "cell_type": "code",
   "execution_count": 10,
   "metadata": {},
   "outputs": [
    {
     "data": {
      "text/html": [
       "<div>\n",
       "<style scoped>\n",
       "    .dataframe tbody tr th:only-of-type {\n",
       "        vertical-align: middle;\n",
       "    }\n",
       "\n",
       "    .dataframe tbody tr th {\n",
       "        vertical-align: top;\n",
       "    }\n",
       "\n",
       "    .dataframe thead th {\n",
       "        text-align: right;\n",
       "    }\n",
       "</style>\n",
       "<table border=\"1\" class=\"dataframe\">\n",
       "  <thead>\n",
       "    <tr style=\"text-align: right;\">\n",
       "      <th></th>\n",
       "      <th>0.42</th>\n",
       "      <th>0.44</th>\n",
       "      <th>0.46</th>\n",
       "      <th>0.48</th>\n",
       "      <th>0.50</th>\n",
       "    </tr>\n",
       "    <tr>\n",
       "      <th>volatility</th>\n",
       "      <th></th>\n",
       "      <th></th>\n",
       "      <th></th>\n",
       "      <th></th>\n",
       "      <th></th>\n",
       "    </tr>\n",
       "  </thead>\n",
       "  <tbody>\n",
       "    <tr>\n",
       "      <th>0.000</th>\n",
       "      <td>0.000000e+00</td>\n",
       "      <td>0.000000e+00</td>\n",
       "      <td>0.000000e+00</td>\n",
       "      <td>0.000000e+00</td>\n",
       "      <td>NaN</td>\n",
       "    </tr>\n",
       "    <tr>\n",
       "      <th>0.001</th>\n",
       "      <td>0.000000e+00</td>\n",
       "      <td>4.091639e-250</td>\n",
       "      <td>5.371756e-112</td>\n",
       "      <td>1.726031e-29</td>\n",
       "      <td>0.5</td>\n",
       "    </tr>\n",
       "    <tr>\n",
       "      <th>0.002</th>\n",
       "      <td>4.007553e-113</td>\n",
       "      <td>3.199828e-64</td>\n",
       "      <td>1.467994e-29</td>\n",
       "      <td>1.026627e-08</td>\n",
       "      <td>0.5</td>\n",
       "    </tr>\n",
       "    <tr>\n",
       "      <th>0.003</th>\n",
       "      <td>1.754353e-51</td>\n",
       "      <td>1.118125e-29</td>\n",
       "      <td>3.544158e-14</td>\n",
       "      <td>9.259918e-05</td>\n",
       "      <td>0.5</td>\n",
       "    </tr>\n",
       "    <tr>\n",
       "      <th>0.004</th>\n",
       "      <td>7.599149e-30</td>\n",
       "      <td>1.585184e-17</td>\n",
       "      <td>9.835799e-09</td>\n",
       "      <td>2.524468e-03</td>\n",
       "      <td>0.5</td>\n",
       "    </tr>\n",
       "    <tr>\n",
       "      <th>...</th>\n",
       "      <td>...</td>\n",
       "      <td>...</td>\n",
       "      <td>...</td>\n",
       "      <td>...</td>\n",
       "      <td>...</td>\n",
       "    </tr>\n",
       "    <tr>\n",
       "      <th>0.125</th>\n",
       "      <td>3.483748e-01</td>\n",
       "      <td>3.853675e-01</td>\n",
       "      <td>4.231405e-01</td>\n",
       "      <td>4.614384e-01</td>\n",
       "      <td>0.5</td>\n",
       "    </tr>\n",
       "    <tr>\n",
       "      <th>0.126</th>\n",
       "      <td>3.493489e-01</td>\n",
       "      <td>3.861205e-01</td>\n",
       "      <td>4.236534e-01</td>\n",
       "      <td>4.616981e-01</td>\n",
       "      <td>0.5</td>\n",
       "    </tr>\n",
       "    <tr>\n",
       "      <th>0.127</th>\n",
       "      <td>3.503072e-01</td>\n",
       "      <td>3.868610e-01</td>\n",
       "      <td>4.241576e-01</td>\n",
       "      <td>4.619534e-01</td>\n",
       "      <td>0.5</td>\n",
       "    </tr>\n",
       "    <tr>\n",
       "      <th>0.128</th>\n",
       "      <td>3.512500e-01</td>\n",
       "      <td>3.875892e-01</td>\n",
       "      <td>4.246532e-01</td>\n",
       "      <td>4.622043e-01</td>\n",
       "      <td>0.5</td>\n",
       "    </tr>\n",
       "    <tr>\n",
       "      <th>0.129</th>\n",
       "      <td>3.521778e-01</td>\n",
       "      <td>3.883055e-01</td>\n",
       "      <td>4.251406e-01</td>\n",
       "      <td>4.624510e-01</td>\n",
       "      <td>0.5</td>\n",
       "    </tr>\n",
       "  </tbody>\n",
       "</table>\n",
       "<p>130 rows × 5 columns</p>\n",
       "</div>"
      ],
      "text/plain": [
       "                     0.42           0.44           0.46          0.48  0.50\n",
       "volatility                                                                 \n",
       "0.000        0.000000e+00   0.000000e+00   0.000000e+00  0.000000e+00   NaN\n",
       "0.001        0.000000e+00  4.091639e-250  5.371756e-112  1.726031e-29   0.5\n",
       "0.002       4.007553e-113   3.199828e-64   1.467994e-29  1.026627e-08   0.5\n",
       "0.003        1.754353e-51   1.118125e-29   3.544158e-14  9.259918e-05   0.5\n",
       "0.004        7.599149e-30   1.585184e-17   9.835799e-09  2.524468e-03   0.5\n",
       "...                   ...            ...            ...           ...   ...\n",
       "0.125        3.483748e-01   3.853675e-01   4.231405e-01  4.614384e-01   0.5\n",
       "0.126        3.493489e-01   3.861205e-01   4.236534e-01  4.616981e-01   0.5\n",
       "0.127        3.503072e-01   3.868610e-01   4.241576e-01  4.619534e-01   0.5\n",
       "0.128        3.512500e-01   3.875892e-01   4.246532e-01  4.622043e-01   0.5\n",
       "0.129        3.521778e-01   3.883055e-01   4.251406e-01  4.624510e-01   0.5\n",
       "\n",
       "[130 rows x 5 columns]"
      ]
     },
     "metadata": {},
     "output_type": "display_data"
    },
    {
     "data": {
      "image/png": "[encoded data removed]",
      "text/plain": [
       "<Figure size 432x288 with 1 Axes>"
      ]
     },
     "metadata": {
      "needs_background": "light"
     },
     "output_type": "display_data"
    }
   ],
   "source": [
    "# Generate DataFrame\n",
    "# * columns = Y0_values\n",
    "# * rows = s_values\n",
    "\n",
    "data = {}\n",
    "\n",
    "for Y0_value in Y0_values:\n",
    "    \n",
    "    data[Y0_value] = s_values.apply(lambda s_value: binary_price_sigma(Y0_value, s_value, t0, 10))\n",
    "    \n",
    "df = pd.DataFrame(data)\n",
    "df.index = s_values\n",
    "\n",
    "display(df)\n",
    "ax = df.plot(title=f'Price as function of Volatility. (t0={t0}, T={T})',\n",
    "             ylabel='Implied Price (USD)');\n",
    "ax.legend(title='Initial Value: Y0');"
   ]
  },
  {
   "cell_type": "code",
   "execution_count": null,
   "metadata": {},
   "outputs": [],
   "source": []
  }
 ],
 "metadata": {
  "kernelspec": {
   "display_name": "Python (myenv)",
   "language": "python",
   "name": "env"
  },
  "language_info": {
   "codemirror_mode": {
    "name": "ipython",
    "version": 3
   },
   "file_extension": ".py",
   "mimetype": "text/x-python",
   "name": "python",
   "nbconvert_exporter": "python",
   "pygments_lexer": "ipython3",
   "version": "3.9.2"
  }
 },
 "nbformat": 4,
 "nbformat_minor": 4
}
