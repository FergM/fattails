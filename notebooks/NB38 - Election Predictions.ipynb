{
 "cells": [
  {
   "cell_type": "markdown",
   "metadata": {},
   "source": [
    "# About\n",
    "Chapter 12: Election Predictions as Martingales"
   ]
  },
  {
   "cell_type": "code",
   "execution_count": 7,
   "metadata": {},
   "outputs": [],
   "source": [
    "import numpy as np\n",
    "import pandas as pd"
   ]
  },
  {
   "cell_type": "markdown",
   "metadata": {},
   "source": [
    "# Figure 12.1: Price as function of Volatility"
   ]
  },
  {
   "cell_type": "code",
   "execution_count": 176,
   "metadata": {},
   "outputs": [],
   "source": [
    "from scipy.special import erfc, erfinv\n",
    "\n",
    "def binary_price_sigma(Y0, sigma, t0, T, l=0):\n",
    "    \"\"\"Forecast probability of winning on a binary bet.\n",
    "    \n",
    "    For SCFT chapter 12 election prediction\n",
    "    \n",
    "    SCFT Equation 12.2\n",
    "\n",
    "    \n",
    "    Parameters\n",
    "    ----------\n",
    "    Y0 : float\n",
    "        Current level of the underlying (estimated).\n",
    "        Between 0 and 1, representing 0 to 100% vote share.\n",
    "    sigma : float\n",
    "        Volatility of the shadow brownian motion process.\n",
    "        Should be non-negative.\n",
    "    t0 : float\n",
    "        Current position in time. Should be positive.\n",
    "    T : float\n",
    "        Time at maturity. Should be positive.        \n",
    "    l : float (default: 0)\n",
    "        Success threshold for the X process. Between -inf and +inf.\n",
    "        \n",
    "    Returns\n",
    "    -------\n",
    "    price : float\n",
    "        Binary forecast probability, which can be interpreted as a price.\n",
    "    \"\"\"\n",
    "    \n",
    "    # TOP\n",
    "    top = l - erfinv(2*Y0-1) * np.exp((sigma**2)*(T-t0))\n",
    "\n",
    "    # BOTTOM\n",
    "    bottom_exponent = 2*(sigma**2)*(T-t0)\n",
    "\n",
    "    bottom = np.sqrt(np.exp(bottom_exponent)-1)\n",
    "\n",
    "    # Main Calculation\n",
    "    price = 0.5*erfc(top/bottom)\n",
    "    \n",
    "    return price"
   ]
  },
  {
   "cell_type": "code",
   "execution_count": 177,
   "metadata": {},
   "outputs": [],
   "source": [
    "def binary_price_s(Y0, s, t0, T, l=0.5):\n",
    "    \"\"\"Forecast probability of winning on a binary bet.\n",
    "    \n",
    "    For SCFT chapter 12 election prediction\n",
    "    \n",
    "    SCFT Equation 12.2\n",
    "\n",
    "    \n",
    "    Parameters\n",
    "    ----------\n",
    "    Y0 : float\n",
    "        Current level of the underlying (estimated).\n",
    "        Between 0 and 1, representing 0 to 100% vote share.\n",
    "    s : float\n",
    "        Volatility of the underlying Y process.\n",
    "        Should be non-negative.\n",
    "    t0 : float\n",
    "        Current position in time. Should be positive.\n",
    "    T : float\n",
    "        Time at maturity. Should be positive.        \n",
    "    l : float (default: 0.5)\n",
    "        Success threshold. Between 0 and 1.\n",
    "        \n",
    "    Returns\n",
    "    -------\n",
    "    price : float\n",
    "        Binary forecast probability, which can be interpreted as a price.\n",
    "    \"\"\"\n",
    "    sigma = get_sigma(Y0, s, t0, T)\n",
    "    \n",
    "    # TOP\n",
    "    top = l - erfinv(2*Y0-1) * np.exp((sigma**2)*(T-t0))\n",
    "\n",
    "    # BOTTOM\n",
    "    bottom_exponent = 2*(sigma**2)*(T-t0)\n",
    "\n",
    "    bottom = np.sqrt(np.exp(bottom_exponent)-1)\n",
    "\n",
    "    # Main Calculation\n",
    "    price = 0.5*erfc(top/bottom)\n",
    "    \n",
    "    return price"
   ]
  },
  {
   "cell_type": "code",
   "execution_count": 178,
   "metadata": {},
   "outputs": [],
   "source": [
    "def get_sigma(Y0, s, t0, T):\n",
    "    \"\"\"Calculate the volatility of the underlying brownian motion.\n",
    "    \n",
    "    Maps underlying volatility s to brownian motion volatility sigma.\n",
    "    \n",
    "    SCFT Equation 12.2\n",
    "    \n",
    "    Parameters\n",
    "    ----------\n",
    "    Y0 : float\n",
    "        Current level of the underlying (estimated).\n",
    "        Between 0 and 1, representing 0 to 100% vote share.\n",
    "    s : float\n",
    "        Volatility of the underlying Y process.\n",
    "        Should be non-negative.\n",
    "    t0 : float\n",
    "        Current position in time. Should be positive.\n",
    "    T : float\n",
    "        Time at maturity. Should be positive.        \n",
    "\n",
    "    Returns:\n",
    "    sigma : float\n",
    "        Volatility of the shadow brownian motion process.\n",
    "    \"\"\"\n",
    "    \n",
    "    top_exponent = 2*erfinv(2*Y0-1)**2\n",
    "    top_log_input = 2*np.pi*(s**2)*np.exp(top_exponent)+1\n",
    "    top = np.sqrt(np.log(top_log_input))\n",
    "    \n",
    "    bottom = np.sqrt(2*(T-t0))\n",
    "    \n",
    "    sigma = top/bottom\n",
    "    \n",
    "    return sigma"
   ]
  },
  {
   "cell_type": "markdown",
   "metadata": {},
   "source": [
    "### Simple Example"
   ]
  },
  {
   "cell_type": "code",
   "execution_count": 219,
   "metadata": {},
   "outputs": [],
   "source": [
    "Y0 = 0.49\n",
    "s = 0.10\n",
    "t0 = 0\n",
    "T = 100"
   ]
  },
  {
   "cell_type": "code",
   "execution_count": 220,
   "metadata": {},
   "outputs": [],
   "source": [
    "sigma = 0.10"
   ]
  },
  {
   "cell_type": "code",
   "execution_count": 221,
   "metadata": {},
   "outputs": [],
   "source": [
    "#binary_price_s(Y0, s, t0, T)\n",
    "#binary_price_sigma(Y0, get_sigma(Y0, s, t0, T), t0, T)"
   ]
  },
  {
   "cell_type": "code",
   "execution_count": 222,
   "metadata": {},
   "outputs": [
    {
     "data": {
      "text/plain": [
       "0.37953310001914764"
      ]
     },
     "execution_count": 222,
     "metadata": {},
     "output_type": "execute_result"
    }
   ],
   "source": [
    "binary_price_sigma(Y0, sigma, t0, T)"
   ]
  },
  {
   "cell_type": "markdown",
   "metadata": {},
   "source": [
    "Comment:\n",
    "* Temporarily use the sigma formula because the s version seems insensitive to time to maturity\n",
    "* To be debugged"
   ]
  },
  {
   "cell_type": "markdown",
   "metadata": {},
   "source": [
    "### Tabular Example"
   ]
  },
  {
   "cell_type": "code",
   "execution_count": 223,
   "metadata": {},
   "outputs": [],
   "source": [
    "s_values = np.arange(0, 0.13, step=0.01)\n",
    "s_values = pd.Series(s_values, name='volatility')\n",
    "\n",
    "Y0_values = [0.42, 0.44, 0.46, 0.48, 0.5]"
   ]
  },
  {
   "cell_type": "code",
   "execution_count": 224,
   "metadata": {},
   "outputs": [
    {
     "data": {
      "text/html": [
       "<div>\n",
       "<style scoped>\n",
       "    .dataframe tbody tr th:only-of-type {\n",
       "        vertical-align: middle;\n",
       "    }\n",
       "\n",
       "    .dataframe tbody tr th {\n",
       "        vertical-align: top;\n",
       "    }\n",
       "\n",
       "    .dataframe thead th {\n",
       "        text-align: right;\n",
       "    }\n",
       "</style>\n",
       "<table border=\"1\" class=\"dataframe\">\n",
       "  <thead>\n",
       "    <tr style=\"text-align: right;\">\n",
       "      <th></th>\n",
       "      <th>0.42</th>\n",
       "      <th>0.44</th>\n",
       "      <th>0.46</th>\n",
       "      <th>0.48</th>\n",
       "      <th>0.50</th>\n",
       "    </tr>\n",
       "    <tr>\n",
       "      <th>volatility</th>\n",
       "      <th></th>\n",
       "      <th></th>\n",
       "      <th></th>\n",
       "      <th></th>\n",
       "      <th></th>\n",
       "    </tr>\n",
       "  </thead>\n",
       "  <tbody>\n",
       "    <tr>\n",
       "      <th>0.00</th>\n",
       "      <td>0.000000e+00</td>\n",
       "      <td>0.000000e+00</td>\n",
       "      <td>0.000000e+00</td>\n",
       "      <td>0.000000e+00</td>\n",
       "      <td>0.000000e+00</td>\n",
       "    </tr>\n",
       "    <tr>\n",
       "      <th>0.01</th>\n",
       "      <td>7.287093e-11</td>\n",
       "      <td>7.338370e-10</td>\n",
       "      <td>6.398693e-09</td>\n",
       "      <td>4.871985e-08</td>\n",
       "      <td>3.262029e-07</td>\n",
       "    </tr>\n",
       "    <tr>\n",
       "      <th>0.02</th>\n",
       "      <td>7.407225e-04</td>\n",
       "      <td>1.373859e-03</td>\n",
       "      <td>2.458805e-03</td>\n",
       "      <td>4.256105e-03</td>\n",
       "      <td>7.139439e-03</td>\n",
       "    </tr>\n",
       "    <tr>\n",
       "      <th>0.03</th>\n",
       "      <td>1.832287e-02</td>\n",
       "      <td>2.475232e-02</td>\n",
       "      <td>3.290558e-02</td>\n",
       "      <td>4.309703e-02</td>\n",
       "      <td>5.566379e-02</td>\n",
       "    </tr>\n",
       "    <tr>\n",
       "      <th>0.04</th>\n",
       "      <td>6.211714e-02</td>\n",
       "      <td>7.494377e-02</td>\n",
       "      <td>8.957780e-02</td>\n",
       "      <td>1.061478e-01</td>\n",
       "      <td>1.247759e-01</td>\n",
       "    </tr>\n",
       "    <tr>\n",
       "      <th>0.05</th>\n",
       "      <td>1.151120e-01</td>\n",
       "      <td>1.316558e-01</td>\n",
       "      <td>1.496271e-01</td>\n",
       "      <td>1.690624e-01</td>\n",
       "      <td>1.899930e-01</td>\n",
       "    </tr>\n",
       "    <tr>\n",
       "      <th>0.06</th>\n",
       "      <td>1.659174e-01</td>\n",
       "      <td>1.842351e-01</td>\n",
       "      <td>2.036079e-01</td>\n",
       "      <td>2.240400e-01</td>\n",
       "      <td>2.455333e-01</td>\n",
       "    </tr>\n",
       "    <tr>\n",
       "      <th>0.07</th>\n",
       "      <td>2.108351e-01</td>\n",
       "      <td>2.299243e-01</td>\n",
       "      <td>2.497879e-01</td>\n",
       "      <td>2.704205e-01</td>\n",
       "      <td>2.918164e-01</td>\n",
       "    </tr>\n",
       "    <tr>\n",
       "      <th>0.08</th>\n",
       "      <td>2.493861e-01</td>\n",
       "      <td>2.687857e-01</td>\n",
       "      <td>2.887590e-01</td>\n",
       "      <td>3.092988e-01</td>\n",
       "      <td>3.303986e-01</td>\n",
       "    </tr>\n",
       "    <tr>\n",
       "      <th>0.09</th>\n",
       "      <td>2.820852e-01</td>\n",
       "      <td>3.016023e-01</td>\n",
       "      <td>3.215491e-01</td>\n",
       "      <td>3.419195e-01</td>\n",
       "      <td>3.627078e-01</td>\n",
       "    </tr>\n",
       "    <tr>\n",
       "      <th>0.10</th>\n",
       "      <td>3.096414e-01</td>\n",
       "      <td>3.292076e-01</td>\n",
       "      <td>3.490984e-01</td>\n",
       "      <td>3.693091e-01</td>\n",
       "      <td>3.898355e-01</td>\n",
       "    </tr>\n",
       "    <tr>\n",
       "      <th>0.11</th>\n",
       "      <td>3.327165e-01</td>\n",
       "      <td>3.523169e-01</td>\n",
       "      <td>3.721636e-01</td>\n",
       "      <td>3.922530e-01</td>\n",
       "      <td>4.125822e-01</td>\n",
       "    </tr>\n",
       "    <tr>\n",
       "      <th>0.12</th>\n",
       "      <td>3.518786e-01</td>\n",
       "      <td>3.715175e-01</td>\n",
       "      <td>3.913430e-01</td>\n",
       "      <td>4.113527e-01</td>\n",
       "      <td>4.315446e-01</td>\n",
       "    </tr>\n",
       "  </tbody>\n",
       "</table>\n",
       "</div>"
      ],
      "text/plain": [
       "                    0.42          0.44          0.46          0.48  \\\n",
       "volatility                                                           \n",
       "0.00        0.000000e+00  0.000000e+00  0.000000e+00  0.000000e+00   \n",
       "0.01        7.287093e-11  7.338370e-10  6.398693e-09  4.871985e-08   \n",
       "0.02        7.407225e-04  1.373859e-03  2.458805e-03  4.256105e-03   \n",
       "0.03        1.832287e-02  2.475232e-02  3.290558e-02  4.309703e-02   \n",
       "0.04        6.211714e-02  7.494377e-02  8.957780e-02  1.061478e-01   \n",
       "0.05        1.151120e-01  1.316558e-01  1.496271e-01  1.690624e-01   \n",
       "0.06        1.659174e-01  1.842351e-01  2.036079e-01  2.240400e-01   \n",
       "0.07        2.108351e-01  2.299243e-01  2.497879e-01  2.704205e-01   \n",
       "0.08        2.493861e-01  2.687857e-01  2.887590e-01  3.092988e-01   \n",
       "0.09        2.820852e-01  3.016023e-01  3.215491e-01  3.419195e-01   \n",
       "0.10        3.096414e-01  3.292076e-01  3.490984e-01  3.693091e-01   \n",
       "0.11        3.327165e-01  3.523169e-01  3.721636e-01  3.922530e-01   \n",
       "0.12        3.518786e-01  3.715175e-01  3.913430e-01  4.113527e-01   \n",
       "\n",
       "                    0.50  \n",
       "volatility                \n",
       "0.00        0.000000e+00  \n",
       "0.01        3.262029e-07  \n",
       "0.02        7.139439e-03  \n",
       "0.03        5.566379e-02  \n",
       "0.04        1.247759e-01  \n",
       "0.05        1.899930e-01  \n",
       "0.06        2.455333e-01  \n",
       "0.07        2.918164e-01  \n",
       "0.08        3.303986e-01  \n",
       "0.09        3.627078e-01  \n",
       "0.10        3.898355e-01  \n",
       "0.11        4.125822e-01  \n",
       "0.12        4.315446e-01  "
      ]
     },
     "metadata": {},
     "output_type": "display_data"
    },
    {
     "data": {
      "image/png": "[encoded data removed]",
      "text/plain": [
       "<Figure size 432x288 with 1 Axes>"
      ]
     },
     "metadata": {
      "needs_background": "light"
     },
     "output_type": "display_data"
    }
   ],
   "source": [
    "# Generate DataFrame\n",
    "# * columns = Y0_values\n",
    "# * rows = s_values\n",
    "\n",
    "data = {}\n",
    "\n",
    "for Y0_value in Y0_values:\n",
    "    \n",
    "    data[Y0_value] = s_values.apply(lambda s_value: binary_price_sigma(Y0_value, s_value, t0, T))\n",
    "    \n",
    "df = pd.DataFrame(data)\n",
    "df.index = s_values\n",
    "\n",
    "display(df)\n",
    "df.plot();"
   ]
  },
  {
   "cell_type": "markdown",
   "metadata": {},
   "source": [
    "Comment:\n",
    "* There's something wrong here\n",
    "* Under zero volatility the initial Y0 should equal the probability\n",
    "* To Do:\n",
    "    * Check the coding of the formulas"
   ]
  },
  {
   "cell_type": "code",
   "execution_count": null,
   "metadata": {},
   "outputs": [],
   "source": []
  }
 ],
 "metadata": {
  "kernelspec": {
   "display_name": "Python (myenv)",
   "language": "python",
   "name": "env"
  },
  "language_info": {
   "codemirror_mode": {
    "name": "ipython",
    "version": 3
   },
   "file_extension": ".py",
   "mimetype": "text/x-python",
   "name": "python",
   "nbconvert_exporter": "python",
   "pygments_lexer": "ipython3",
   "version": "3.9.2"
  }
 },
 "nbformat": 4,
 "nbformat_minor": 4
}
