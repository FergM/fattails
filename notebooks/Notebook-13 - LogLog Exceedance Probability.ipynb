{
 "cells": [
  {
   "cell_type": "code",
   "execution_count": 1,
   "metadata": {},
   "outputs": [],
   "source": [
    "import matplotlib.pyplot as plt\n",
    "import numpy as np\n",
    "import pandas as pd\n",
    "from scipy.stats import kurtosis as scipy_kurtosis "
   ]
  },
  {
   "cell_type": "markdown",
   "metadata": {},
   "source": [
    "# Load Data\n",
    "Load Half-Hourly UK System Cashout Prices.\n",
    "\n",
    "Data Source: https://www.nordpoolgroup.com/historical-market-data/"
   ]
  },
  {
   "cell_type": "code",
   "execution_count": 2,
   "metadata": {},
   "outputs": [],
   "source": [
    "file_path = 'https://www.nordpoolgroup.com/48cd48/globalassets/marketdata-excel-files/n2ex-day-ahead-auction-prices_2020_hourly_gbp.xls'\n",
    "#file_path = '../data/nordpool/n2ex-day-ahead-auction-prices_2018_hourly_gbp.xls'"
   ]
  },
  {
   "cell_type": "code",
   "execution_count": 3,
   "metadata": {},
   "outputs": [],
   "source": [
    "# Load\n",
    "raw_list = pd.read_html(file_path, decimal=',')\n",
    "df = raw_list[0]"
   ]
  },
  {
   "cell_type": "markdown",
   "metadata": {},
   "source": [
    "### Format Data"
   ]
  },
  {
   "cell_type": "code",
   "execution_count": 4,
   "metadata": {},
   "outputs": [],
   "source": [
    "# Name Columns\n",
    "df.columns = ['date','hour_UK','hour_EU','price']\n",
    "\n",
    "# Format Date Column\n",
    "df.date = pd.to_datetime(df.date, format='%d-%m-%Y')\n",
    "\n",
    "# Format Hour Columns\n",
    "df.hour_UK = df.hour_UK.str.slice(stop = 2)\n",
    "df.hour_UK = pd.to_numeric(df.hour_UK)\n",
    "df.hour_EU = df.hour_EU.str.slice(stop = 2)\n",
    "df.hour_EU = pd.to_numeric(df.hour_EU)\n",
    "\n",
    "# Convert Price to GBP\n",
    "df.price = df.price/100"
   ]
  },
  {
   "cell_type": "code",
   "execution_count": 5,
   "metadata": {},
   "outputs": [
    {
     "name": "stdout",
     "output_type": "stream",
     "text": [
      "NaN values count: 1\n",
      "NaN values table:\n"
     ]
    },
    {
     "data": {
      "text/html": [
       "<div>\n",
       "<style scoped>\n",
       "    .dataframe tbody tr th:only-of-type {\n",
       "        vertical-align: middle;\n",
       "    }\n",
       "\n",
       "    .dataframe tbody tr th {\n",
       "        vertical-align: top;\n",
       "    }\n",
       "\n",
       "    .dataframe thead th {\n",
       "        text-align: right;\n",
       "    }\n",
       "</style>\n",
       "<table border=\"1\" class=\"dataframe\">\n",
       "  <thead>\n",
       "    <tr style=\"text-align: right;\">\n",
       "      <th></th>\n",
       "      <th>date</th>\n",
       "      <th>hour_UK</th>\n",
       "      <th>hour_EU</th>\n",
       "      <th>price</th>\n",
       "    </tr>\n",
       "  </thead>\n",
       "  <tbody>\n",
       "    <tr>\n",
       "      <th>2114</th>\n",
       "      <td>2020-03-29</td>\n",
       "      <td>1</td>\n",
       "      <td>2</td>\n",
       "      <td>NaN</td>\n",
       "    </tr>\n",
       "  </tbody>\n",
       "</table>\n",
       "</div>"
      ],
      "text/plain": [
       "           date  hour_UK  hour_EU  price\n",
       "2114 2020-03-29        1        2    NaN"
      ]
     },
     "metadata": {},
     "output_type": "display_data"
    }
   ],
   "source": [
    "# Check NA values\n",
    "nan_value_count = df.isna().any(axis=1).sum()\n",
    "na_df = df.loc[df.isna().any(axis=1)]\n",
    "#df.price.isna().sum()\n",
    "\n",
    "print(f\"NaN values count: {nan_value_count}\")\n",
    "print(f\"NaN values table:\")\n",
    "display(na_df)"
   ]
  },
  {
   "cell_type": "code",
   "execution_count": 6,
   "metadata": {},
   "outputs": [],
   "source": [
    "# Drop NA values\n",
    "df = df.dropna()"
   ]
  },
  {
   "cell_type": "markdown",
   "metadata": {},
   "source": [
    "# Analyse"
   ]
  },
  {
   "cell_type": "code",
   "execution_count": 7,
   "metadata": {},
   "outputs": [
    {
     "data": {
      "text/html": [
       "<div>\n",
       "<style scoped>\n",
       "    .dataframe tbody tr th:only-of-type {\n",
       "        vertical-align: middle;\n",
       "    }\n",
       "\n",
       "    .dataframe tbody tr th {\n",
       "        vertical-align: top;\n",
       "    }\n",
       "\n",
       "    .dataframe thead th {\n",
       "        text-align: right;\n",
       "    }\n",
       "</style>\n",
       "<table border=\"1\" class=\"dataframe\">\n",
       "  <thead>\n",
       "    <tr style=\"text-align: right;\">\n",
       "      <th></th>\n",
       "      <th>date</th>\n",
       "      <th>hour_UK</th>\n",
       "      <th>hour_EU</th>\n",
       "      <th>price</th>\n",
       "    </tr>\n",
       "  </thead>\n",
       "  <tbody>\n",
       "    <tr>\n",
       "      <th>0</th>\n",
       "      <td>2020-01-01</td>\n",
       "      <td>23</td>\n",
       "      <td>0</td>\n",
       "      <td>39.94</td>\n",
       "    </tr>\n",
       "    <tr>\n",
       "      <th>1</th>\n",
       "      <td>2020-01-01</td>\n",
       "      <td>0</td>\n",
       "      <td>1</td>\n",
       "      <td>43.45</td>\n",
       "    </tr>\n",
       "    <tr>\n",
       "      <th>2</th>\n",
       "      <td>2020-01-01</td>\n",
       "      <td>1</td>\n",
       "      <td>2</td>\n",
       "      <td>41.12</td>\n",
       "    </tr>\n",
       "    <tr>\n",
       "      <th>3</th>\n",
       "      <td>2020-01-01</td>\n",
       "      <td>2</td>\n",
       "      <td>3</td>\n",
       "      <td>29.98</td>\n",
       "    </tr>\n",
       "    <tr>\n",
       "      <th>4</th>\n",
       "      <td>2020-01-01</td>\n",
       "      <td>3</td>\n",
       "      <td>4</td>\n",
       "      <td>27.10</td>\n",
       "    </tr>\n",
       "  </tbody>\n",
       "</table>\n",
       "</div>"
      ],
      "text/plain": [
       "        date  hour_UK  hour_EU  price\n",
       "0 2020-01-01       23        0  39.94\n",
       "1 2020-01-01        0        1  43.45\n",
       "2 2020-01-01        1        2  41.12\n",
       "3 2020-01-01        2        3  29.98\n",
       "4 2020-01-01        3        4  27.10"
      ]
     },
     "execution_count": 7,
     "metadata": {},
     "output_type": "execute_result"
    }
   ],
   "source": [
    "df.head()"
   ]
  },
  {
   "cell_type": "markdown",
   "metadata": {},
   "source": [
    "### Exceedance Probability Plot\n",
    "Log(x) vs. Log(Pr(X>x))"
   ]
  },
  {
   "cell_type": "code",
   "execution_count": 8,
   "metadata": {},
   "outputs": [],
   "source": [
    "from math import log10"
   ]
  },
  {
   "cell_type": "markdown",
   "metadata": {},
   "source": [
    "First let's sort the prices from low to high.\n",
    "\n",
    "Then calculate steps towards an exceedance probability."
   ]
  },
  {
   "cell_type": "code",
   "execution_count": 9,
   "metadata": {},
   "outputs": [],
   "source": [
    "sorted_df = df.sort_values(by='price')\n",
    "sorted_df = sorted_df.reset_index()\n",
    "sorted_df = sorted_df.rename(columns={'index':'old_index'})"
   ]
  },
  {
   "cell_type": "code",
   "execution_count": 10,
   "metadata": {},
   "outputs": [],
   "source": [
    "sorted_df['ones'] = 1\n",
    "sorted_df['cumcount'] = sorted_df.ones.cumsum()\n",
    "sorted_df['exceedance_count'] = len(sorted_df)-sorted_df.cumcount+1"
   ]
  },
  {
   "cell_type": "code",
   "execution_count": 11,
   "metadata": {},
   "outputs": [],
   "source": [
    "# Exceedance probability\n",
    "sorted_df['exceed_prob'] = sorted_df.exceedance_count/len(sorted_df)"
   ]
  },
  {
   "cell_type": "code",
   "execution_count": 12,
   "metadata": {},
   "outputs": [],
   "source": [
    "#sorted_df['log_price']=sorted_df.price.apply(log10)"
   ]
  },
  {
   "cell_type": "code",
   "execution_count": 13,
   "metadata": {},
   "outputs": [],
   "source": [
    "sorted_df['log_exceed_prob']=sorted_df.exceed_prob.apply(log10)"
   ]
  },
  {
   "cell_type": "code",
   "execution_count": 17,
   "metadata": {},
   "outputs": [
    {
     "data": {
      "text/html": [
       "<div>\n",
       "<style scoped>\n",
       "    .dataframe tbody tr th:only-of-type {\n",
       "        vertical-align: middle;\n",
       "    }\n",
       "\n",
       "    .dataframe tbody tr th {\n",
       "        vertical-align: top;\n",
       "    }\n",
       "\n",
       "    .dataframe thead th {\n",
       "        text-align: right;\n",
       "    }\n",
       "</style>\n",
       "<table border=\"1\" class=\"dataframe\">\n",
       "  <thead>\n",
       "    <tr style=\"text-align: right;\">\n",
       "      <th></th>\n",
       "      <th>old_index</th>\n",
       "      <th>date</th>\n",
       "      <th>hour_UK</th>\n",
       "      <th>hour_EU</th>\n",
       "      <th>price</th>\n",
       "      <th>ones</th>\n",
       "      <th>cumcount</th>\n",
       "      <th>exceedance_count</th>\n",
       "      <th>exceed_prob</th>\n",
       "      <th>log_exceed_prob</th>\n",
       "    </tr>\n",
       "  </thead>\n",
       "  <tbody>\n",
       "    <tr>\n",
       "      <th>0</th>\n",
       "      <td>3448</td>\n",
       "      <td>2020-05-23</td>\n",
       "      <td>15</td>\n",
       "      <td>16</td>\n",
       "      <td>-28.80</td>\n",
       "      <td>1</td>\n",
       "      <td>1</td>\n",
       "      <td>7440</td>\n",
       "      <td>1.000000</td>\n",
       "      <td>0.000000</td>\n",
       "    </tr>\n",
       "    <tr>\n",
       "      <th>1</th>\n",
       "      <td>3438</td>\n",
       "      <td>2020-05-23</td>\n",
       "      <td>5</td>\n",
       "      <td>6</td>\n",
       "      <td>-26.60</td>\n",
       "      <td>1</td>\n",
       "      <td>2</td>\n",
       "      <td>7439</td>\n",
       "      <td>0.999866</td>\n",
       "      <td>-0.000058</td>\n",
       "    </tr>\n",
       "    <tr>\n",
       "      <th>2</th>\n",
       "      <td>3437</td>\n",
       "      <td>2020-05-23</td>\n",
       "      <td>4</td>\n",
       "      <td>5</td>\n",
       "      <td>-24.93</td>\n",
       "      <td>1</td>\n",
       "      <td>3</td>\n",
       "      <td>7438</td>\n",
       "      <td>0.999731</td>\n",
       "      <td>-0.000117</td>\n",
       "    </tr>\n",
       "    <tr>\n",
       "      <th>3</th>\n",
       "      <td>3447</td>\n",
       "      <td>2020-05-23</td>\n",
       "      <td>14</td>\n",
       "      <td>15</td>\n",
       "      <td>-24.00</td>\n",
       "      <td>1</td>\n",
       "      <td>4</td>\n",
       "      <td>7437</td>\n",
       "      <td>0.999597</td>\n",
       "      <td>-0.000175</td>\n",
       "    </tr>\n",
       "    <tr>\n",
       "      <th>4</th>\n",
       "      <td>3446</td>\n",
       "      <td>2020-05-23</td>\n",
       "      <td>13</td>\n",
       "      <td>14</td>\n",
       "      <td>-18.80</td>\n",
       "      <td>1</td>\n",
       "      <td>5</td>\n",
       "      <td>7436</td>\n",
       "      <td>0.999462</td>\n",
       "      <td>-0.000234</td>\n",
       "    </tr>\n",
       "  </tbody>\n",
       "</table>\n",
       "</div>"
      ],
      "text/plain": [
       "   old_index       date  hour_UK  hour_EU  price  ones  cumcount  \\\n",
       "0       3448 2020-05-23       15       16 -28.80     1         1   \n",
       "1       3438 2020-05-23        5        6 -26.60     1         2   \n",
       "2       3437 2020-05-23        4        5 -24.93     1         3   \n",
       "3       3447 2020-05-23       14       15 -24.00     1         4   \n",
       "4       3446 2020-05-23       13       14 -18.80     1         5   \n",
       "\n",
       "   exceedance_count  exceed_prob  log_exceed_prob  \n",
       "0              7440     1.000000         0.000000  \n",
       "1              7439     0.999866        -0.000058  \n",
       "2              7438     0.999731        -0.000117  \n",
       "3              7437     0.999597        -0.000175  \n",
       "4              7436     0.999462        -0.000234  "
      ]
     },
     "execution_count": 17,
     "metadata": {},
     "output_type": "execute_result"
    }
   ],
   "source": [
    "sorted_df.head() # Lowest Prices"
   ]
  },
  {
   "cell_type": "code",
   "execution_count": 19,
   "metadata": {},
   "outputs": [
    {
     "data": {
      "text/html": [
       "<div>\n",
       "<style scoped>\n",
       "    .dataframe tbody tr th:only-of-type {\n",
       "        vertical-align: middle;\n",
       "    }\n",
       "\n",
       "    .dataframe tbody tr th {\n",
       "        vertical-align: top;\n",
       "    }\n",
       "\n",
       "    .dataframe thead th {\n",
       "        text-align: right;\n",
       "    }\n",
       "</style>\n",
       "<table border=\"1\" class=\"dataframe\">\n",
       "  <thead>\n",
       "    <tr style=\"text-align: right;\">\n",
       "      <th></th>\n",
       "      <th>old_index</th>\n",
       "      <th>date</th>\n",
       "      <th>hour_UK</th>\n",
       "      <th>hour_EU</th>\n",
       "      <th>price</th>\n",
       "      <th>ones</th>\n",
       "      <th>cumcount</th>\n",
       "      <th>exceedance_count</th>\n",
       "      <th>exceed_prob</th>\n",
       "      <th>log_exceed_prob</th>\n",
       "    </tr>\n",
       "  </thead>\n",
       "  <tbody>\n",
       "    <tr>\n",
       "      <th>7435</th>\n",
       "      <td>7436</td>\n",
       "      <td>2020-11-05</td>\n",
       "      <td>18</td>\n",
       "      <td>19</td>\n",
       "      <td>160.00</td>\n",
       "      <td>1</td>\n",
       "      <td>7436</td>\n",
       "      <td>5</td>\n",
       "      <td>0.000672</td>\n",
       "      <td>-3.172603</td>\n",
       "    </tr>\n",
       "    <tr>\n",
       "      <th>7436</th>\n",
       "      <td>6211</td>\n",
       "      <td>2020-09-15</td>\n",
       "      <td>18</td>\n",
       "      <td>19</td>\n",
       "      <td>180.62</td>\n",
       "      <td>1</td>\n",
       "      <td>7437</td>\n",
       "      <td>4</td>\n",
       "      <td>0.000538</td>\n",
       "      <td>-3.269513</td>\n",
       "    </tr>\n",
       "    <tr>\n",
       "      <th>7437</th>\n",
       "      <td>6955</td>\n",
       "      <td>2020-10-16</td>\n",
       "      <td>18</td>\n",
       "      <td>19</td>\n",
       "      <td>193.20</td>\n",
       "      <td>1</td>\n",
       "      <td>7438</td>\n",
       "      <td>3</td>\n",
       "      <td>0.000403</td>\n",
       "      <td>-3.394452</td>\n",
       "    </tr>\n",
       "    <tr>\n",
       "      <th>7438</th>\n",
       "      <td>6355</td>\n",
       "      <td>2020-09-21</td>\n",
       "      <td>18</td>\n",
       "      <td>19</td>\n",
       "      <td>197.10</td>\n",
       "      <td>1</td>\n",
       "      <td>7439</td>\n",
       "      <td>2</td>\n",
       "      <td>0.000269</td>\n",
       "      <td>-3.570543</td>\n",
       "    </tr>\n",
       "    <tr>\n",
       "      <th>7439</th>\n",
       "      <td>7435</td>\n",
       "      <td>2020-11-05</td>\n",
       "      <td>17</td>\n",
       "      <td>18</td>\n",
       "      <td>202.25</td>\n",
       "      <td>1</td>\n",
       "      <td>7440</td>\n",
       "      <td>1</td>\n",
       "      <td>0.000134</td>\n",
       "      <td>-3.871573</td>\n",
       "    </tr>\n",
       "  </tbody>\n",
       "</table>\n",
       "</div>"
      ],
      "text/plain": [
       "      old_index       date  hour_UK  hour_EU   price  ones  cumcount  \\\n",
       "7435       7436 2020-11-05       18       19  160.00     1      7436   \n",
       "7436       6211 2020-09-15       18       19  180.62     1      7437   \n",
       "7437       6955 2020-10-16       18       19  193.20     1      7438   \n",
       "7438       6355 2020-09-21       18       19  197.10     1      7439   \n",
       "7439       7435 2020-11-05       17       18  202.25     1      7440   \n",
       "\n",
       "      exceedance_count  exceed_prob  log_exceed_prob  \n",
       "7435                 5     0.000672        -3.172603  \n",
       "7436                 4     0.000538        -3.269513  \n",
       "7437                 3     0.000403        -3.394452  \n",
       "7438                 2     0.000269        -3.570543  \n",
       "7439                 1     0.000134        -3.871573  "
      ]
     },
     "execution_count": 19,
     "metadata": {},
     "output_type": "execute_result"
    }
   ],
   "source": [
    "sorted_df.tail() # Highest Prices"
   ]
  },
  {
   "cell_type": "markdown",
   "metadata": {},
   "source": [
    "I'm not sure how it handles tiny values and log(0)"
   ]
  },
  {
   "cell_type": "code",
   "execution_count": 22,
   "metadata": {},
   "outputs": [],
   "source": [
    "#Maybe Remove tiny values because they blow up when taking log\n",
    "#sorted_df.price+=-1*sorted_df.price.min()"
   ]
  },
  {
   "cell_type": "code",
   "execution_count": 23,
   "metadata": {},
   "outputs": [
    {
     "data": {
      "text/plain": [
       "<matplotlib.axes._subplots.AxesSubplot at 0x1a790227ac8>"
      ]
     },
     "execution_count": 23,
     "metadata": {},
     "output_type": "execute_result"
    },
    {
     "data": {
      "image/png": "[encoded data removed]",
      "text/plain": [
       "<Figure size 432x288 with 1 Axes>"
      ]
     },
     "metadata": {
      "needs_background": "light"
     },
     "output_type": "display_data"
    }
   ],
   "source": [
    "sorted_df.set_index('price').exceed_prob.plot(loglog=True, marker='*')\n",
    "#sorted_df.plot.scatter('log_price', 'log_exceed_prob')"
   ]
  },
  {
   "cell_type": "markdown",
   "metadata": {},
   "source": [
    "Alternative code, but this runs more slowly:\n",
    "```\n",
    "fig, ax = plt.subplots(constrained_layout=True)\n",
    "x = np.array([sorted_df.price])\n",
    "y = np.array([sorted_df.exceed_prob])\n",
    "\n",
    "ax.loglog(x, y, '*')\n",
    "ax.set_xlabel('x')\n",
    "ax.set_ylabel('Probability(price>x)')\n",
    "ax.set_title('Title')\n",
    "plt.show()\n",
    "```"
   ]
  },
  {
   "cell_type": "code",
   "execution_count": 24,
   "metadata": {},
   "outputs": [
    {
     "data": {
      "text/plain": [
       "<matplotlib.axes._subplots.AxesSubplot at 0x1a7900c4f88>"
      ]
     },
     "execution_count": 24,
     "metadata": {},
     "output_type": "execute_result"
    },
    {
     "data": {
      "image/png": "[encoded data removed]",
      "text/plain": [
       "<Figure size 432x288 with 1 Axes>"
      ]
     },
     "metadata": {
      "needs_background": "light"
     },
     "output_type": "display_data"
    }
   ],
   "source": [
    "sorted_df.plot.scatter('price', 'exceed_prob')"
   ]
  },
  {
   "cell_type": "markdown",
   "metadata": {},
   "source": [
    "Conclusions:\n",
    "* Looks like a power law between ~40 and 70 GBP\n",
    "* Tail behaves funny it gets fatter then thinner in this particular dataset."
   ]
  },
  {
   "cell_type": "markdown",
   "metadata": {},
   "source": [
    "# Appendix:"
   ]
  },
  {
   "cell_type": "markdown",
   "metadata": {},
   "source": [
    "### Generic Loglog Plot"
   ]
  },
  {
   "cell_type": "markdown",
   "metadata": {},
   "source": [
    "First show one that's not loglog:"
   ]
  },
  {
   "cell_type": "code",
   "execution_count": 25,
   "metadata": {},
   "outputs": [
    {
     "data": {
      "image/png": "[encoded data removed]",
      "text/plain": [
       "<Figure size 432x288 with 1 Axes>"
      ]
     },
     "metadata": {
      "needs_background": "light"
     },
     "output_type": "display_data"
    }
   ],
   "source": [
    "fig, ax = plt.subplots(constrained_layout=True)\n",
    "x = np.array([1,2,3,4,5, 6,7,8,9,10])\n",
    "y = np.array([1,10,100,1_000,100_000, 1_000_000, 10_000_000, 100_000_000, 1_000_000_000, 10_000_000_000])\n",
    "ax.plot(x, y, '*')\n",
    "ax.set_xlabel('x')\n",
    "ax.set_ylabel('y')\n",
    "ax.set_title('Title')\n",
    "plt.show()"
   ]
  },
  {
   "cell_type": "markdown",
   "metadata": {},
   "source": [
    "Now this one IS loglog:"
   ]
  },
  {
   "cell_type": "code",
   "execution_count": 26,
   "metadata": {},
   "outputs": [
    {
     "data": {
      "image/png": "[encoded data removed]",
      "text/plain": [
       "<Figure size 432x288 with 1 Axes>"
      ]
     },
     "metadata": {
      "needs_background": "light"
     },
     "output_type": "display_data"
    }
   ],
   "source": [
    "fig, ax = plt.subplots(constrained_layout=True)\n",
    "x = np.array([1,2,3,4,5, 6,7,8,9,10])\n",
    "y = np.array([1,10,100,1_000,100_000, 1_000_000, 10_000_000, 100_000_000, 1_000_000_000, 10_000_000_000])\n",
    "ax.loglog(x, y, '*')\n",
    "ax.set_xlabel('x')\n",
    "ax.set_ylabel('y')\n",
    "ax.set_title('Title')\n",
    "plt.show()"
   ]
  }
 ],
 "metadata": {
  "kernelspec": {
   "display_name": "Python 3",
   "language": "python",
   "name": "python3"
  },
  "language_info": {
   "codemirror_mode": {
    "name": "ipython",
    "version": 3
   },
   "file_extension": ".py",
   "mimetype": "text/x-python",
   "name": "python",
   "nbconvert_exporter": "python",
   "pygments_lexer": "ipython3",
   "version": "3.7.6"
  }
 },
 "nbformat": 4,
 "nbformat_minor": 4
}
