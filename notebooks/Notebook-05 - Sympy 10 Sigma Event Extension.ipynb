{
 "cells": [
  {
   "cell_type": "markdown",
   "metadata": {},
   "source": [
    "# Ten Sigma Event Extension\n",
    "Statistical Consequences of Fat Tails (Page 53): [Link to ebook PDF](https://researchers.one/articles/statistical-consequences-of-fat-tails-real-world-preasymptotics-epistemology-and-applications/5f52699d36a3e45f17ae7e36)"
   ]
  },
  {
   "cell_type": "code",
   "execution_count": 1,
   "metadata": {},
   "outputs": [],
   "source": [
    "import numpy as np\n",
    "import pandas as pd\n",
    "from scipy.stats import kurtosis as scipy_kurtosis \n",
    "from sympy.stats import P, E, variance, std, Die, Normal, StudentT\n",
    "from sympy import Eq, simplify"
   ]
  },
  {
   "cell_type": "code",
   "execution_count": 2,
   "metadata": {},
   "outputs": [],
   "source": [
    "Z = Normal('Z', 0, 1) # Declare a Normal random variable with mean 0, std 1\n",
    "T = StudentT('T', 2)"
   ]
  },
  {
   "cell_type": "markdown",
   "metadata": {},
   "source": [
    "# Replicate Page 53"
   ]
  },
  {
   "cell_type": "markdown",
   "metadata": {},
   "source": [
    "We want to find P(Gaussian|Event):"
   ]
  },
  {
   "cell_type": "markdown",
   "metadata": {},
   "source": [
    "\\begin{equation*}\n",
    "\\frac{P(Gaussian)*P(Event|Gaussian)}{\\Bigl(1-P(Gaussian)\\Bigr)*P(Event|NonGaussian)+P(Gaussian)*P(Event|Gaussian)}\n",
    "\\end{equation*}"
   ]
  },
  {
   "cell_type": "code",
   "execution_count": 3,
   "metadata": {},
   "outputs": [],
   "source": [
    "p_gaussian_list = [0.5, 0.999, 0.9999, 0.99999, 0.999999, 1] # P(Gaussian) values to check for\n",
    "\n",
    "p_if_gauss = P(Z>10).evalf()\n",
    "p_if_nongauss = P(T>10).evalf()"
   ]
  },
  {
   "cell_type": "code",
   "execution_count": 4,
   "metadata": {},
   "outputs": [
    {
     "data": {
      "text/latex": [
       "$\\displaystyle 1.3123612710498 \\cdot 10^{23}$"
      ],
      "text/plain": [
       "1.31236127104980e+23"
      ]
     },
     "execution_count": 4,
     "metadata": {},
     "output_type": "execute_result"
    }
   ],
   "source": [
    "1/p_if_gauss # Should be 1.31x10^23"
   ]
  },
  {
   "cell_type": "code",
   "execution_count": 5,
   "metadata": {},
   "outputs": [
    {
     "data": {
      "text/latex": [
       "$\\displaystyle 202.995049383621$"
      ],
      "text/plain": [
       "202.995049383621"
      ]
     },
     "execution_count": 5,
     "metadata": {},
     "output_type": "execute_result"
    }
   ],
   "source": [
    "1/p_if_nongauss # # Should be 203"
   ]
  },
  {
   "cell_type": "code",
   "execution_count": 6,
   "metadata": {},
   "outputs": [
    {
     "ename": "NameError",
     "evalue": "name 'gaussian_values' is not defined",
     "output_type": "error",
     "traceback": [
      "\u001b[1;31m---------------------------------------------------------------------------\u001b[0m",
      "\u001b[1;31mNameError\u001b[0m                                 Traceback (most recent call last)",
      "\u001b[1;32m<ipython-input-6-c67181e31221>\u001b[0m in \u001b[0;36m<module>\u001b[1;34m\u001b[0m\n\u001b[0;32m      1\u001b[0m \u001b[1;31m# Evaluate the equation for each value in p_gaussian_list\u001b[0m\u001b[1;33m\u001b[0m\u001b[1;33m\u001b[0m\u001b[1;33m\u001b[0m\u001b[0m\n\u001b[0;32m      2\u001b[0m \u001b[0mp_gauss_if_event_list\u001b[0m \u001b[1;33m=\u001b[0m \u001b[1;33m[\u001b[0m\u001b[1;33m]\u001b[0m\u001b[1;33m\u001b[0m\u001b[1;33m\u001b[0m\u001b[0m\n\u001b[1;32m----> 3\u001b[1;33m \u001b[1;32mfor\u001b[0m \u001b[0mp_gauss\u001b[0m \u001b[1;32min\u001b[0m \u001b[0mgaussian_values\u001b[0m\u001b[1;33m:\u001b[0m\u001b[1;33m\u001b[0m\u001b[1;33m\u001b[0m\u001b[0m\n\u001b[0m\u001b[0;32m      4\u001b[0m \u001b[1;33m\u001b[0m\u001b[0m\n\u001b[0;32m      5\u001b[0m     \u001b[0mnumerator\u001b[0m \u001b[1;33m=\u001b[0m \u001b[0mp_gauss\u001b[0m \u001b[1;33m*\u001b[0m \u001b[0mp_if_gauss\u001b[0m\u001b[1;33m\u001b[0m\u001b[1;33m\u001b[0m\u001b[0m\n",
      "\u001b[1;31mNameError\u001b[0m: name 'gaussian_values' is not defined"
     ]
    }
   ],
   "source": [
    "# Evaluate the equation for each value in p_gaussian_list\n",
    "p_gauss_if_event_list = []\n",
    "for p_gauss in gaussian_values:\n",
    "    \n",
    "    numerator = p_gauss * p_if_gauss\n",
    "    denominator = (1-p_gauss)*p_if_nongauss+p_gauss*p_if_gauss\n",
    "    \n",
    "    p_gauss_if_event = numerator/denominator\n",
    "    \n",
    "    p_gauss_if_event_list.append(p_gauss_if_event)"
   ]
  },
  {
   "cell_type": "code",
   "execution_count": null,
   "metadata": {},
   "outputs": [],
   "source": [
    "# Create DataFrame\n",
    "d = {'P(Gaussian)':gaussian_values, 'P(Gaussian|Event)':p_gauss_if_event_list}\n",
    "page_53_table = pd.DataFrame(d)"
   ]
  },
  {
   "cell_type": "code",
   "execution_count": null,
   "metadata": {},
   "outputs": [],
   "source": [
    "page_53_table"
   ]
  },
  {
   "cell_type": "markdown",
   "metadata": {},
   "source": [
    "# Extension:"
   ]
  },
  {
   "cell_type": "markdown",
   "metadata": {},
   "source": [
    "What if you fit a new normal distribution after observing the 10 sigma event. I'm not saying it makes sense but let's see what happens."
   ]
  },
  {
   "cell_type": "markdown",
   "metadata": {},
   "source": [
    "Let's suppose the event is from one day in 50 years. Then it's a 1 in 365*50 event."
   ]
  },
  {
   "cell_type": "code",
   "execution_count": null,
   "metadata": {},
   "outputs": [],
   "source": [
    "n = 365*50 # Our dataset holds this many points before the 10 sigma event happens\n",
    "n"
   ]
  },
  {
   "cell_type": "code",
   "execution_count": null,
   "metadata": {},
   "outputs": [],
   "source": [
    "normal_array = np.random.normal(size=n)\n",
    "\n",
    "df = pd.DataFrame(normal_array, columns = ['normal_sample'])\n",
    "\n",
    "df.head()"
   ]
  },
  {
   "cell_type": "code",
   "execution_count": null,
   "metadata": {},
   "outputs": [],
   "source": [
    "df.describe().T"
   ]
  },
  {
   "cell_type": "code",
   "execution_count": null,
   "metadata": {},
   "outputs": [],
   "source": [
    "scipy_kurtosis(df.normal_sample, fisher=False)"
   ]
  },
  {
   "cell_type": "markdown",
   "metadata": {},
   "source": [
    "So before the tail event:\n",
    "* std=1\n",
    "* kurtosis=3\n",
    "* max observation ~= 4"
   ]
  },
  {
   "cell_type": "markdown",
   "metadata": {},
   "source": [
    "### Add tail event"
   ]
  },
  {
   "cell_type": "code",
   "execution_count": null,
   "metadata": {},
   "outputs": [],
   "source": [
    "new_df = df.append({'normal_sample':10},ignore_index=True)"
   ]
  },
  {
   "cell_type": "code",
   "execution_count": null,
   "metadata": {},
   "outputs": [],
   "source": [
    "new_df.describe().T"
   ]
  },
  {
   "cell_type": "code",
   "execution_count": null,
   "metadata": {},
   "outputs": [],
   "source": [
    "scipy_kurtosis(new_df.normal_sample, fisher=False)"
   ]
  },
  {
   "cell_type": "markdown",
   "metadata": {},
   "source": [
    "After adding the tail event:\n",
    "* std=1\n",
    "* kurtosis=3.5\n",
    "* max=10"
   ]
  },
  {
   "cell_type": "markdown",
   "metadata": {},
   "source": [
    "Rough conclusion, If we add a 10 sigma event to 50 years of daily gaussian data, ...\n",
    "* The standard deviation doesn't go up much\n",
    "* The kurtosis goes up from 3 to 3.5.\n",
    "\n",
    "Which leaves us with:\n",
    "* New dataset has mu and sigma of a standard normal, but its kurtosis gives it away as being non-gaussian"
   ]
  }
 ],
 "metadata": {
  "kernelspec": {
   "display_name": "Python 3",
   "language": "python",
   "name": "python3"
  }
 },
 "nbformat": 4,
 "nbformat_minor": 4
}
