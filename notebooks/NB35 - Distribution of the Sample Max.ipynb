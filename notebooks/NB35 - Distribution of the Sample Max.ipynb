{
 "cells": [
  {
   "cell_type": "markdown",
   "metadata": {},
   "source": [
    "# About\n",
    "Extreme Value Theory tells us that `max(n_pareto_samples)` follows a Fréchet distribution when the number of samples `n` is large.\n",
    "\n",
    "In this notebook I plot the ratio of exact distribution vs. a Fréchet distribution fit. \n",
    "\n",
    "The resulting plot shows us a 1:1 ratio for large `n` indicating equivalence for practical purposes.\n",
    "\n",
    "##### Permalink\n",
    "[Click here](https://github.com/FergM/fattails/blob/main/notebooks/NB35%20-%20Distribution%20of%20the%20Sample%20Max.ipynb) for latest version of this notebook.\n",
    "\n",
    "##### Context\n",
    "SCFT Book:\n",
    "* Chapter 9: Extreme Value Theory\n",
    "* This is basically a replication of figure 9.2 from *Statistical Consequences of Fat Tails*.\n",
    "* However here I plot the ratio of PDFs instead of the ratio of CDFs. Both ratios show a similar picture.\n",
    "\n",
    "Wikipedia Links:\n",
    "* [Generalised Extreme Value Distribution](https://en.wikipedia.org/wiki/Generalized_extreme_value_distribution)\n",
    "* [Frechet Distribution](https://en.wikipedia.org/wiki/Fr%C3%A9chet_distribution)\n",
    "* [Pareto Distribution](https://en.wikipedia.org/wiki/Pareto_distribution)"
   ]
  },
  {
   "cell_type": "code",
   "execution_count": 1,
   "metadata": {},
   "outputs": [],
   "source": [
    "import numpy as np\n",
    "import pandas as pd"
   ]
  },
  {
   "cell_type": "markdown",
   "metadata": {},
   "source": [
    "### Functions"
   ]
  },
  {
   "cell_type": "code",
   "execution_count": 2,
   "metadata": {},
   "outputs": [],
   "source": [
    "def pareto_max_pdf(x, n, alpha=2, L=1):\n",
    "    \"\"\"PDF of the maximum of n i.i.d. pareto observations.\n",
    "\n",
    "    Calculates the probability density of observing x.\n",
    "    Formula is broken into parts for readability.\n",
    "    \n",
    "    Parameters\n",
    "    ----------\n",
    "    x : float\n",
    "        Value whose probability density we want to know\n",
    "    n : int\n",
    "        Number of observations. \n",
    "    L : float\n",
    "        Minimum value possible\n",
    "    alpha : float\n",
    "        Pareto distribution Tail exponent\n",
    "    \n",
    "    \n",
    "    Returns\n",
    "    -------\n",
    "    probability : float\n",
    "        Probability density for observing x\n",
    "        when other parameters are as specified.\n",
    "    \"\"\"\n",
    "    \n",
    "    left = alpha*n*(L/x)**alpha\n",
    " \n",
    "    right = (1-(L/x)**alpha)**(n-1)\n",
    "    \n",
    "    probability = (left*right)/x\n",
    "    \n",
    "    return probability"
   ]
  },
  {
   "cell_type": "code",
   "execution_count": 3,
   "metadata": {},
   "outputs": [],
   "source": [
    "def frechet_pdf(x, n, alpha=2, L=1):\n",
    "    \"\"\"Frechet PDF\n",
    "\n",
    "    Calculates the probability density of observing x.\n",
    "    Formula is broken into parts for readability.\n",
    "    \n",
    "    This is really a tailored frechet pdf adjusted\n",
    "    in description to fit the problem at hand.\n",
    "    \n",
    "    Parameters\n",
    "    ----------\n",
    "    x : float\n",
    "        Value whose probability density we want to know\n",
    "    n : int\n",
    "        Number of observations. \n",
    "    L : float\n",
    "        Minimum value possible\n",
    "    alpha : float\n",
    "        Pareto distribution Tail exponent\n",
    "\n",
    "    Returns\n",
    "    -------\n",
    "    probability : float\n",
    "        Probability density for observing x\n",
    "        when other parameters are as specified.\n",
    "    \"\"\"\n",
    "    # See SCFT book for beta's definition\n",
    "    beta = L*n**(1/alpha)\n",
    "\n",
    "    left = alpha*beta**alpha\n",
    "    mid = x**(-alpha-1)\n",
    "    right = np.e**((beta**alpha)*(-x**-alpha))\n",
    "    \n",
    "    probability = left*mid*right\n",
    "\n",
    "    return probability"
   ]
  },
  {
   "cell_type": "code",
   "execution_count": 4,
   "metadata": {},
   "outputs": [],
   "source": [
    "def pdf_ratio(x, n, alpha=2, L=1):\n",
    "    \"\"\"Ratio of exact pareto pdf to frechet pdf.\"\"\"\n",
    "    ratio = pareto_max_pdf(x, n, alpha, L) / frechet_pdf(x, n, alpha, L)\n",
    "    return ratio"
   ]
  },
  {
   "cell_type": "markdown",
   "metadata": {},
   "source": [
    "### Check the Functions"
   ]
  },
  {
   "cell_type": "code",
   "execution_count": 5,
   "metadata": {},
   "outputs": [],
   "source": [
    "# Set input values\n",
    "x=5\n",
    "n=100\n",
    "\n",
    "alpha=2\n",
    "L=1"
   ]
  },
  {
   "cell_type": "code",
   "execution_count": 6,
   "metadata": {},
   "outputs": [
    {
     "data": {
      "text/plain": [
       "0.0293050222219747"
      ]
     },
     "execution_count": 6,
     "metadata": {},
     "output_type": "execute_result"
    }
   ],
   "source": [
    "frechet_pdf(x, n, alpha, L)"
   ]
  },
  {
   "cell_type": "code",
   "execution_count": 7,
   "metadata": {},
   "outputs": [
    {
     "data": {
      "text/plain": [
       "0.02811719893141599"
      ]
     },
     "execution_count": 7,
     "metadata": {},
     "output_type": "execute_result"
    }
   ],
   "source": [
    "pareto_max_pdf(x, n, alpha, L)"
   ]
  },
  {
   "cell_type": "code",
   "execution_count": 8,
   "metadata": {},
   "outputs": [
    {
     "data": {
      "text/plain": [
       "0.9594669036057578"
      ]
     },
     "execution_count": 8,
     "metadata": {},
     "output_type": "execute_result"
    }
   ],
   "source": [
    "pdf_ratio(x, n, alpha, L)"
   ]
  },
  {
   "cell_type": "markdown",
   "metadata": {},
   "source": [
    "# Create Data Table"
   ]
  },
  {
   "cell_type": "code",
   "execution_count": 9,
   "metadata": {},
   "outputs": [
    {
     "data": {
      "text/html": [
       "<div>\n",
       "<style scoped>\n",
       "    .dataframe tbody tr th:only-of-type {\n",
       "        vertical-align: middle;\n",
       "    }\n",
       "\n",
       "    .dataframe tbody tr th {\n",
       "        vertical-align: top;\n",
       "    }\n",
       "\n",
       "    .dataframe thead th {\n",
       "        text-align: right;\n",
       "    }\n",
       "</style>\n",
       "<table border=\"1\" class=\"dataframe\">\n",
       "  <thead>\n",
       "    <tr style=\"text-align: right;\">\n",
       "      <th></th>\n",
       "    </tr>\n",
       "    <tr>\n",
       "      <th>x</th>\n",
       "    </tr>\n",
       "  </thead>\n",
       "  <tbody>\n",
       "    <tr>\n",
       "      <th>48</th>\n",
       "    </tr>\n",
       "    <tr>\n",
       "      <th>49</th>\n",
       "    </tr>\n",
       "    <tr>\n",
       "      <th>50</th>\n",
       "    </tr>\n",
       "  </tbody>\n",
       "</table>\n",
       "</div>"
      ],
      "text/plain": [
       "Empty DataFrame\n",
       "Columns: []\n",
       "Index: [48, 49, 50]"
      ]
     },
     "execution_count": 9,
     "metadata": {},
     "output_type": "execute_result"
    }
   ],
   "source": [
    "# Create range of x values\n",
    "x = range(1+1,50+1)  # x=1 is undefined so we start with x=2\n",
    "df = pd.Series(x, name='x') \\\n",
    "       .to_frame() \\\n",
    "       .set_index('x')\n",
    "df.tail(3)"
   ]
  },
  {
   "cell_type": "code",
   "execution_count": 10,
   "metadata": {},
   "outputs": [],
   "source": [
    "# Add ratios for different sample sizes\n",
    "sample_sizes = [100, 1_000]\n",
    "for n in sample_sizes:\n",
    "    df[f'ratio_n{n}'] = df.index.map( lambda x: pdf_ratio(x, n, alpha=2, L=1) )"
   ]
  },
  {
   "cell_type": "markdown",
   "metadata": {},
   "source": [
    "Show tabular data:"
   ]
  },
  {
   "cell_type": "code",
   "execution_count": 11,
   "metadata": {},
   "outputs": [
    {
     "data": {
      "text/html": [
       "<div>\n",
       "<style scoped>\n",
       "    .dataframe tbody tr th:only-of-type {\n",
       "        vertical-align: middle;\n",
       "    }\n",
       "\n",
       "    .dataframe tbody tr th {\n",
       "        vertical-align: top;\n",
       "    }\n",
       "\n",
       "    .dataframe thead th {\n",
       "        text-align: right;\n",
       "    }\n",
       "</style>\n",
       "<table border=\"1\" class=\"dataframe\">\n",
       "  <thead>\n",
       "    <tr style=\"text-align: right;\">\n",
       "      <th></th>\n",
       "      <th>ratio_n100</th>\n",
       "      <th>ratio_n1000</th>\n",
       "    </tr>\n",
       "    <tr>\n",
       "      <th>x</th>\n",
       "      <th></th>\n",
       "      <th></th>\n",
       "    </tr>\n",
       "  </thead>\n",
       "  <tbody>\n",
       "    <tr>\n",
       "      <th>2</th>\n",
       "      <td>0.030791</td>\n",
       "      <td>5.752049e-17</td>\n",
       "    </tr>\n",
       "    <tr>\n",
       "      <th>3</th>\n",
       "      <td>0.577291</td>\n",
       "      <td>1.424205e-03</td>\n",
       "    </tr>\n",
       "    <tr>\n",
       "      <th>4</th>\n",
       "      <td>0.869955</td>\n",
       "      <td>1.389026e-01</td>\n",
       "    </tr>\n",
       "    <tr>\n",
       "      <th>5</th>\n",
       "      <td>0.959467</td>\n",
       "      <td>4.578688e-01</td>\n",
       "    </tr>\n",
       "    <tr>\n",
       "      <th>6</th>\n",
       "      <td>0.988923</td>\n",
       "      <td>6.942464e-01</td>\n",
       "    </tr>\n",
       "  </tbody>\n",
       "</table>\n",
       "</div>"
      ],
      "text/plain": [
       "   ratio_n100   ratio_n1000\n",
       "x                          \n",
       "2    0.030791  5.752049e-17\n",
       "3    0.577291  1.424205e-03\n",
       "4    0.869955  1.389026e-01\n",
       "5    0.959467  4.578688e-01\n",
       "6    0.988923  6.942464e-01"
      ]
     },
     "execution_count": 11,
     "metadata": {},
     "output_type": "execute_result"
    }
   ],
   "source": [
    "# Each column is for a different sample size\n",
    "df.head()"
   ]
  },
  {
   "cell_type": "code",
   "execution_count": 12,
   "metadata": {},
   "outputs": [
    {
     "data": {
      "text/html": [
       "<div>\n",
       "<style scoped>\n",
       "    .dataframe tbody tr th:only-of-type {\n",
       "        vertical-align: middle;\n",
       "    }\n",
       "\n",
       "    .dataframe tbody tr th {\n",
       "        vertical-align: top;\n",
       "    }\n",
       "\n",
       "    .dataframe thead th {\n",
       "        text-align: right;\n",
       "    }\n",
       "</style>\n",
       "<table border=\"1\" class=\"dataframe\">\n",
       "  <thead>\n",
       "    <tr style=\"text-align: right;\">\n",
       "      <th></th>\n",
       "      <th>ratio_n100</th>\n",
       "      <th>ratio_n1000</th>\n",
       "    </tr>\n",
       "    <tr>\n",
       "      <th>x</th>\n",
       "      <th></th>\n",
       "      <th></th>\n",
       "    </tr>\n",
       "  </thead>\n",
       "  <tbody>\n",
       "    <tr>\n",
       "      <th>46</th>\n",
       "      <td>1.000462</td>\n",
       "      <td>1.000361</td>\n",
       "    </tr>\n",
       "    <tr>\n",
       "      <th>47</th>\n",
       "      <td>1.000443</td>\n",
       "      <td>1.000350</td>\n",
       "    </tr>\n",
       "    <tr>\n",
       "      <th>48</th>\n",
       "      <td>1.000425</td>\n",
       "      <td>1.000340</td>\n",
       "    </tr>\n",
       "    <tr>\n",
       "      <th>49</th>\n",
       "      <td>1.000408</td>\n",
       "      <td>1.000330</td>\n",
       "    </tr>\n",
       "    <tr>\n",
       "      <th>50</th>\n",
       "      <td>1.000392</td>\n",
       "      <td>1.000320</td>\n",
       "    </tr>\n",
       "  </tbody>\n",
       "</table>\n",
       "</div>"
      ],
      "text/plain": [
       "    ratio_n100  ratio_n1000\n",
       "x                          \n",
       "46    1.000462     1.000361\n",
       "47    1.000443     1.000350\n",
       "48    1.000425     1.000340\n",
       "49    1.000408     1.000330\n",
       "50    1.000392     1.000320"
      ]
     },
     "execution_count": 12,
     "metadata": {},
     "output_type": "execute_result"
    }
   ],
   "source": [
    "df.tail()"
   ]
  },
  {
   "cell_type": "markdown",
   "metadata": {},
   "source": [
    "# Plot Ratios\n",
    "Plot the ratio of *exact PDF/frechet PDF* for a power law (tail_alpha=2, min=1)."
   ]
  },
  {
   "cell_type": "code",
   "execution_count": 13,
   "metadata": {},
   "outputs": [
    {
     "data": {
      "image/png": "[encoded data removed]",
      "text/plain": [
       "<Figure size 432x288 with 1 Axes>"
      ]
     },
     "metadata": {
      "needs_background": "light"
     },
     "output_type": "display_data"
    }
   ],
   "source": [
    "plot_kwargs = {'title':'Sample Max: Exact PDF vs. Fréchet PDF',\n",
    "             'ylabel':'Ratio'}\n",
    "\n",
    "df.plot(**plot_kwargs);"
   ]
  },
  {
   "cell_type": "code",
   "execution_count": null,
   "metadata": {},
   "outputs": [],
   "source": []
  }
 ],
 "metadata": {
  "kernelspec": {
   "display_name": "fattails",
   "language": "python",
   "name": "fattails"
  },
  "language_info": {
   "codemirror_mode": {
    "name": "ipython",
    "version": 3
   },
   "file_extension": ".py",
   "mimetype": "text/x-python",
   "name": "python",
   "nbconvert_exporter": "python",
   "pygments_lexer": "ipython3",
   "version": "3.8.5"
  }
 },
 "nbformat": 4,
 "nbformat_minor": 4
}
