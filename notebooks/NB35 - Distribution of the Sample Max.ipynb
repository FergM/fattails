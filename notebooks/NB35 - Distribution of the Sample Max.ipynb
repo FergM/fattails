{
 "cells": [
  {
   "cell_type": "markdown",
   "metadata": {},
   "source": [
    "# About\n",
    "Extreme Value Theory tells us that `max(n_pareto_samples)` follows a Fréchet distribution when the number of samples `n` is large.\n",
    "\n",
    "In this notebook I plot the ratio of exact distribution vs. a Fréchet distribution fit. \n",
    "\n",
    "The resulting plot shows us a 1:1 ratio for large `n` indicating equivalence for practical purposes.\n",
    "\n",
    "##### Permalink\n",
    "[Click here](https://github.com/FergM/fattails/blob/main/notebooks/NB35%20-%20Distribution%20of%20the%20Sample%20Max.ipynb) for latest version of this notebook.\n",
    "\n",
    "##### Context\n",
    "SCFT Book:\n",
    "* Chapter 9: Extreme Value Theory\n",
    "* This is basically a replication of figure 9.2 from *Statistical Consequences of Fat Tails*.\n",
    "* However here I plot the ratio of PDFs instead of the ratio of CDFs. Both ratios show a similar picture.\n",
    "\n",
    "Wikipedia Links:\n",
    "* [Generalised Extreme Value Distribution](https://en.wikipedia.org/wiki/Generalized_extreme_value_distribution)\n",
    "* [Frechet Distribution](https://en.wikipedia.org/wiki/Fr%C3%A9chet_distribution)\n",
    "* [Pareto Distribution](https://en.wikipedia.org/wiki/Pareto_distribution)"
   ]
  },
  {
   "cell_type": "code",
   "execution_count": 1,
   "metadata": {},
   "outputs": [],
   "source": [
    "import numpy as np\n",
    "import pandas as pd"
   ]
  },
  {
   "cell_type": "markdown",
   "metadata": {},
   "source": [
    "### Functions"
   ]
  },
  {
   "cell_type": "code",
   "execution_count": 2,
   "metadata": {},
   "outputs": [],
   "source": [
    "def pareto_max_pdf(x, n, alpha=2, L=1):\n",
    "    \"\"\"PDF of the maximum of n i.i.d. pareto observations.\n",
    "\n",
    "    Calculates the probability density of observing x.\n",
    "    Formula is broken into parts for readability.\n",
    "    \n",
    "    Parameters\n",
    "    ----------\n",
    "    x : float\n",
    "        Value whose probability density we want to know\n",
    "    n : int\n",
    "        Number of observations. \n",
    "    L : float\n",
    "        Minimum value possible\n",
    "    alpha : float\n",
    "        Pareto distribution Tail exponent\n",
    "    \n",
    "    \n",
    "    Returns\n",
    "    -------\n",
    "    probability : float\n",
    "        Probability density for observing x\n",
    "        when other parameters are as specified.\n",
    "    \"\"\"\n",
    "    \n",
    "    left = alpha*n*(L/x)**alpha\n",
    " \n",
    "    right = (1-(L/x)**alpha)**(n-1)\n",
    "    \n",
    "    probability = (left*right)/x\n",
    "    \n",
    "    return probability"
   ]
  },
  {
   "cell_type": "code",
   "execution_count": 3,
   "metadata": {},
   "outputs": [],
   "source": [
    "def frechet_pdf(x, n, alpha=2, L=1):\n",
    "    \"\"\"Frechet PDF\n",
    "\n",
    "    Calculates the probability density of observing x.\n",
    "    Formula is broken into parts for readability.\n",
    "    \n",
    "    This is really a tailored frechet pdf adjusted\n",
    "    in description to fit the problem at hand.\n",
    "    \n",
    "    Parameters\n",
    "    ----------\n",
    "    x : float\n",
    "        Value whose probability density we want to know\n",
    "    n : int\n",
    "        Number of observations. \n",
    "    L : float\n",
    "        Minimum value possible\n",
    "    alpha : float\n",
    "        Pareto distribution Tail exponent\n",
    "\n",
    "    Returns\n",
    "    -------\n",
    "    probability : float\n",
    "        Probability density for observing x\n",
    "        when other parameters are as specified.\n",
    "    \"\"\"\n",
    "    # See SCFT book for beta's definition\n",
    "    beta = L*n**(1/alpha)\n",
    "\n",
    "    left = alpha*beta**alpha\n",
    "    mid = x**(-alpha-1)\n",
    "    right = np.e**((beta**alpha)*(-x**-alpha))\n",
    "    \n",
    "    probability = left*mid*right\n",
    "\n",
    "    return probability"
   ]
  },
  {
   "cell_type": "code",
   "execution_count": 4,
   "metadata": {},
   "outputs": [],
   "source": [
    "def pdf_ratio(x, n, alpha=2, L=1):\n",
    "    \"\"\"Ratio of exact pareto pdf to frechet pdf.\"\"\"\n",
    "    ratio = pareto_max_pdf(x, n, alpha, L) / frechet_pdf(x, n, alpha, L)\n",
    "    return ratio"
   ]
  },
  {
   "cell_type": "markdown",
   "metadata": {},
   "source": [
    "### Check the Functions"
   ]
  },
  {
   "cell_type": "code",
   "execution_count": 5,
   "metadata": {},
   "outputs": [],
   "source": [
    "# Set input values\n",
    "x=5\n",
    "n=100\n",
    "\n",
    "alpha=2\n",
    "L=1"
   ]
  },
  {
   "cell_type": "code",
   "execution_count": 6,
   "metadata": {},
   "outputs": [
    {
     "data": {
      "text/plain": [
       "0.0293050222219747"
      ]
     },
     "execution_count": 6,
     "metadata": {},
     "output_type": "execute_result"
    }
   ],
   "source": [
    "frechet_pdf(x, n, alpha, L)"
   ]
  },
  {
   "cell_type": "code",
   "execution_count": 7,
   "metadata": {},
   "outputs": [
    {
     "data": {
      "text/plain": [
       "0.02811719893141599"
      ]
     },
     "execution_count": 7,
     "metadata": {},
     "output_type": "execute_result"
    }
   ],
   "source": [
    "pareto_max_pdf(x, n, alpha, L)"
   ]
  },
  {
   "cell_type": "code",
   "execution_count": 8,
   "metadata": {},
   "outputs": [
    {
     "data": {
      "text/plain": [
       "0.9594669036057578"
      ]
     },
     "execution_count": 8,
     "metadata": {},
     "output_type": "execute_result"
    }
   ],
   "source": [
    "pdf_ratio(x, n, alpha, L)"
   ]
  },
  {
   "cell_type": "markdown",
   "metadata": {},
   "source": [
    "# Create Data Tables"
   ]
  },
  {
   "cell_type": "code",
   "execution_count": 9,
   "metadata": {},
   "outputs": [],
   "source": [
    "# Set sample sizes\n",
    "sample_sizes = [1, 10, 100, 1_000]"
   ]
  },
  {
   "cell_type": "code",
   "execution_count": 10,
   "metadata": {},
   "outputs": [
    {
     "data": {
      "text/html": [
       "<div>\n",
       "<style scoped>\n",
       "    .dataframe tbody tr th:only-of-type {\n",
       "        vertical-align: middle;\n",
       "    }\n",
       "\n",
       "    .dataframe tbody tr th {\n",
       "        vertical-align: top;\n",
       "    }\n",
       "\n",
       "    .dataframe thead th {\n",
       "        text-align: right;\n",
       "    }\n",
       "</style>\n",
       "<table border=\"1\" class=\"dataframe\">\n",
       "  <thead>\n",
       "    <tr style=\"text-align: right;\">\n",
       "      <th></th>\n",
       "    </tr>\n",
       "    <tr>\n",
       "      <th>x</th>\n",
       "    </tr>\n",
       "  </thead>\n",
       "  <tbody>\n",
       "    <tr>\n",
       "      <th>48</th>\n",
       "    </tr>\n",
       "    <tr>\n",
       "      <th>49</th>\n",
       "    </tr>\n",
       "    <tr>\n",
       "      <th>50</th>\n",
       "    </tr>\n",
       "  </tbody>\n",
       "</table>\n",
       "</div>"
      ],
      "text/plain": [
       "Empty DataFrame\n",
       "Columns: []\n",
       "Index: [48, 49, 50]"
      ]
     },
     "execution_count": 10,
     "metadata": {},
     "output_type": "execute_result"
    }
   ],
   "source": [
    "# Create range of x values\n",
    "x = range(1+1,50+1)  # x=1 is undefined so we start with x=2\n",
    "index_df = pd.Series(x, name='x') \\\n",
    "       .to_frame() \\\n",
    "       .set_index('x')\n",
    "index_df.tail(3)"
   ]
  },
  {
   "cell_type": "code",
   "execution_count": 11,
   "metadata": {},
   "outputs": [
    {
     "data": {
      "text/html": [
       "<div>\n",
       "<style scoped>\n",
       "    .dataframe tbody tr th:only-of-type {\n",
       "        vertical-align: middle;\n",
       "    }\n",
       "\n",
       "    .dataframe tbody tr th {\n",
       "        vertical-align: top;\n",
       "    }\n",
       "\n",
       "    .dataframe thead th {\n",
       "        text-align: right;\n",
       "    }\n",
       "</style>\n",
       "<table border=\"1\" class=\"dataframe\">\n",
       "  <thead>\n",
       "    <tr style=\"text-align: right;\">\n",
       "      <th></th>\n",
       "      <th>pareto_max_n1</th>\n",
       "      <th>pareto_max_n10</th>\n",
       "      <th>pareto_max_n100</th>\n",
       "      <th>pareto_max_n1000</th>\n",
       "    </tr>\n",
       "    <tr>\n",
       "      <th>x</th>\n",
       "      <th></th>\n",
       "      <th></th>\n",
       "      <th></th>\n",
       "      <th></th>\n",
       "    </tr>\n",
       "  </thead>\n",
       "  <tbody>\n",
       "    <tr>\n",
       "      <th>2</th>\n",
       "      <td>0.250000</td>\n",
       "      <td>0.187712</td>\n",
       "      <td>1.069067e-11</td>\n",
       "      <td>3.838328e-123</td>\n",
       "    </tr>\n",
       "    <tr>\n",
       "      <th>3</th>\n",
       "      <td>0.074074</td>\n",
       "      <td>0.256622</td>\n",
       "      <td>6.390966e-05</td>\n",
       "      <td>5.865382e-50</td>\n",
       "    </tr>\n",
       "    <tr>\n",
       "      <th>4</th>\n",
       "      <td>0.031250</td>\n",
       "      <td>0.174820</td>\n",
       "      <td>5.248152e-03</td>\n",
       "      <td>3.120004e-27</td>\n",
       "    </tr>\n",
       "    <tr>\n",
       "      <th>5</th>\n",
       "      <td>0.016000</td>\n",
       "      <td>0.110805</td>\n",
       "      <td>2.811720e-02</td>\n",
       "      <td>3.112302e-17</td>\n",
       "    </tr>\n",
       "    <tr>\n",
       "      <th>6</th>\n",
       "      <td>0.009259</td>\n",
       "      <td>0.071857</td>\n",
       "      <td>5.693313e-02</td>\n",
       "      <td>5.550783e-12</td>\n",
       "    </tr>\n",
       "  </tbody>\n",
       "</table>\n",
       "</div>"
      ],
      "text/plain": [
       "   pareto_max_n1  pareto_max_n10  pareto_max_n100  pareto_max_n1000\n",
       "x                                                                  \n",
       "2       0.250000        0.187712     1.069067e-11     3.838328e-123\n",
       "3       0.074074        0.256622     6.390966e-05      5.865382e-50\n",
       "4       0.031250        0.174820     5.248152e-03      3.120004e-27\n",
       "5       0.016000        0.110805     2.811720e-02      3.112302e-17\n",
       "6       0.009259        0.071857     5.693313e-02      5.550783e-12"
      ]
     },
     "execution_count": 11,
     "metadata": {},
     "output_type": "execute_result"
    }
   ],
   "source": [
    "# Pareto Max pdf for different sample sizes\n",
    "pareto_max_df = index_df.copy()\n",
    "for n in sample_sizes:\n",
    "    pareto_max_df[f'pareto_max_n{n}'] = pareto_max_df.index.map( lambda x: pareto_max_pdf(x, n, alpha=2, L=1) )\n",
    "    \n",
    "pareto_max_df.head()"
   ]
  },
  {
   "cell_type": "code",
   "execution_count": 12,
   "metadata": {},
   "outputs": [
    {
     "data": {
      "text/html": [
       "<div>\n",
       "<style scoped>\n",
       "    .dataframe tbody tr th:only-of-type {\n",
       "        vertical-align: middle;\n",
       "    }\n",
       "\n",
       "    .dataframe tbody tr th {\n",
       "        vertical-align: top;\n",
       "    }\n",
       "\n",
       "    .dataframe thead th {\n",
       "        text-align: right;\n",
       "    }\n",
       "</style>\n",
       "<table border=\"1\" class=\"dataframe\">\n",
       "  <thead>\n",
       "    <tr style=\"text-align: right;\">\n",
       "      <th></th>\n",
       "      <th>frechet_n1</th>\n",
       "      <th>frechet_n10</th>\n",
       "      <th>frechet_n100</th>\n",
       "      <th>frechet_n1000</th>\n",
       "    </tr>\n",
       "    <tr>\n",
       "      <th>x</th>\n",
       "      <th></th>\n",
       "      <th></th>\n",
       "      <th></th>\n",
       "      <th></th>\n",
       "    </tr>\n",
       "  </thead>\n",
       "  <tbody>\n",
       "    <tr>\n",
       "      <th>2</th>\n",
       "      <td>0.194700</td>\n",
       "      <td>0.205212</td>\n",
       "      <td>3.471986e-10</td>\n",
       "      <td>6.672976e-107</td>\n",
       "    </tr>\n",
       "    <tr>\n",
       "      <th>3</th>\n",
       "      <td>0.066284</td>\n",
       "      <td>0.243847</td>\n",
       "      <td>1.107062e-04</td>\n",
       "      <td>4.118355e-47</td>\n",
       "    </tr>\n",
       "    <tr>\n",
       "      <th>4</th>\n",
       "      <td>0.029357</td>\n",
       "      <td>0.167269</td>\n",
       "      <td>6.032669e-03</td>\n",
       "      <td>2.246182e-26</td>\n",
       "    </tr>\n",
       "    <tr>\n",
       "      <th>5</th>\n",
       "      <td>0.015373</td>\n",
       "      <td>0.107251</td>\n",
       "      <td>2.930502e-02</td>\n",
       "      <td>6.797367e-17</td>\n",
       "    </tr>\n",
       "    <tr>\n",
       "      <th>6</th>\n",
       "      <td>0.009006</td>\n",
       "      <td>0.070136</td>\n",
       "      <td>5.757086e-02</td>\n",
       "      <td>7.995408e-12</td>\n",
       "    </tr>\n",
       "  </tbody>\n",
       "</table>\n",
       "</div>"
      ],
      "text/plain": [
       "   frechet_n1  frechet_n10  frechet_n100  frechet_n1000\n",
       "x                                                      \n",
       "2    0.194700     0.205212  3.471986e-10  6.672976e-107\n",
       "3    0.066284     0.243847  1.107062e-04   4.118355e-47\n",
       "4    0.029357     0.167269  6.032669e-03   2.246182e-26\n",
       "5    0.015373     0.107251  2.930502e-02   6.797367e-17\n",
       "6    0.009006     0.070136  5.757086e-02   7.995408e-12"
      ]
     },
     "execution_count": 12,
     "metadata": {},
     "output_type": "execute_result"
    }
   ],
   "source": [
    "# Frechet pdf for different sample sizes\n",
    "frechet_df = index_df.copy()\n",
    "for n in sample_sizes:\n",
    "    frechet_df[f'frechet_n{n}'] = frechet_df.index.map( lambda x: frechet_pdf(x, n, alpha=2, L=1) )\n",
    "\n",
    "frechet_df.head()"
   ]
  },
  {
   "cell_type": "code",
   "execution_count": 13,
   "metadata": {},
   "outputs": [
    {
     "data": {
      "text/html": [
       "<div>\n",
       "<style scoped>\n",
       "    .dataframe tbody tr th:only-of-type {\n",
       "        vertical-align: middle;\n",
       "    }\n",
       "\n",
       "    .dataframe tbody tr th {\n",
       "        vertical-align: top;\n",
       "    }\n",
       "\n",
       "    .dataframe thead th {\n",
       "        text-align: right;\n",
       "    }\n",
       "</style>\n",
       "<table border=\"1\" class=\"dataframe\">\n",
       "  <thead>\n",
       "    <tr style=\"text-align: right;\">\n",
       "      <th></th>\n",
       "      <th>ratio_n1</th>\n",
       "      <th>ratio_n10</th>\n",
       "      <th>ratio_n100</th>\n",
       "      <th>ratio_n1000</th>\n",
       "    </tr>\n",
       "    <tr>\n",
       "      <th>x</th>\n",
       "      <th></th>\n",
       "      <th></th>\n",
       "      <th></th>\n",
       "      <th></th>\n",
       "    </tr>\n",
       "  </thead>\n",
       "  <tbody>\n",
       "    <tr>\n",
       "      <th>2</th>\n",
       "      <td>1.284025</td>\n",
       "      <td>0.914719</td>\n",
       "      <td>0.030791</td>\n",
       "      <td>5.752049e-17</td>\n",
       "    </tr>\n",
       "    <tr>\n",
       "      <th>3</th>\n",
       "      <td>1.117519</td>\n",
       "      <td>1.052390</td>\n",
       "      <td>0.577291</td>\n",
       "      <td>1.424205e-03</td>\n",
       "    </tr>\n",
       "    <tr>\n",
       "      <th>4</th>\n",
       "      <td>1.064494</td>\n",
       "      <td>1.045143</td>\n",
       "      <td>0.869955</td>\n",
       "      <td>1.389026e-01</td>\n",
       "    </tr>\n",
       "    <tr>\n",
       "      <th>5</th>\n",
       "      <td>1.040811</td>\n",
       "      <td>1.033139</td>\n",
       "      <td>0.959467</td>\n",
       "      <td>4.578688e-01</td>\n",
       "    </tr>\n",
       "    <tr>\n",
       "      <th>6</th>\n",
       "      <td>1.028167</td>\n",
       "      <td>1.024536</td>\n",
       "      <td>0.988923</td>\n",
       "      <td>6.942464e-01</td>\n",
       "    </tr>\n",
       "  </tbody>\n",
       "</table>\n",
       "</div>"
      ],
      "text/plain": [
       "   ratio_n1  ratio_n10  ratio_n100   ratio_n1000\n",
       "x                                               \n",
       "2  1.284025   0.914719    0.030791  5.752049e-17\n",
       "3  1.117519   1.052390    0.577291  1.424205e-03\n",
       "4  1.064494   1.045143    0.869955  1.389026e-01\n",
       "5  1.040811   1.033139    0.959467  4.578688e-01\n",
       "6  1.028167   1.024536    0.988923  6.942464e-01"
      ]
     },
     "execution_count": 13,
     "metadata": {},
     "output_type": "execute_result"
    }
   ],
   "source": [
    "# Ratios for different sample sizes\n",
    "ratio_df = index_df.copy()\n",
    "for n in sample_sizes:\n",
    "    ratio_df[f'ratio_n{n}'] = ratio_df.index.map( lambda x: pdf_ratio(x, n, alpha=2, L=1) )\n",
    "    \n",
    "ratio_df.head()"
   ]
  },
  {
   "cell_type": "markdown",
   "metadata": {},
   "source": [
    "Show ratio data:"
   ]
  },
  {
   "cell_type": "code",
   "execution_count": 14,
   "metadata": {},
   "outputs": [
    {
     "data": {
      "text/html": [
       "<div>\n",
       "<style scoped>\n",
       "    .dataframe tbody tr th:only-of-type {\n",
       "        vertical-align: middle;\n",
       "    }\n",
       "\n",
       "    .dataframe tbody tr th {\n",
       "        vertical-align: top;\n",
       "    }\n",
       "\n",
       "    .dataframe thead th {\n",
       "        text-align: right;\n",
       "    }\n",
       "</style>\n",
       "<table border=\"1\" class=\"dataframe\">\n",
       "  <thead>\n",
       "    <tr style=\"text-align: right;\">\n",
       "      <th></th>\n",
       "      <th>ratio_n1</th>\n",
       "      <th>ratio_n10</th>\n",
       "      <th>ratio_n100</th>\n",
       "      <th>ratio_n1000</th>\n",
       "    </tr>\n",
       "    <tr>\n",
       "      <th>x</th>\n",
       "      <th></th>\n",
       "      <th></th>\n",
       "      <th></th>\n",
       "      <th></th>\n",
       "    </tr>\n",
       "  </thead>\n",
       "  <tbody>\n",
       "    <tr>\n",
       "      <th>46</th>\n",
       "      <td>1.000473</td>\n",
       "      <td>1.000472</td>\n",
       "      <td>1.000462</td>\n",
       "      <td>1.000361</td>\n",
       "    </tr>\n",
       "    <tr>\n",
       "      <th>47</th>\n",
       "      <td>1.000453</td>\n",
       "      <td>1.000452</td>\n",
       "      <td>1.000443</td>\n",
       "      <td>1.000350</td>\n",
       "    </tr>\n",
       "    <tr>\n",
       "      <th>48</th>\n",
       "      <td>1.000434</td>\n",
       "      <td>1.000433</td>\n",
       "      <td>1.000425</td>\n",
       "      <td>1.000340</td>\n",
       "    </tr>\n",
       "    <tr>\n",
       "      <th>49</th>\n",
       "      <td>1.000417</td>\n",
       "      <td>1.000416</td>\n",
       "      <td>1.000408</td>\n",
       "      <td>1.000330</td>\n",
       "    </tr>\n",
       "    <tr>\n",
       "      <th>50</th>\n",
       "      <td>1.000400</td>\n",
       "      <td>1.000399</td>\n",
       "      <td>1.000392</td>\n",
       "      <td>1.000320</td>\n",
       "    </tr>\n",
       "  </tbody>\n",
       "</table>\n",
       "</div>"
      ],
      "text/plain": [
       "    ratio_n1  ratio_n10  ratio_n100  ratio_n1000\n",
       "x                                               \n",
       "46  1.000473   1.000472    1.000462     1.000361\n",
       "47  1.000453   1.000452    1.000443     1.000350\n",
       "48  1.000434   1.000433    1.000425     1.000340\n",
       "49  1.000417   1.000416    1.000408     1.000330\n",
       "50  1.000400   1.000399    1.000392     1.000320"
      ]
     },
     "execution_count": 14,
     "metadata": {},
     "output_type": "execute_result"
    }
   ],
   "source": [
    "# ratio_df tail. Each column is for a different sample size\n",
    "ratio_df.tail()"
   ]
  },
  {
   "cell_type": "markdown",
   "metadata": {},
   "source": [
    "# Plots"
   ]
  },
  {
   "cell_type": "markdown",
   "metadata": {},
   "source": [
    "Plot the ratio of *exact PDF/frechet PDF* for a power law (tail_alpha=2, min=1)."
   ]
  },
  {
   "cell_type": "code",
   "execution_count": 15,
   "metadata": {},
   "outputs": [
    {
     "data": {
      "image/png": "[encoded data removed]",
      "text/plain": [
       "<Figure size 432x288 with 1 Axes>"
      ]
     },
     "metadata": {
      "needs_background": "light"
     },
     "output_type": "display_data"
    }
   ],
   "source": [
    "# Pareto Max\n",
    "plot_kwargs = {'title':'Sample Max: Exact PDF',\n",
    "               'ylabel':'Ratio'}\n",
    "\n",
    "pareto_max_df.plot(**plot_kwargs);"
   ]
  },
  {
   "cell_type": "code",
   "execution_count": 16,
   "metadata": {},
   "outputs": [
    {
     "data": {
      "image/png": "[encoded data removed]",
      "text/plain": [
       "<Figure size 432x288 with 1 Axes>"
      ]
     },
     "metadata": {
      "needs_background": "light"
     },
     "output_type": "display_data"
    }
   ],
   "source": [
    "# Frechet\n",
    "plot_kwargs = {'title':'Sample Max: Fréchet PDF',\n",
    "               'ylabel':'Ratio'}\n",
    "\n",
    "frechet_df.plot(**plot_kwargs);"
   ]
  },
  {
   "cell_type": "code",
   "execution_count": 17,
   "metadata": {},
   "outputs": [
    {
     "data": {
      "image/png": "[encoded data removed]",
      "text/plain": [
       "<Figure size 432x288 with 1 Axes>"
      ]
     },
     "metadata": {
      "needs_background": "light"
     },
     "output_type": "display_data"
    }
   ],
   "source": [
    "# Ratio\n",
    "plot_kwargs = {'title':'Sample Max: Exact PDF vs. Fréchet PDF',\n",
    "               'ylabel':'Ratio'}\n",
    "\n",
    "ratio_df.plot(**plot_kwargs);"
   ]
  },
  {
   "cell_type": "code",
   "execution_count": null,
   "metadata": {},
   "outputs": [],
   "source": []
  }
 ],
 "metadata": {
  "kernelspec": {
   "display_name": "fattails",
   "language": "python",
   "name": "fattails"
  },
  "language_info": {
   "codemirror_mode": {
    "name": "ipython",
    "version": 3
   },
   "file_extension": ".py",
   "mimetype": "text/x-python",
   "name": "python",
   "nbconvert_exporter": "python",
   "pygments_lexer": "ipython3",
   "version": "3.8.5"
  }
 },
 "nbformat": 4,
 "nbformat_minor": 4
}
