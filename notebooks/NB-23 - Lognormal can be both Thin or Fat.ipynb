{
 "cells": [
  {
   "cell_type": "markdown",
   "metadata": {},
   "source": [
    "# About\n",
    "This notebook looks at tailedness of the lognormal distribution. \n",
    "\n",
    "The LogNormal can be both thin OR fat tailed! By definition a lognormal is the distribution of the log of the normal distribution. If the underlying normal has high standard deviation then the corresponding lognormal will be fattailed."
   ]
  },
  {
   "cell_type": "code",
   "execution_count": 16,
   "metadata": {},
   "outputs": [],
   "source": [
    "import matplotlib.pyplot as plt\n",
    "import numpy as np\n",
    "import pandas as pd\n",
    "from scipy.stats import lognorm"
   ]
  },
  {
   "cell_type": "markdown",
   "metadata": {},
   "source": [
    "###  Plot Simple Lognormal\n",
    "Do a basic lognormal plot before we try to vary the shape."
   ]
  },
  {
   "cell_type": "code",
   "execution_count": 17,
   "metadata": {},
   "outputs": [],
   "source": [
    "# Chose a shape parameter\n",
    "shape = 1 # std of the underlying normal distribution"
   ]
  },
  {
   "cell_type": "code",
   "execution_count": 18,
   "metadata": {},
   "outputs": [],
   "source": [
    "# Generate 100 Points\n",
    "x = np.linspace(0, 4, 100)  # 100 equally spaced x locations\n",
    "y = lognorm.pdf(x, s=shape) # 100 corresponding probability densities"
   ]
  },
  {
   "cell_type": "code",
   "execution_count": 19,
   "metadata": {},
   "outputs": [
    {
     "data": {
      "image/png": "[encoded data removed]",
      "text/plain": [
       "<Figure size 432x288 with 1 Axes>"
      ]
     },
     "metadata": {
      "needs_background": "light"
     },
     "output_type": "display_data"
    }
   ],
   "source": [
    "# Plot\n",
    "fig, ax = plt.subplots()\n",
    "ax.plot(x, y)\n",
    "ax.set(xlabel='x', ylabel='pdf(x)',\n",
    "       title=f'LogNormal Distribution PDF - shape={float(shape)}')\n",
    "#ax.grid()\n",
    "plt.show()"
   ]
  },
  {
   "cell_type": "markdown",
   "metadata": {},
   "source": [
    "# Vary the Shape\n",
    "The shape parameter is the standard deviation of the normal distribution before it gets converted into a lognormal."
   ]
  },
  {
   "cell_type": "code",
   "execution_count": 20,
   "metadata": {},
   "outputs": [
    {
     "data": {
      "text/plain": [
       "[0.1, 0.16, 0.27, 0.45, 0.74, 1.21, 2.0]"
      ]
     },
     "execution_count": 20,
     "metadata": {},
     "output_type": "execute_result"
    }
   ],
   "source": [
    "# Select some Shapes\n",
    "shapes = list(np.logspace(np.log(0.1), np.log(2), num=7, base=np.e))\n",
    "shapes = [round(shape,2) for shape in shapes] # Round to two decimals\n",
    "shapes"
   ]
  },
  {
   "cell_type": "code",
   "execution_count": 21,
   "metadata": {},
   "outputs": [],
   "source": [
    "# Generate points for the x-axis\n",
    "x = np.linspace(0, 4, 100)"
   ]
  },
  {
   "cell_type": "code",
   "execution_count": 22,
   "metadata": {},
   "outputs": [],
   "source": [
    "# FUNCTION\n",
    "# Lets be explicit about how probability density is calculated\n",
    "get_probability_density = lambda x, shape: lognorm.pdf(x, shape)"
   ]
  },
  {
   "cell_type": "code",
   "execution_count": 23,
   "metadata": {},
   "outputs": [],
   "source": [
    "# Create the PDF curves\n",
    "# Each sublist is a list of probability densities for a different shape s\n",
    "curve_list = [get_probability_density(x, shape) for shape in shapes]"
   ]
  },
  {
   "cell_type": "code",
   "execution_count": 24,
   "metadata": {},
   "outputs": [
    {
     "data": {
      "text/html": [
       "<div>\n",
       "<style scoped>\n",
       "    .dataframe tbody tr th:only-of-type {\n",
       "        vertical-align: middle;\n",
       "    }\n",
       "\n",
       "    .dataframe tbody tr th {\n",
       "        vertical-align: top;\n",
       "    }\n",
       "\n",
       "    .dataframe thead th {\n",
       "        text-align: right;\n",
       "    }\n",
       "</style>\n",
       "<table border=\"1\" class=\"dataframe\">\n",
       "  <thead>\n",
       "    <tr style=\"text-align: right;\">\n",
       "      <th>shape</th>\n",
       "      <th>0.10</th>\n",
       "      <th>0.16</th>\n",
       "      <th>0.27</th>\n",
       "      <th>0.45</th>\n",
       "      <th>0.74</th>\n",
       "      <th>1.21</th>\n",
       "      <th>2.00</th>\n",
       "    </tr>\n",
       "    <tr>\n",
       "      <th>x</th>\n",
       "      <th></th>\n",
       "      <th></th>\n",
       "      <th></th>\n",
       "      <th></th>\n",
       "      <th></th>\n",
       "      <th></th>\n",
       "      <th></th>\n",
       "    </tr>\n",
       "  </thead>\n",
       "  <tbody>\n",
       "    <tr>\n",
       "      <th>0.000000</th>\n",
       "      <td>0.000000e+00</td>\n",
       "      <td>0.000000e+00</td>\n",
       "      <td>0.000000e+00</td>\n",
       "      <td>0.000000e+00</td>\n",
       "      <td>0.000000</td>\n",
       "      <td>0.000000</td>\n",
       "      <td>0.000000</td>\n",
       "    </tr>\n",
       "    <tr>\n",
       "      <th>0.040404</th>\n",
       "      <td>2.555663e-222</td>\n",
       "      <td>2.829441e-86</td>\n",
       "      <td>7.811846e-30</td>\n",
       "      <td>1.994988e-10</td>\n",
       "      <td>0.001102</td>\n",
       "      <td>0.242421</td>\n",
       "      <td>1.362975</td>\n",
       "    </tr>\n",
       "    <tr>\n",
       "      <th>0.080808</th>\n",
       "      <td>1.857126e-136</td>\n",
       "      <td>6.424591e-53</td>\n",
       "      <td>2.576193e-18</td>\n",
       "      <td>1.794081e-06</td>\n",
       "      <td>0.020637</td>\n",
       "      <td>0.469939</td>\n",
       "      <td>1.119087</td>\n",
       "    </tr>\n",
       "    <tr>\n",
       "      <th>0.121212</th>\n",
       "      <td>6.632894e-96</td>\n",
       "      <td>3.479377e-37</td>\n",
       "      <td>6.635127e-13</td>\n",
       "      <td>1.227601e-04</td>\n",
       "      <td>0.076265</td>\n",
       "      <td>0.594476</td>\n",
       "      <td>0.943181</td>\n",
       "    </tr>\n",
       "    <tr>\n",
       "      <th>0.161616</th>\n",
       "      <td>1.838102e-71</td>\n",
       "      <td>1.031059e-27</td>\n",
       "      <td>1.166682e-09</td>\n",
       "      <td>1.504297e-03</td>\n",
       "      <td>0.160704</td>\n",
       "      <td>0.656139</td>\n",
       "      <td>0.814845</td>\n",
       "    </tr>\n",
       "    <tr>\n",
       "      <th>...</th>\n",
       "      <td>...</td>\n",
       "      <td>...</td>\n",
       "      <td>...</td>\n",
       "      <td>...</td>\n",
       "      <td>...</td>\n",
       "      <td>...</td>\n",
       "      <td>...</td>\n",
       "    </tr>\n",
       "    <tr>\n",
       "      <th>3.838384</th>\n",
       "      <td>5.386173e-40</td>\n",
       "      <td>2.929210e-16</td>\n",
       "      <td>1.571965e-06</td>\n",
       "      <td>2.651706e-03</td>\n",
       "      <td>0.026923</td>\n",
       "      <td>0.046307</td>\n",
       "      <td>0.041449</td>\n",
       "    </tr>\n",
       "    <tr>\n",
       "      <th>3.878788</th>\n",
       "      <td>1.296201e-40</td>\n",
       "      <td>1.668536e-16</td>\n",
       "      <td>1.281333e-06</td>\n",
       "      <td>2.447112e-03</td>\n",
       "      <td>0.025963</td>\n",
       "      <td>0.045385</td>\n",
       "      <td>0.040873</td>\n",
       "    </tr>\n",
       "    <tr>\n",
       "      <th>3.919192</th>\n",
       "      <td>3.131748e-41</td>\n",
       "      <td>9.519676e-17</td>\n",
       "      <td>1.045101e-06</td>\n",
       "      <td>2.258978e-03</td>\n",
       "      <td>0.025042</td>\n",
       "      <td>0.044486</td>\n",
       "      <td>0.040309</td>\n",
       "    </tr>\n",
       "    <tr>\n",
       "      <th>3.959596</th>\n",
       "      <td>7.596896e-42</td>\n",
       "      <td>5.440197e-17</td>\n",
       "      <td>8.529666e-07</td>\n",
       "      <td>2.085931e-03</td>\n",
       "      <td>0.024158</td>\n",
       "      <td>0.043611</td>\n",
       "      <td>0.039758</td>\n",
       "    </tr>\n",
       "    <tr>\n",
       "      <th>4.000000</th>\n",
       "      <td>1.850255e-42</td>\n",
       "      <td>3.113986e-17</td>\n",
       "      <td>6.966016e-07</td>\n",
       "      <td>1.926712e-03</td>\n",
       "      <td>0.023310</td>\n",
       "      <td>0.042759</td>\n",
       "      <td>0.039219</td>\n",
       "    </tr>\n",
       "  </tbody>\n",
       "</table>\n",
       "<p>100 rows × 7 columns</p>\n",
       "</div>"
      ],
      "text/plain": [
       "shape              0.10          0.16          0.27          0.45      0.74  \\\n",
       "x                                                                             \n",
       "0.000000   0.000000e+00  0.000000e+00  0.000000e+00  0.000000e+00  0.000000   \n",
       "0.040404  2.555663e-222  2.829441e-86  7.811846e-30  1.994988e-10  0.001102   \n",
       "0.080808  1.857126e-136  6.424591e-53  2.576193e-18  1.794081e-06  0.020637   \n",
       "0.121212   6.632894e-96  3.479377e-37  6.635127e-13  1.227601e-04  0.076265   \n",
       "0.161616   1.838102e-71  1.031059e-27  1.166682e-09  1.504297e-03  0.160704   \n",
       "...                 ...           ...           ...           ...       ...   \n",
       "3.838384   5.386173e-40  2.929210e-16  1.571965e-06  2.651706e-03  0.026923   \n",
       "3.878788   1.296201e-40  1.668536e-16  1.281333e-06  2.447112e-03  0.025963   \n",
       "3.919192   3.131748e-41  9.519676e-17  1.045101e-06  2.258978e-03  0.025042   \n",
       "3.959596   7.596896e-42  5.440197e-17  8.529666e-07  2.085931e-03  0.024158   \n",
       "4.000000   1.850255e-42  3.113986e-17  6.966016e-07  1.926712e-03  0.023310   \n",
       "\n",
       "shape         1.21      2.00  \n",
       "x                             \n",
       "0.000000  0.000000  0.000000  \n",
       "0.040404  0.242421  1.362975  \n",
       "0.080808  0.469939  1.119087  \n",
       "0.121212  0.594476  0.943181  \n",
       "0.161616  0.656139  0.814845  \n",
       "...            ...       ...  \n",
       "3.838384  0.046307  0.041449  \n",
       "3.878788  0.045385  0.040873  \n",
       "3.919192  0.044486  0.040309  \n",
       "3.959596  0.043611  0.039758  \n",
       "4.000000  0.042759  0.039219  \n",
       "\n",
       "[100 rows x 7 columns]"
      ]
     },
     "execution_count": 24,
     "metadata": {},
     "output_type": "execute_result"
    }
   ],
   "source": [
    "# Make a Table from the PDFs\n",
    "df = pd.DataFrame(curve_list, columns=x, index=shapes)\n",
    "df.index.name = 'shape'\n",
    "df.columns.name='x'\n",
    "df = df.T\n",
    "df"
   ]
  },
  {
   "cell_type": "code",
   "execution_count": 25,
   "metadata": {},
   "outputs": [
    {
     "data": {
      "image/png": "[encoded data removed]",
      "text/plain": [
       "<Figure size 720x360 with 1 Axes>"
      ]
     },
     "metadata": {
      "needs_background": "light"
     },
     "output_type": "display_data"
    }
   ],
   "source": [
    "# Plot the PDF for each Shape\n",
    "ax = df.plot(figsize=[10,5])\n",
    "ax.set(xlabel='x', ylabel='pdf(x)',\n",
    "       title=f'LogNormal Distribution PDF');"
   ]
  },
  {
   "cell_type": "markdown",
   "metadata": {},
   "source": [
    "See how it looks normally distributed for small shape parameters. But then as the shape increases it loses symmetry and builds up a right tail."
   ]
  },
  {
   "cell_type": "markdown",
   "metadata": {},
   "source": [
    "# Conclusion\n",
    "The lognormal can be Thin Tailed OR Fat Tailed!\n",
    "\n",
    "When the lognormal's is based on a low variance gaussian it is thin tailed and bell shaped. As you increase the variance of the underlying gaussian the lognormal gets more and more skewed. For large scale parameter the lognormal has a very fat right tail."
   ]
  }
 ],
 "metadata": {
  "kernelspec": {
   "display_name": "Python 3",
   "language": "python",
   "name": "python3"
  },
  "language_info": {
   "codemirror_mode": {
    "name": "ipython",
    "version": 3
   },
   "file_extension": ".py",
   "mimetype": "text/x-python",
   "name": "python",
   "nbconvert_exporter": "python",
   "pygments_lexer": "ipython3",
   "version": "3.7.6"
  }
 },
 "nbformat": 4,
 "nbformat_minor": 4
}
