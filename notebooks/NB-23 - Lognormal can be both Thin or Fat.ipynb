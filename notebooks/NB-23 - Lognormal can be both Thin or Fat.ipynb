{
 "cells": [
  {
   "cell_type": "markdown",
   "metadata": {},
   "source": [
    "# About\n",
    "This notebook looks at tailedness of the log-normal distribution.\n",
    "\n",
    "The log-normal can be both thin OR fat tailed! By definition a log-normal is the distribution X whereby log(X) follows a normal distribution. If the underlying normal has high standard deviation then the corresponding log-normal will be fattailed."
   ]
  },
  {
   "cell_type": "code",
   "execution_count": 1,
   "metadata": {},
   "outputs": [],
   "source": [
    "import matplotlib.pyplot as plt\n",
    "import numpy as np\n",
    "import pandas as pd\n",
    "from scipy.stats import lognorm"
   ]
  },
  {
   "cell_type": "markdown",
   "metadata": {},
   "source": [
    "###  Plot Simple Lognormal\n",
    "Do a basic lognormal plot before we try to vary the shape."
   ]
  },
  {
   "cell_type": "code",
   "execution_count": 2,
   "metadata": {},
   "outputs": [],
   "source": [
    "# Chose a shape parameter\n",
    "shape = 1 # std of the underlying normal distribution"
   ]
  },
  {
   "cell_type": "code",
   "execution_count": 3,
   "metadata": {},
   "outputs": [],
   "source": [
    "# Generate 100 Points\n",
    "x = np.linspace(0, 4, 100)  # 100 equally spaced x locations\n",
    "y = lognorm.pdf(x, s=shape) # 100 corresponding probability densities"
   ]
  },
  {
   "cell_type": "code",
   "execution_count": 4,
   "metadata": {},
   "outputs": [
    {
     "data": {
      "image/png": "[encoded data removed]",
      "text/plain": [
       "<Figure size 432x288 with 1 Axes>"
      ]
     },
     "metadata": {
      "needs_background": "light"
     },
     "output_type": "display_data"
    }
   ],
   "source": [
    "# Plot\n",
    "fig, ax = plt.subplots()\n",
    "ax.plot(x, y)\n",
    "ax.set(xlabel='x', ylabel='pdf(x)',\n",
    "       title=f'LogNormal Distribution PDF - shape={float(shape)}')\n",
    "#ax.grid()\n",
    "plt.show()"
   ]
  },
  {
   "cell_type": "markdown",
   "metadata": {},
   "source": [
    "# Vary the Shape\n",
    "The shape parameter is the standard deviation of the normal distribution which underlies a particular choice of log-normal."
   ]
  },
  {
   "cell_type": "code",
   "execution_count": 5,
   "metadata": {},
   "outputs": [
    {
     "data": {
      "text/plain": [
       "[0.1, 0.16, 0.27, 0.45, 0.74, 1.21, 2.0]"
      ]
     },
     "execution_count": 5,
     "metadata": {},
     "output_type": "execute_result"
    }
   ],
   "source": [
    "# Select some Shapes\n",
    "shapes = list(np.logspace(np.log(0.1), np.log(2), num=7, base=np.e))\n",
    "shapes = [round(shape,2) for shape in shapes] # Round to two decimals\n",
    "shapes"
   ]
  },
  {
   "cell_type": "code",
   "execution_count": 6,
   "metadata": {},
   "outputs": [],
   "source": [
    "# Generate points for the x-axis\n",
    "x = np.linspace(0, 4, 1000)"
   ]
  },
  {
   "cell_type": "code",
   "execution_count": 7,
   "metadata": {},
   "outputs": [],
   "source": [
    "# FUNCTION\n",
    "# Lets be explicit about how probability density is calculated\n",
    "get_probability_density = lambda x, shape: lognorm.pdf(x, shape)"
   ]
  },
  {
   "cell_type": "code",
   "execution_count": 8,
   "metadata": {},
   "outputs": [],
   "source": [
    "# Create the PDF curves\n",
    "# Each sublist is a list of probability densities for a different shape s\n",
    "curve_list = [get_probability_density(x, shape) for shape in shapes]"
   ]
  },
  {
   "cell_type": "code",
   "execution_count": 9,
   "metadata": {},
   "outputs": [
    {
     "data": {
      "text/html": [
       "<div>\n",
       "<style scoped>\n",
       "    .dataframe tbody tr th:only-of-type {\n",
       "        vertical-align: middle;\n",
       "    }\n",
       "\n",
       "    .dataframe tbody tr th {\n",
       "        vertical-align: top;\n",
       "    }\n",
       "\n",
       "    .dataframe thead th {\n",
       "        text-align: right;\n",
       "    }\n",
       "</style>\n",
       "<table border=\"1\" class=\"dataframe\">\n",
       "  <thead>\n",
       "    <tr style=\"text-align: right;\">\n",
       "      <th>shape</th>\n",
       "      <th>0.10</th>\n",
       "      <th>0.16</th>\n",
       "      <th>0.27</th>\n",
       "      <th>0.45</th>\n",
       "      <th>0.74</th>\n",
       "      <th>1.21</th>\n",
       "      <th>2.00</th>\n",
       "    </tr>\n",
       "    <tr>\n",
       "      <th>x</th>\n",
       "      <th></th>\n",
       "      <th></th>\n",
       "      <th></th>\n",
       "      <th></th>\n",
       "      <th></th>\n",
       "      <th></th>\n",
       "      <th></th>\n",
       "    </tr>\n",
       "  </thead>\n",
       "  <tbody>\n",
       "    <tr>\n",
       "      <th>0.000000</th>\n",
       "      <td>0.000000e+00</td>\n",
       "      <td>0.000000e+00</td>\n",
       "      <td>0.000000e+00</td>\n",
       "      <td>0.000000e+00</td>\n",
       "      <td>0.000000e+00</td>\n",
       "      <td>0.000000</td>\n",
       "      <td>0.000000</td>\n",
       "    </tr>\n",
       "    <tr>\n",
       "      <th>0.004004</th>\n",
       "      <td>0.000000e+00</td>\n",
       "      <td>1.957377e-256</td>\n",
       "      <td>6.162052e-89</td>\n",
       "      <td>4.627704e-31</td>\n",
       "      <td>1.107460e-10</td>\n",
       "      <td>0.002487</td>\n",
       "      <td>1.103999</td>\n",
       "    </tr>\n",
       "    <tr>\n",
       "      <th>0.008008</th>\n",
       "      <td>0.000000e+00</td>\n",
       "      <td>6.765471e-196</td>\n",
       "      <td>7.136938e-68</td>\n",
       "      <td>1.136762e-23</td>\n",
       "      <td>3.868284e-08</td>\n",
       "      <td>0.014402</td>\n",
       "      <td>1.353046</td>\n",
       "    </tr>\n",
       "    <tr>\n",
       "      <th>0.012012</th>\n",
       "      <td>0.000000e+00</td>\n",
       "      <td>2.915310e-164</td>\n",
       "      <td>7.049825e-57</td>\n",
       "      <td>7.962529e-20</td>\n",
       "      <td>7.916798e-07</td>\n",
       "      <td>0.034558</td>\n",
       "      <td>1.441479</td>\n",
       "    </tr>\n",
       "    <tr>\n",
       "      <th>0.016016</th>\n",
       "      <td>0.000000e+00</td>\n",
       "      <td>1.652779e-143</td>\n",
       "      <td>1.135135e-49</td>\n",
       "      <td>2.603533e-17</td>\n",
       "      <td>5.619113e-06</td>\n",
       "      <td>0.060073</td>\n",
       "      <td>1.470591</td>\n",
       "    </tr>\n",
       "    <tr>\n",
       "      <th>...</th>\n",
       "      <td>...</td>\n",
       "      <td>...</td>\n",
       "      <td>...</td>\n",
       "      <td>...</td>\n",
       "      <td>...</td>\n",
       "      <td>...</td>\n",
       "      <td>...</td>\n",
       "    </tr>\n",
       "    <tr>\n",
       "      <th>3.983984</th>\n",
       "      <td>3.237229e-42</td>\n",
       "      <td>3.883985e-17</td>\n",
       "      <td>7.547675e-07</td>\n",
       "      <td>1.988247e-03</td>\n",
       "      <td>2.364195e-02</td>\n",
       "      <td>0.043095</td>\n",
       "      <td>0.039431</td>\n",
       "    </tr>\n",
       "    <tr>\n",
       "      <th>3.987988</th>\n",
       "      <td>2.814570e-42</td>\n",
       "      <td>3.675165e-17</td>\n",
       "      <td>7.397788e-07</td>\n",
       "      <td>1.972673e-03</td>\n",
       "      <td>2.355838e-02</td>\n",
       "      <td>0.043010</td>\n",
       "      <td>0.039378</td>\n",
       "    </tr>\n",
       "    <tr>\n",
       "      <th>3.991992</th>\n",
       "      <td>2.447192e-42</td>\n",
       "      <td>3.477628e-17</td>\n",
       "      <td>7.250924e-07</td>\n",
       "      <td>1.957227e-03</td>\n",
       "      <td>2.347514e-02</td>\n",
       "      <td>0.042927</td>\n",
       "      <td>0.039324</td>\n",
       "    </tr>\n",
       "    <tr>\n",
       "      <th>3.995996</th>\n",
       "      <td>2.127851e-42</td>\n",
       "      <td>3.290761e-17</td>\n",
       "      <td>7.107020e-07</td>\n",
       "      <td>1.941907e-03</td>\n",
       "      <td>2.339224e-02</td>\n",
       "      <td>0.042843</td>\n",
       "      <td>0.039271</td>\n",
       "    </tr>\n",
       "    <tr>\n",
       "      <th>4.000000</th>\n",
       "      <td>1.850255e-42</td>\n",
       "      <td>3.113986e-17</td>\n",
       "      <td>6.966016e-07</td>\n",
       "      <td>1.926712e-03</td>\n",
       "      <td>2.330967e-02</td>\n",
       "      <td>0.042759</td>\n",
       "      <td>0.039219</td>\n",
       "    </tr>\n",
       "  </tbody>\n",
       "</table>\n",
       "<p>1000 rows × 7 columns</p>\n",
       "</div>"
      ],
      "text/plain": [
       "shape             0.10           0.16          0.27          0.45  \\\n",
       "x                                                                   \n",
       "0.000000  0.000000e+00   0.000000e+00  0.000000e+00  0.000000e+00   \n",
       "0.004004  0.000000e+00  1.957377e-256  6.162052e-89  4.627704e-31   \n",
       "0.008008  0.000000e+00  6.765471e-196  7.136938e-68  1.136762e-23   \n",
       "0.012012  0.000000e+00  2.915310e-164  7.049825e-57  7.962529e-20   \n",
       "0.016016  0.000000e+00  1.652779e-143  1.135135e-49  2.603533e-17   \n",
       "...                ...            ...           ...           ...   \n",
       "3.983984  3.237229e-42   3.883985e-17  7.547675e-07  1.988247e-03   \n",
       "3.987988  2.814570e-42   3.675165e-17  7.397788e-07  1.972673e-03   \n",
       "3.991992  2.447192e-42   3.477628e-17  7.250924e-07  1.957227e-03   \n",
       "3.995996  2.127851e-42   3.290761e-17  7.107020e-07  1.941907e-03   \n",
       "4.000000  1.850255e-42   3.113986e-17  6.966016e-07  1.926712e-03   \n",
       "\n",
       "shape             0.74      1.21      2.00  \n",
       "x                                           \n",
       "0.000000  0.000000e+00  0.000000  0.000000  \n",
       "0.004004  1.107460e-10  0.002487  1.103999  \n",
       "0.008008  3.868284e-08  0.014402  1.353046  \n",
       "0.012012  7.916798e-07  0.034558  1.441479  \n",
       "0.016016  5.619113e-06  0.060073  1.470591  \n",
       "...                ...       ...       ...  \n",
       "3.983984  2.364195e-02  0.043095  0.039431  \n",
       "3.987988  2.355838e-02  0.043010  0.039378  \n",
       "3.991992  2.347514e-02  0.042927  0.039324  \n",
       "3.995996  2.339224e-02  0.042843  0.039271  \n",
       "4.000000  2.330967e-02  0.042759  0.039219  \n",
       "\n",
       "[1000 rows x 7 columns]"
      ]
     },
     "execution_count": 9,
     "metadata": {},
     "output_type": "execute_result"
    }
   ],
   "source": [
    "# Make a Table from the PDFs\n",
    "df = pd.DataFrame(curve_list, columns=x, index=shapes)\n",
    "df.index.name = 'shape'\n",
    "df.columns.name='x'\n",
    "df = df.T\n",
    "df"
   ]
  },
  {
   "cell_type": "code",
   "execution_count": 10,
   "metadata": {},
   "outputs": [
    {
     "data": {
      "image/png": "[encoded data removed]",
      "text/plain": [
       "<Figure size 720x360 with 1 Axes>"
      ]
     },
     "metadata": {
      "needs_background": "light"
     },
     "output_type": "display_data"
    }
   ],
   "source": [
    "# Plot the PDF for each Shape\n",
    "ax = df.plot(figsize=[10,5])\n",
    "ax.set(xlabel='x', ylabel='pdf(x)',\n",
    "       title=f'LogNormal Distribution PDF');"
   ]
  },
  {
   "cell_type": "markdown",
   "metadata": {},
   "source": [
    "See how it looks normally distributed for small shape parameters. But then as the shape increases it loses symmetry and builds up a right tail."
   ]
  },
  {
   "cell_type": "markdown",
   "metadata": {},
   "source": [
    "# Conclusion\n",
    "The lognormal can be Thin Tailed OR Fat Tailed!\n",
    "\n",
    "When the lognormal's is based on a low variance gaussian it is thin tailed and bell shaped. As you increase the variance of the underlying gaussian the lognormal gets more and more skewed. For large scale parameter the lognormal has a very fat right tail."
   ]
  }
 ],
 "metadata": {
  "kernelspec": {
   "display_name": "Python 3",
   "language": "python",
   "name": "python3"
  },
  "language_info": {
   "codemirror_mode": {
    "name": "ipython",
    "version": 3
   },
   "file_extension": ".py",
   "mimetype": "text/x-python",
   "name": "python",
   "nbconvert_exporter": "python",
   "pygments_lexer": "ipython3",
   "version": "3.7.6"
  }
 },
 "nbformat": 4,
 "nbformat_minor": 4
}
