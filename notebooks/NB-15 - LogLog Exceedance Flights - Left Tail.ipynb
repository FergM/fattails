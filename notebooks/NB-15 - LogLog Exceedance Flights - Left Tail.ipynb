{
 "cells": [
  {
   "cell_type": "code",
   "execution_count": 1,
   "metadata": {},
   "outputs": [],
   "source": [
    "import matplotlib.pyplot as plt\n",
    "import numpy as np\n",
    "import pandas as pd\n",
    "from scipy.stats import kurtosis as scipy_kurtosis "
   ]
  },
  {
   "cell_type": "markdown",
   "metadata": {},
   "source": [
    "# Load Data\n",
    "Load flight information. We are interested in the fat-tailed nature of delays."
   ]
  },
  {
   "cell_type": "code",
   "execution_count": 2,
   "metadata": {},
   "outputs": [],
   "source": [
    "file_path = '../data/flights/heathrow_flight_delays.csv'\n",
    "df = pd.read_csv(file_path, index_col=0, parse_dates=[5,6])"
   ]
  },
  {
   "cell_type": "code",
   "execution_count": 3,
   "metadata": {},
   "outputs": [
    {
     "data": {
      "text/html": [
       "<div>\n",
       "<style scoped>\n",
       "    .dataframe tbody tr th:only-of-type {\n",
       "        vertical-align: middle;\n",
       "    }\n",
       "\n",
       "    .dataframe tbody tr th {\n",
       "        vertical-align: top;\n",
       "    }\n",
       "\n",
       "    .dataframe thead th {\n",
       "        text-align: right;\n",
       "    }\n",
       "</style>\n",
       "<table border=\"1\" class=\"dataframe\">\n",
       "  <thead>\n",
       "    <tr style=\"text-align: right;\">\n",
       "      <th></th>\n",
       "      <th>flight_id</th>\n",
       "      <th>origin</th>\n",
       "      <th>destination</th>\n",
       "      <th>status</th>\n",
       "      <th>scheduled_datetime</th>\n",
       "      <th>actual_datetime</th>\n",
       "      <th>delay_mins</th>\n",
       "      <th>code_share</th>\n",
       "    </tr>\n",
       "  </thead>\n",
       "  <tbody>\n",
       "    <tr>\n",
       "      <th>0</th>\n",
       "      <td>AC6186</td>\n",
       "      <td>LHR</td>\n",
       "      <td>VIE</td>\n",
       "      <td>Departed</td>\n",
       "      <td>2020-01-29 06:00:00</td>\n",
       "      <td>2020-01-29 06:20:00</td>\n",
       "      <td>20.0</td>\n",
       "      <td>alt_code</td>\n",
       "    </tr>\n",
       "    <tr>\n",
       "      <th>1</th>\n",
       "      <td>LX345</td>\n",
       "      <td>LHR</td>\n",
       "      <td>ZRH</td>\n",
       "      <td>Departed</td>\n",
       "      <td>2020-01-29 06:00:00</td>\n",
       "      <td>2020-01-29 06:13:00</td>\n",
       "      <td>13.0</td>\n",
       "      <td>no_codeshare</td>\n",
       "    </tr>\n",
       "    <tr>\n",
       "      <th>2</th>\n",
       "      <td>NH5606</td>\n",
       "      <td>LHR</td>\n",
       "      <td>VIE</td>\n",
       "      <td>Departed</td>\n",
       "      <td>2020-01-29 06:00:00</td>\n",
       "      <td>2020-01-29 06:20:00</td>\n",
       "      <td>20.0</td>\n",
       "      <td>alt_code</td>\n",
       "    </tr>\n",
       "    <tr>\n",
       "      <th>3</th>\n",
       "      <td>OS458</td>\n",
       "      <td>LHR</td>\n",
       "      <td>VIE</td>\n",
       "      <td>Departed</td>\n",
       "      <td>2020-01-29 06:00:00</td>\n",
       "      <td>2020-01-29 06:20:00</td>\n",
       "      <td>20.0</td>\n",
       "      <td>main_code</td>\n",
       "    </tr>\n",
       "    <tr>\n",
       "      <th>4</th>\n",
       "      <td>S48050</td>\n",
       "      <td>LHR</td>\n",
       "      <td>LIS</td>\n",
       "      <td>Departed</td>\n",
       "      <td>2020-01-29 06:00:00</td>\n",
       "      <td>2020-01-29 06:43:00</td>\n",
       "      <td>43.0</td>\n",
       "      <td>alt_code</td>\n",
       "    </tr>\n",
       "  </tbody>\n",
       "</table>\n",
       "</div>"
      ],
      "text/plain": [
       "  flight_id origin destination    status  scheduled_datetime  \\\n",
       "0    AC6186    LHR         VIE  Departed 2020-01-29 06:00:00   \n",
       "1     LX345    LHR         ZRH  Departed 2020-01-29 06:00:00   \n",
       "2    NH5606    LHR         VIE  Departed 2020-01-29 06:00:00   \n",
       "3     OS458    LHR         VIE  Departed 2020-01-29 06:00:00   \n",
       "4    S48050    LHR         LIS  Departed 2020-01-29 06:00:00   \n",
       "\n",
       "      actual_datetime  delay_mins    code_share  \n",
       "0 2020-01-29 06:20:00        20.0      alt_code  \n",
       "1 2020-01-29 06:13:00        13.0  no_codeshare  \n",
       "2 2020-01-29 06:20:00        20.0      alt_code  \n",
       "3 2020-01-29 06:20:00        20.0     main_code  \n",
       "4 2020-01-29 06:43:00        43.0      alt_code  "
      ]
     },
     "execution_count": 3,
     "metadata": {},
     "output_type": "execute_result"
    }
   ],
   "source": [
    "df.head()"
   ]
  },
  {
   "cell_type": "markdown",
   "metadata": {},
   "source": [
    "### Format Data"
   ]
  },
  {
   "cell_type": "code",
   "execution_count": 4,
   "metadata": {},
   "outputs": [],
   "source": [
    "# Remove Cancelled Flights (delay undefined)\n",
    "df=df.loc[df.status!='Cancelled']\n",
    "# Remove codeshare flights ('alt_code')\n",
    "df = df.loc[df.code_share!='alt_code']"
   ]
  },
  {
   "cell_type": "code",
   "execution_count": 5,
   "metadata": {},
   "outputs": [
    {
     "name": "stdout",
     "output_type": "stream",
     "text": [
      "NaN values count: 0\n",
      "NaN values table:\n"
     ]
    },
    {
     "data": {
      "text/html": [
       "<div>\n",
       "<style scoped>\n",
       "    .dataframe tbody tr th:only-of-type {\n",
       "        vertical-align: middle;\n",
       "    }\n",
       "\n",
       "    .dataframe tbody tr th {\n",
       "        vertical-align: top;\n",
       "    }\n",
       "\n",
       "    .dataframe thead th {\n",
       "        text-align: right;\n",
       "    }\n",
       "</style>\n",
       "<table border=\"1\" class=\"dataframe\">\n",
       "  <thead>\n",
       "    <tr style=\"text-align: right;\">\n",
       "      <th></th>\n",
       "      <th>flight_id</th>\n",
       "      <th>origin</th>\n",
       "      <th>destination</th>\n",
       "      <th>status</th>\n",
       "      <th>scheduled_datetime</th>\n",
       "      <th>actual_datetime</th>\n",
       "      <th>delay_mins</th>\n",
       "      <th>code_share</th>\n",
       "    </tr>\n",
       "  </thead>\n",
       "  <tbody>\n",
       "  </tbody>\n",
       "</table>\n",
       "</div>"
      ],
      "text/plain": [
       "Empty DataFrame\n",
       "Columns: [flight_id, origin, destination, status, scheduled_datetime, actual_datetime, delay_mins, code_share]\n",
       "Index: []"
      ]
     },
     "metadata": {},
     "output_type": "display_data"
    }
   ],
   "source": [
    "# Check NaN values\n",
    "nan_value_count = df.isna().any(axis=1).sum()\n",
    "na_df = df.loc[df.isna().any(axis=1)]\n",
    "#df.price.isna().sum()\n",
    "\n",
    "print(f\"NaN values count: {nan_value_count}\")\n",
    "print(f\"NaN values table:\")\n",
    "display(na_df)"
   ]
  },
  {
   "cell_type": "code",
   "execution_count": 6,
   "metadata": {},
   "outputs": [],
   "source": [
    "# Drop NaN values\n",
    "df = df.dropna()"
   ]
  },
  {
   "cell_type": "code",
   "execution_count": 7,
   "metadata": {},
   "outputs": [],
   "source": [
    "# Add Delay in Hours\n",
    "df['delay'] = df.delay_mins/60"
   ]
  },
  {
   "cell_type": "code",
   "execution_count": 8,
   "metadata": {},
   "outputs": [],
   "source": [
    "### Flip delay values to focus on left tail"
   ]
  },
  {
   "cell_type": "code",
   "execution_count": 9,
   "metadata": {},
   "outputs": [],
   "source": [
    "df.delay = -1*df.delay"
   ]
  },
  {
   "cell_type": "markdown",
   "metadata": {},
   "source": [
    "# Analyse"
   ]
  },
  {
   "cell_type": "code",
   "execution_count": 10,
   "metadata": {},
   "outputs": [
    {
     "data": {
      "text/html": [
       "<div>\n",
       "<style scoped>\n",
       "    .dataframe tbody tr th:only-of-type {\n",
       "        vertical-align: middle;\n",
       "    }\n",
       "\n",
       "    .dataframe tbody tr th {\n",
       "        vertical-align: top;\n",
       "    }\n",
       "\n",
       "    .dataframe thead th {\n",
       "        text-align: right;\n",
       "    }\n",
       "</style>\n",
       "<table border=\"1\" class=\"dataframe\">\n",
       "  <thead>\n",
       "    <tr style=\"text-align: right;\">\n",
       "      <th></th>\n",
       "      <th>flight_id</th>\n",
       "      <th>origin</th>\n",
       "      <th>destination</th>\n",
       "      <th>status</th>\n",
       "      <th>scheduled_datetime</th>\n",
       "      <th>actual_datetime</th>\n",
       "      <th>delay_mins</th>\n",
       "      <th>code_share</th>\n",
       "      <th>delay</th>\n",
       "    </tr>\n",
       "  </thead>\n",
       "  <tbody>\n",
       "    <tr>\n",
       "      <th>1</th>\n",
       "      <td>LX345</td>\n",
       "      <td>LHR</td>\n",
       "      <td>ZRH</td>\n",
       "      <td>Departed</td>\n",
       "      <td>2020-01-29 06:00:00</td>\n",
       "      <td>2020-01-29 06:13:00</td>\n",
       "      <td>13.0</td>\n",
       "      <td>no_codeshare</td>\n",
       "      <td>-0.216667</td>\n",
       "    </tr>\n",
       "    <tr>\n",
       "      <th>3</th>\n",
       "      <td>OS458</td>\n",
       "      <td>LHR</td>\n",
       "      <td>VIE</td>\n",
       "      <td>Departed</td>\n",
       "      <td>2020-01-29 06:00:00</td>\n",
       "      <td>2020-01-29 06:20:00</td>\n",
       "      <td>20.0</td>\n",
       "      <td>main_code</td>\n",
       "      <td>-0.333333</td>\n",
       "    </tr>\n",
       "    <tr>\n",
       "      <th>6</th>\n",
       "      <td>TP1363</td>\n",
       "      <td>LHR</td>\n",
       "      <td>LIS</td>\n",
       "      <td>Departed</td>\n",
       "      <td>2020-01-29 06:00:00</td>\n",
       "      <td>2020-01-29 06:43:00</td>\n",
       "      <td>43.0</td>\n",
       "      <td>main_code</td>\n",
       "      <td>-0.716667</td>\n",
       "    </tr>\n",
       "    <tr>\n",
       "      <th>8</th>\n",
       "      <td>BA472</td>\n",
       "      <td>LHR</td>\n",
       "      <td>BCN</td>\n",
       "      <td>Departed</td>\n",
       "      <td>2020-01-29 06:15:00</td>\n",
       "      <td>2020-01-29 06:40:00</td>\n",
       "      <td>25.0</td>\n",
       "      <td>main_code</td>\n",
       "      <td>-0.416667</td>\n",
       "    </tr>\n",
       "    <tr>\n",
       "      <th>10</th>\n",
       "      <td>BA1432</td>\n",
       "      <td>LHR</td>\n",
       "      <td>EDI</td>\n",
       "      <td>Departed</td>\n",
       "      <td>2020-01-29 06:20:00</td>\n",
       "      <td>2020-01-29 06:48:00</td>\n",
       "      <td>28.0</td>\n",
       "      <td>main_code</td>\n",
       "      <td>-0.466667</td>\n",
       "    </tr>\n",
       "  </tbody>\n",
       "</table>\n",
       "</div>"
      ],
      "text/plain": [
       "   flight_id origin destination    status  scheduled_datetime  \\\n",
       "1      LX345    LHR         ZRH  Departed 2020-01-29 06:00:00   \n",
       "3      OS458    LHR         VIE  Departed 2020-01-29 06:00:00   \n",
       "6     TP1363    LHR         LIS  Departed 2020-01-29 06:00:00   \n",
       "8      BA472    LHR         BCN  Departed 2020-01-29 06:15:00   \n",
       "10    BA1432    LHR         EDI  Departed 2020-01-29 06:20:00   \n",
       "\n",
       "       actual_datetime  delay_mins    code_share     delay  \n",
       "1  2020-01-29 06:13:00        13.0  no_codeshare -0.216667  \n",
       "3  2020-01-29 06:20:00        20.0     main_code -0.333333  \n",
       "6  2020-01-29 06:43:00        43.0     main_code -0.716667  \n",
       "8  2020-01-29 06:40:00        25.0     main_code -0.416667  \n",
       "10 2020-01-29 06:48:00        28.0     main_code -0.466667  "
      ]
     },
     "execution_count": 10,
     "metadata": {},
     "output_type": "execute_result"
    }
   ],
   "source": [
    "df.head()"
   ]
  },
  {
   "cell_type": "markdown",
   "metadata": {},
   "source": [
    "### Exceedance Probability Plot\n",
    "Log(x) vs. Log(Pr(X>x))"
   ]
  },
  {
   "cell_type": "code",
   "execution_count": 11,
   "metadata": {},
   "outputs": [],
   "source": [
    "from math import log10"
   ]
  },
  {
   "cell_type": "markdown",
   "metadata": {},
   "source": [
    "First let's sort the prices from low to high.\n",
    "\n",
    "Then calculate steps towards an exceedance probability."
   ]
  },
  {
   "cell_type": "code",
   "execution_count": 12,
   "metadata": {},
   "outputs": [],
   "source": [
    "sorted_df = df.sort_values(by='delay')\n",
    "sorted_df = sorted_df.reset_index()\n",
    "sorted_df = sorted_df.rename(columns={'index':'old_index'})"
   ]
  },
  {
   "cell_type": "code",
   "execution_count": 13,
   "metadata": {},
   "outputs": [],
   "source": [
    "sorted_df['ones'] = 1\n",
    "sorted_df['cumcount'] = sorted_df.ones.cumsum()\n",
    "sorted_df['exceedance_count'] = len(sorted_df)-sorted_df.cumcount+1"
   ]
  },
  {
   "cell_type": "code",
   "execution_count": 14,
   "metadata": {},
   "outputs": [],
   "source": [
    "# Exceedance probability\n",
    "sorted_df['exceed_prob'] = sorted_df.exceedance_count/len(sorted_df)"
   ]
  },
  {
   "cell_type": "code",
   "execution_count": 15,
   "metadata": {},
   "outputs": [],
   "source": [
    "#sorted_df['log_price']=sorted_df.price.apply(log10)\n",
    "#sorted_df['log_exceed_prob']=sorted_df.exceed_prob.apply(log10)"
   ]
  },
  {
   "cell_type": "code",
   "execution_count": 16,
   "metadata": {},
   "outputs": [
    {
     "data": {
      "text/html": [
       "<div>\n",
       "<style scoped>\n",
       "    .dataframe tbody tr th:only-of-type {\n",
       "        vertical-align: middle;\n",
       "    }\n",
       "\n",
       "    .dataframe tbody tr th {\n",
       "        vertical-align: top;\n",
       "    }\n",
       "\n",
       "    .dataframe thead th {\n",
       "        text-align: right;\n",
       "    }\n",
       "</style>\n",
       "<table border=\"1\" class=\"dataframe\">\n",
       "  <thead>\n",
       "    <tr style=\"text-align: right;\">\n",
       "      <th></th>\n",
       "      <th>old_index</th>\n",
       "      <th>flight_id</th>\n",
       "      <th>origin</th>\n",
       "      <th>destination</th>\n",
       "      <th>status</th>\n",
       "      <th>scheduled_datetime</th>\n",
       "      <th>actual_datetime</th>\n",
       "      <th>delay_mins</th>\n",
       "      <th>code_share</th>\n",
       "      <th>delay</th>\n",
       "      <th>ones</th>\n",
       "      <th>cumcount</th>\n",
       "      <th>exceedance_count</th>\n",
       "      <th>exceed_prob</th>\n",
       "    </tr>\n",
       "  </thead>\n",
       "  <tbody>\n",
       "    <tr>\n",
       "      <th>0</th>\n",
       "      <td>579</td>\n",
       "      <td>MH003</td>\n",
       "      <td>LHR</td>\n",
       "      <td>KUL</td>\n",
       "      <td>Departed</td>\n",
       "      <td>2020-02-26 10:25:00</td>\n",
       "      <td>2020-02-27 23:16:00</td>\n",
       "      <td>2211.0</td>\n",
       "      <td>main_code</td>\n",
       "      <td>-36.850000</td>\n",
       "      <td>1</td>\n",
       "      <td>1</td>\n",
       "      <td>35251</td>\n",
       "      <td>1.000000</td>\n",
       "    </tr>\n",
       "    <tr>\n",
       "      <th>1</th>\n",
       "      <td>2075</td>\n",
       "      <td>CA938</td>\n",
       "      <td>LHR</td>\n",
       "      <td>PEK</td>\n",
       "      <td>Departed</td>\n",
       "      <td>2020-02-09 20:25:00</td>\n",
       "      <td>2020-02-10 21:02:00</td>\n",
       "      <td>1477.0</td>\n",
       "      <td>main_code</td>\n",
       "      <td>-24.616667</td>\n",
       "      <td>1</td>\n",
       "      <td>2</td>\n",
       "      <td>35250</td>\n",
       "      <td>0.999972</td>\n",
       "    </tr>\n",
       "    <tr>\n",
       "      <th>2</th>\n",
       "      <td>800</td>\n",
       "      <td>UA919</td>\n",
       "      <td>LHR</td>\n",
       "      <td>IAD</td>\n",
       "      <td>Departed</td>\n",
       "      <td>2020-02-09 12:05:00</td>\n",
       "      <td>2020-02-10 12:33:00</td>\n",
       "      <td>1468.0</td>\n",
       "      <td>main_code</td>\n",
       "      <td>-24.466667</td>\n",
       "      <td>1</td>\n",
       "      <td>3</td>\n",
       "      <td>35249</td>\n",
       "      <td>0.999943</td>\n",
       "    </tr>\n",
       "    <tr>\n",
       "      <th>3</th>\n",
       "      <td>2006</td>\n",
       "      <td>ET701</td>\n",
       "      <td>LHR</td>\n",
       "      <td>ADD</td>\n",
       "      <td>Departed</td>\n",
       "      <td>2020-03-11 20:15:00</td>\n",
       "      <td>2020-03-12 19:28:00</td>\n",
       "      <td>1393.0</td>\n",
       "      <td>main_code</td>\n",
       "      <td>-23.216667</td>\n",
       "      <td>1</td>\n",
       "      <td>4</td>\n",
       "      <td>35248</td>\n",
       "      <td>0.999915</td>\n",
       "    </tr>\n",
       "    <tr>\n",
       "      <th>4</th>\n",
       "      <td>490</td>\n",
       "      <td>AA733</td>\n",
       "      <td>LHR</td>\n",
       "      <td>CLT</td>\n",
       "      <td>Departed</td>\n",
       "      <td>2020-02-22 10:05:00</td>\n",
       "      <td>2020-02-23 08:15:00</td>\n",
       "      <td>1330.0</td>\n",
       "      <td>main_code</td>\n",
       "      <td>-22.166667</td>\n",
       "      <td>1</td>\n",
       "      <td>5</td>\n",
       "      <td>35247</td>\n",
       "      <td>0.999887</td>\n",
       "    </tr>\n",
       "  </tbody>\n",
       "</table>\n",
       "</div>"
      ],
      "text/plain": [
       "   old_index flight_id origin destination    status  scheduled_datetime  \\\n",
       "0        579     MH003    LHR         KUL  Departed 2020-02-26 10:25:00   \n",
       "1       2075     CA938    LHR         PEK  Departed 2020-02-09 20:25:00   \n",
       "2        800     UA919    LHR         IAD  Departed 2020-02-09 12:05:00   \n",
       "3       2006     ET701    LHR         ADD  Departed 2020-03-11 20:15:00   \n",
       "4        490     AA733    LHR         CLT  Departed 2020-02-22 10:05:00   \n",
       "\n",
       "      actual_datetime  delay_mins code_share      delay  ones  cumcount  \\\n",
       "0 2020-02-27 23:16:00      2211.0  main_code -36.850000     1         1   \n",
       "1 2020-02-10 21:02:00      1477.0  main_code -24.616667     1         2   \n",
       "2 2020-02-10 12:33:00      1468.0  main_code -24.466667     1         3   \n",
       "3 2020-03-12 19:28:00      1393.0  main_code -23.216667     1         4   \n",
       "4 2020-02-23 08:15:00      1330.0  main_code -22.166667     1         5   \n",
       "\n",
       "   exceedance_count  exceed_prob  \n",
       "0             35251     1.000000  \n",
       "1             35250     0.999972  \n",
       "2             35249     0.999943  \n",
       "3             35248     0.999915  \n",
       "4             35247     0.999887  "
      ]
     },
     "execution_count": 16,
     "metadata": {},
     "output_type": "execute_result"
    }
   ],
   "source": [
    "sorted_df.head() # Lowest Prices"
   ]
  },
  {
   "cell_type": "code",
   "execution_count": 17,
   "metadata": {},
   "outputs": [
    {
     "data": {
      "text/html": [
       "<div>\n",
       "<style scoped>\n",
       "    .dataframe tbody tr th:only-of-type {\n",
       "        vertical-align: middle;\n",
       "    }\n",
       "\n",
       "    .dataframe tbody tr th {\n",
       "        vertical-align: top;\n",
       "    }\n",
       "\n",
       "    .dataframe thead th {\n",
       "        text-align: right;\n",
       "    }\n",
       "</style>\n",
       "<table border=\"1\" class=\"dataframe\">\n",
       "  <thead>\n",
       "    <tr style=\"text-align: right;\">\n",
       "      <th></th>\n",
       "      <th>old_index</th>\n",
       "      <th>flight_id</th>\n",
       "      <th>origin</th>\n",
       "      <th>destination</th>\n",
       "      <th>status</th>\n",
       "      <th>scheduled_datetime</th>\n",
       "      <th>actual_datetime</th>\n",
       "      <th>delay_mins</th>\n",
       "      <th>code_share</th>\n",
       "      <th>delay</th>\n",
       "      <th>ones</th>\n",
       "      <th>cumcount</th>\n",
       "      <th>exceedance_count</th>\n",
       "      <th>exceed_prob</th>\n",
       "    </tr>\n",
       "  </thead>\n",
       "  <tbody>\n",
       "    <tr>\n",
       "      <th>35246</th>\n",
       "      <td>887</td>\n",
       "      <td>BA035</td>\n",
       "      <td>LHR</td>\n",
       "      <td>MAA</td>\n",
       "      <td>Departed</td>\n",
       "      <td>2020-03-18 14:10:00</td>\n",
       "      <td>2020-03-18 11:46:00</td>\n",
       "      <td>-144.0</td>\n",
       "      <td>main_code</td>\n",
       "      <td>2.400000</td>\n",
       "      <td>1</td>\n",
       "      <td>35247</td>\n",
       "      <td>5</td>\n",
       "      <td>0.000142</td>\n",
       "    </tr>\n",
       "    <tr>\n",
       "      <th>35247</th>\n",
       "      <td>945</td>\n",
       "      <td>BA277</td>\n",
       "      <td>LHR</td>\n",
       "      <td>HYD</td>\n",
       "      <td>Departed</td>\n",
       "      <td>2020-03-18 14:40:00</td>\n",
       "      <td>2020-03-18 11:52:00</td>\n",
       "      <td>-168.0</td>\n",
       "      <td>main_code</td>\n",
       "      <td>2.800000</td>\n",
       "      <td>1</td>\n",
       "      <td>35248</td>\n",
       "      <td>4</td>\n",
       "      <td>0.000113</td>\n",
       "    </tr>\n",
       "    <tr>\n",
       "      <th>35248</th>\n",
       "      <td>260</td>\n",
       "      <td>BA1458</td>\n",
       "      <td>LHR</td>\n",
       "      <td>EDI</td>\n",
       "      <td>Departed</td>\n",
       "      <td>2020-04-02 19:00:00</td>\n",
       "      <td>2020-04-02 15:05:00</td>\n",
       "      <td>-235.0</td>\n",
       "      <td>main_code</td>\n",
       "      <td>3.916667</td>\n",
       "      <td>1</td>\n",
       "      <td>35249</td>\n",
       "      <td>3</td>\n",
       "      <td>0.000085</td>\n",
       "    </tr>\n",
       "    <tr>\n",
       "      <th>35249</th>\n",
       "      <td>481</td>\n",
       "      <td>BA041</td>\n",
       "      <td>LHR</td>\n",
       "      <td>DUR</td>\n",
       "      <td>Departed</td>\n",
       "      <td>2020-03-26 15:55:00</td>\n",
       "      <td>2020-03-26 08:04:00</td>\n",
       "      <td>-471.0</td>\n",
       "      <td>no_codeshare</td>\n",
       "      <td>7.850000</td>\n",
       "      <td>1</td>\n",
       "      <td>35250</td>\n",
       "      <td>2</td>\n",
       "      <td>0.000057</td>\n",
       "    </tr>\n",
       "    <tr>\n",
       "      <th>35250</th>\n",
       "      <td>193</td>\n",
       "      <td>MH003</td>\n",
       "      <td>LHR</td>\n",
       "      <td>KUL</td>\n",
       "      <td>Departed</td>\n",
       "      <td>2020-04-12 22:40:00</td>\n",
       "      <td>2020-04-12 00:45:00</td>\n",
       "      <td>-1315.0</td>\n",
       "      <td>main_code</td>\n",
       "      <td>21.916667</td>\n",
       "      <td>1</td>\n",
       "      <td>35251</td>\n",
       "      <td>1</td>\n",
       "      <td>0.000028</td>\n",
       "    </tr>\n",
       "  </tbody>\n",
       "</table>\n",
       "</div>"
      ],
      "text/plain": [
       "       old_index flight_id origin destination    status  scheduled_datetime  \\\n",
       "35246        887     BA035    LHR         MAA  Departed 2020-03-18 14:10:00   \n",
       "35247        945     BA277    LHR         HYD  Departed 2020-03-18 14:40:00   \n",
       "35248        260    BA1458    LHR         EDI  Departed 2020-04-02 19:00:00   \n",
       "35249        481     BA041    LHR         DUR  Departed 2020-03-26 15:55:00   \n",
       "35250        193     MH003    LHR         KUL  Departed 2020-04-12 22:40:00   \n",
       "\n",
       "          actual_datetime  delay_mins    code_share      delay  ones  \\\n",
       "35246 2020-03-18 11:46:00      -144.0     main_code   2.400000     1   \n",
       "35247 2020-03-18 11:52:00      -168.0     main_code   2.800000     1   \n",
       "35248 2020-04-02 15:05:00      -235.0     main_code   3.916667     1   \n",
       "35249 2020-03-26 08:04:00      -471.0  no_codeshare   7.850000     1   \n",
       "35250 2020-04-12 00:45:00     -1315.0     main_code  21.916667     1   \n",
       "\n",
       "       cumcount  exceedance_count  exceed_prob  \n",
       "35246     35247                 5     0.000142  \n",
       "35247     35248                 4     0.000113  \n",
       "35248     35249                 3     0.000085  \n",
       "35249     35250                 2     0.000057  \n",
       "35250     35251                 1     0.000028  "
      ]
     },
     "execution_count": 17,
     "metadata": {},
     "output_type": "execute_result"
    }
   ],
   "source": [
    "sorted_df.tail() # Highest Prices"
   ]
  },
  {
   "cell_type": "markdown",
   "metadata": {},
   "source": [
    "I'm not sure how it handles tiny values and log(0)"
   ]
  },
  {
   "cell_type": "code",
   "execution_count": 18,
   "metadata": {},
   "outputs": [],
   "source": [
    "#Maybe Remove tiny values because they blow up when taking log\n",
    "#sorted_df.price+=-1*sorted_df.price.min()"
   ]
  },
  {
   "cell_type": "code",
   "execution_count": 19,
   "metadata": {},
   "outputs": [
    {
     "data": {
      "text/plain": [
       "<matplotlib.axes._subplots.AxesSubplot at 0x2497492a148>"
      ]
     },
     "execution_count": 19,
     "metadata": {},
     "output_type": "execute_result"
    },
    {
     "data": {
      "image/png": "[encoded data removed]",
      "text/plain": [
       "<Figure size 432x288 with 1 Axes>"
      ]
     },
     "metadata": {
      "needs_background": "light"
     },
     "output_type": "display_data"
    }
   ],
   "source": [
    "sorted_df.set_index('delay').exceed_prob.plot(loglog=True, marker='*')\n",
    "#sorted_df.plot.scatter('log_price', 'log_exceed_prob')"
   ]
  },
  {
   "cell_type": "code",
   "execution_count": 20,
   "metadata": {},
   "outputs": [
    {
     "data": {
      "text/plain": [
       "<matplotlib.axes._subplots.AxesSubplot at 0x24975825b88>"
      ]
     },
     "execution_count": 20,
     "metadata": {},
     "output_type": "execute_result"
    },
    {
     "data": {
      "image/png": "[encoded data removed]",
      "text/plain": [
       "<Figure size 432x288 with 1 Axes>"
      ]
     },
     "metadata": {
      "needs_background": "light"
     },
     "output_type": "display_data"
    }
   ],
   "source": [
    "sorted_df.plot.scatter('delay', 'exceed_prob')"
   ]
  },
  {
   "cell_type": "markdown",
   "metadata": {},
   "source": [
    "# Conclusions\n",
    "The left tail (early departures) might be fatter than the right tail (late departures).\n",
    "\n",
    "I'm thinking this because the slope (power law tail-exponent alpha) is flatter in the early flights case\n",
    "\n",
    "There's probably mistakes in the data for early fligts. For example an after midnight departure that has the wrong date label."
   ]
  }
 ],
 "metadata": {
  "kernelspec": {
   "display_name": "Python 3",
   "language": "python",
   "name": "python3"
  },
  "language_info": {
   "codemirror_mode": {
    "name": "ipython",
    "version": 3
   },
   "file_extension": ".py",
   "mimetype": "text/x-python",
   "name": "python",
   "nbconvert_exporter": "python",
   "pygments_lexer": "ipython3",
   "version": "3.7.6"
  }
 },
 "nbformat": 4,
 "nbformat_minor": 4
}
