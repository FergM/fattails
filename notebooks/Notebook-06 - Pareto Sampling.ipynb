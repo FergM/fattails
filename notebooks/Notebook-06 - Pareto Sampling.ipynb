{
 "cells": [
  {
   "cell_type": "markdown",
   "metadata": {},
   "source": [
    "# Shadow Mean\n",
    "Investigating the distribution of sample mean."
   ]
  },
  {
   "cell_type": "code",
   "execution_count": 1,
   "metadata": {},
   "outputs": [],
   "source": [
    "import numpy as np\n",
    "import pandas as pd"
   ]
  },
  {
   "cell_type": "markdown",
   "metadata": {},
   "source": [
    "### Generate Pareto Samples"
   ]
  },
  {
   "cell_type": "code",
   "execution_count": 2,
   "metadata": {},
   "outputs": [],
   "source": [
    "# Settings\n",
    "n = 10000000\n",
    "a = 1.13  # Supposedly this is pareto 80:20, but I'm not sure I've got this right"
   ]
  },
  {
   "cell_type": "code",
   "execution_count": 3,
   "metadata": {},
   "outputs": [],
   "source": [
    "# Generate Sample\n",
    "s = np.random.pareto(a, n)\n",
    "sample_sr = pd.Series(s)"
   ]
  },
  {
   "cell_type": "markdown",
   "metadata": {},
   "source": [
    "##### Select Top 20% of Values"
   ]
  },
  {
   "cell_type": "code",
   "execution_count": 4,
   "metadata": {},
   "outputs": [],
   "source": [
    "subsample_pct = 0.20\n",
    "subsample_size = int(len(s)*subsample_pct) # Twenty percent of n\n",
    "subsample_sr = sample_sr.sort_values(ascending=False).iloc[0:subsample_size]"
   ]
  },
  {
   "cell_type": "markdown",
   "metadata": {},
   "source": [
    "If I've got pareto 80/20 the two cells below should give similar output. \n",
    "\n",
    "But for some reason the sum of the top 20% of values looks larger than 80% of the total sum."
   ]
  },
  {
   "cell_type": "code",
   "execution_count": 5,
   "metadata": {},
   "outputs": [
    {
     "name": "stdout",
     "output_type": "stream",
     "text": [
      "Eighty Percent of Total: 52,796,278.91\n",
      "Largest 20 values Total: 59,302,871.26\n"
     ]
    }
   ],
   "source": [
    "# Show 80 Percent of the Total\n",
    "print(f'Eighty Percent of Total: {np.sum(s)*0.8:,.2f}')\n",
    "print(f'Largest 20 values Total: {subsample_sr.sum():,.2f}')"
   ]
  },
  {
   "cell_type": "markdown",
   "metadata": {},
   "source": [
    "##### Compare True Mean with Sample Mean"
   ]
  },
  {
   "cell_type": "code",
   "execution_count": 6,
   "metadata": {},
   "outputs": [
    {
     "name": "stdout",
     "output_type": "stream",
     "text": [
      "True mean: 8.69\n",
      "Sample mean: 6.60\n"
     ]
    }
   ],
   "source": [
    "true_mean = a/(a-1)\n",
    "sample_mean = sample_sr.mean()\n",
    "\n",
    "print(f'True mean: {true_mean:,.2f}')\n",
    "print(f'Sample mean: {sample_mean:,.2f}')"
   ]
  },
  {
   "cell_type": "code",
   "execution_count": 7,
   "metadata": {},
   "outputs": [],
   "source": [
    "# Calculate the Cumulative Mean\n",
    "cumcount = pd.Series(1).repeat(n).reset_index(drop=True).cumsum()\n",
    "cummean = (sample_sr.cumsum()/cumcount)\n",
    "cummean.name = 'cumulative_mean'"
   ]
  },
  {
   "cell_type": "code",
   "execution_count": 8,
   "metadata": {},
   "outputs": [
    {
     "data": {
      "text/plain": [
       "<matplotlib.legend.Legend at 0x1d71186ec08>"
      ]
     },
     "execution_count": 8,
     "metadata": {},
     "output_type": "execute_result"
    },
    {
     "data": {
      "image/png": "[encoded data removed]",
      "text/plain": [
       "<Figure size 432x288 with 1 Axes>"
      ]
     },
     "metadata": {
      "needs_background": "light"
     },
     "output_type": "display_data"
    }
   ],
   "source": [
    "ax = cummean.plot()\n",
    "ax.axhline(true_mean, color='green', label='true_mean')\n",
    "ax.axhline(sample_mean, color='orange', label='sample_mean')\n",
    "ax.legend(loc=[0,0])"
   ]
  }
 ],
 "metadata": {
  "kernelspec": {
   "display_name": "Python 3",
   "language": "python",
   "name": "python3"
  },
  "language_info": {
   "codemirror_mode": {
    "name": "ipython",
    "version": 3
   },
   "file_extension": ".py",
   "mimetype": "text/x-python",
   "name": "python",
   "nbconvert_exporter": "python",
   "pygments_lexer": "ipython3",
   "version": "3.7.6"
  },
  "widgets": {
   "application/vnd.jupyter.widget-state+json": {
    "state": {},
    "version_major": 2,
    "version_minor": 0
   }
  }
 },
 "nbformat": 4,
 "nbformat_minor": 4
}
