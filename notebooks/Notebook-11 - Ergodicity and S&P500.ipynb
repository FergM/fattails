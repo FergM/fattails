{
 "cells": [
  {
   "cell_type": "markdown",
   "metadata": {},
   "source": [
    "# S&P500 Ergodicity\n",
    "S&P500 is not ergodic. Let's verify this.\n",
    "\n",
    "If it was ergodic then we would have `Arithmetic Average Return` = `Geometric Average Return`\n",
    "\n",
    "## Context\n",
    "Ergodicity applies when arithmetic mean is the same as geometric mean:\n",
    "* __Arithmetic Mean__: $\\sum_{i=1}^n \\frac{x_i}{n}$\n",
    "    * This is what people usually mean by \"average\"\n",
    "    * Sometimes called ensemble average\n",
    "* __Geometric Mean__ is the time average: $\\sqrt[n]{\\prod_{i=1}^n x_i}$\n",
    "    * This reflects how a real portfolio grows or shrinks over time.\n",
    "    * In finance it's often called Compound Annual Growth Rate (CAGR)"
   ]
  },
  {
   "cell_type": "code",
   "execution_count": 1,
   "metadata": {},
   "outputs": [],
   "source": [
    "import numpy as np\n",
    "import pandas as pd"
   ]
  },
  {
   "cell_type": "markdown",
   "metadata": {},
   "source": [
    "# Prepare Data\n",
    "Datasource [Berkshire Hathaway via Business Insider](https://www.businessinsider.com/personal-finance/average-stock-market-return)"
   ]
  },
  {
   "cell_type": "code",
   "execution_count": 2,
   "metadata": {},
   "outputs": [],
   "source": [
    "year = [2010, 2011, 2012, 2013, 2014, 2015, 2016, 2017, 2018, 2019]\n",
    "return_pct =[15.1, 2.1, 16, 32.4, 13.7, 1.4, 12, 21.8, -4.4, 31.5]\n",
    "d = {'year':year,'return_pct':return_pct}\n",
    "df = pd.DataFrame(d)\n",
    "df = df.set_index('year')"
   ]
  },
  {
   "cell_type": "code",
   "execution_count": 3,
   "metadata": {},
   "outputs": [],
   "source": [
    "df['return_multiple'] = 1 + df.return_pct/100"
   ]
  },
  {
   "cell_type": "markdown",
   "metadata": {},
   "source": [
    "# Calculate Return"
   ]
  },
  {
   "cell_type": "markdown",
   "metadata": {},
   "source": [
    "Let's say we invest $100 at the beginning of 2020:"
   ]
  },
  {
   "cell_type": "code",
   "execution_count": 4,
   "metadata": {},
   "outputs": [],
   "source": [
    "initial_value = 100\n",
    "df['investment_value'] = df.return_multiple.cumprod()*initial_value"
   ]
  },
  {
   "cell_type": "markdown",
   "metadata": {},
   "source": [
    "The `investment_value` column below shows how $100 grows at the reported rates of return:"
   ]
  },
  {
   "cell_type": "code",
   "execution_count": 5,
   "metadata": {},
   "outputs": [
    {
     "data": {
      "text/html": [
       "<div>\n",
       "<style scoped>\n",
       "    .dataframe tbody tr th:only-of-type {\n",
       "        vertical-align: middle;\n",
       "    }\n",
       "\n",
       "    .dataframe tbody tr th {\n",
       "        vertical-align: top;\n",
       "    }\n",
       "\n",
       "    .dataframe thead th {\n",
       "        text-align: right;\n",
       "    }\n",
       "</style>\n",
       "<table border=\"1\" class=\"dataframe\">\n",
       "  <thead>\n",
       "    <tr style=\"text-align: right;\">\n",
       "      <th></th>\n",
       "      <th>return_pct</th>\n",
       "      <th>return_multiple</th>\n",
       "      <th>investment_value</th>\n",
       "    </tr>\n",
       "    <tr>\n",
       "      <th>year</th>\n",
       "      <th></th>\n",
       "      <th></th>\n",
       "      <th></th>\n",
       "    </tr>\n",
       "  </thead>\n",
       "  <tbody>\n",
       "    <tr>\n",
       "      <th>2010</th>\n",
       "      <td>15.1</td>\n",
       "      <td>1.151</td>\n",
       "      <td>115.100000</td>\n",
       "    </tr>\n",
       "    <tr>\n",
       "      <th>2011</th>\n",
       "      <td>2.1</td>\n",
       "      <td>1.021</td>\n",
       "      <td>117.517100</td>\n",
       "    </tr>\n",
       "    <tr>\n",
       "      <th>2012</th>\n",
       "      <td>16.0</td>\n",
       "      <td>1.160</td>\n",
       "      <td>136.319836</td>\n",
       "    </tr>\n",
       "    <tr>\n",
       "      <th>2013</th>\n",
       "      <td>32.4</td>\n",
       "      <td>1.324</td>\n",
       "      <td>180.487463</td>\n",
       "    </tr>\n",
       "    <tr>\n",
       "      <th>2014</th>\n",
       "      <td>13.7</td>\n",
       "      <td>1.137</td>\n",
       "      <td>205.214245</td>\n",
       "    </tr>\n",
       "    <tr>\n",
       "      <th>2015</th>\n",
       "      <td>1.4</td>\n",
       "      <td>1.014</td>\n",
       "      <td>208.087245</td>\n",
       "    </tr>\n",
       "    <tr>\n",
       "      <th>2016</th>\n",
       "      <td>12.0</td>\n",
       "      <td>1.120</td>\n",
       "      <td>233.057714</td>\n",
       "    </tr>\n",
       "    <tr>\n",
       "      <th>2017</th>\n",
       "      <td>21.8</td>\n",
       "      <td>1.218</td>\n",
       "      <td>283.864296</td>\n",
       "    </tr>\n",
       "    <tr>\n",
       "      <th>2018</th>\n",
       "      <td>-4.4</td>\n",
       "      <td>0.956</td>\n",
       "      <td>271.374267</td>\n",
       "    </tr>\n",
       "    <tr>\n",
       "      <th>2019</th>\n",
       "      <td>31.5</td>\n",
       "      <td>1.315</td>\n",
       "      <td>356.857161</td>\n",
       "    </tr>\n",
       "  </tbody>\n",
       "</table>\n",
       "</div>"
      ],
      "text/plain": [
       "      return_pct  return_multiple  investment_value\n",
       "year                                               \n",
       "2010        15.1            1.151        115.100000\n",
       "2011         2.1            1.021        117.517100\n",
       "2012        16.0            1.160        136.319836\n",
       "2013        32.4            1.324        180.487463\n",
       "2014        13.7            1.137        205.214245\n",
       "2015         1.4            1.014        208.087245\n",
       "2016        12.0            1.120        233.057714\n",
       "2017        21.8            1.218        283.864296\n",
       "2018        -4.4            0.956        271.374267\n",
       "2019        31.5            1.315        356.857161"
      ]
     },
     "execution_count": 5,
     "metadata": {},
     "output_type": "execute_result"
    }
   ],
   "source": [
    "df"
   ]
  },
  {
   "cell_type": "markdown",
   "metadata": {},
   "source": [
    "### Calculate Average Return"
   ]
  },
  {
   "cell_type": "code",
   "execution_count": 6,
   "metadata": {},
   "outputs": [],
   "source": [
    "# Calculate Arithmetic Mean\n",
    "arithmetic_mean = df.return_pct.mean()/100"
   ]
  },
  {
   "cell_type": "code",
   "execution_count": 7,
   "metadata": {},
   "outputs": [],
   "source": [
    "# Calculate Geometric Mean\n",
    "final_value = df.investment_value.iloc[-1]\n",
    "years = len(df)\n",
    "geometric_mean = (final_value/initial_value)**(1/years)-1"
   ]
  },
  {
   "cell_type": "code",
   "execution_count": 8,
   "metadata": {},
   "outputs": [
    {
     "name": "stdout",
     "output_type": "stream",
     "text": [
      "Average Yearly Return:\n",
      "* Arithmetic: 14.16%\n",
      "* Geometric : 13.57%\n"
     ]
    }
   ],
   "source": [
    "print(\"Average Yearly Return:\")\n",
    "print(\"* Arithmetic:\"+\" {0:.2%}\".format(arithmetic_mean))\n",
    "print(\"* Geometric :\"+\" {0:.2%}\".format(geometric_mean))"
   ]
  },
  {
   "cell_type": "markdown",
   "metadata": {},
   "source": [
    "# Mock up \"Constant Return\" equivalents"
   ]
  },
  {
   "cell_type": "markdown",
   "metadata": {},
   "source": [
    "Mock up the intermediate years supposing returns were constantly at the period's average rate."
   ]
  },
  {
   "cell_type": "code",
   "execution_count": 9,
   "metadata": {},
   "outputs": [],
   "source": [
    "df['arithmetic_mean'] = arithmetic_mean\n",
    "df['arithmetic_mean_growth'] = (1+df.arithmetic_mean).cumprod()*initial_value"
   ]
  },
  {
   "cell_type": "code",
   "execution_count": 10,
   "metadata": {},
   "outputs": [],
   "source": [
    "df['geometric_mean'] = geometric_mean\n",
    "df['geometric_mean_growth'] = (1+df.geometric_mean).cumprod()*initial_value"
   ]
  },
  {
   "cell_type": "code",
   "execution_count": 11,
   "metadata": {},
   "outputs": [
    {
     "data": {
      "text/html": [
       "<div>\n",
       "<style scoped>\n",
       "    .dataframe tbody tr th:only-of-type {\n",
       "        vertical-align: middle;\n",
       "    }\n",
       "\n",
       "    .dataframe tbody tr th {\n",
       "        vertical-align: top;\n",
       "    }\n",
       "\n",
       "    .dataframe thead th {\n",
       "        text-align: right;\n",
       "    }\n",
       "</style>\n",
       "<table border=\"1\" class=\"dataframe\">\n",
       "  <thead>\n",
       "    <tr style=\"text-align: right;\">\n",
       "      <th></th>\n",
       "      <th>investment_value</th>\n",
       "      <th>arithmetic_mean_growth</th>\n",
       "      <th>geometric_mean_growth</th>\n",
       "    </tr>\n",
       "    <tr>\n",
       "      <th>year</th>\n",
       "      <th></th>\n",
       "      <th></th>\n",
       "      <th></th>\n",
       "    </tr>\n",
       "  </thead>\n",
       "  <tbody>\n",
       "    <tr>\n",
       "      <th>2010</th>\n",
       "      <td>115.100000</td>\n",
       "      <td>114.160000</td>\n",
       "      <td>113.566291</td>\n",
       "    </tr>\n",
       "    <tr>\n",
       "      <th>2011</th>\n",
       "      <td>117.517100</td>\n",
       "      <td>130.325056</td>\n",
       "      <td>128.973024</td>\n",
       "    </tr>\n",
       "    <tr>\n",
       "      <th>2012</th>\n",
       "      <td>136.319836</td>\n",
       "      <td>148.779084</td>\n",
       "      <td>146.469880</td>\n",
       "    </tr>\n",
       "    <tr>\n",
       "      <th>2013</th>\n",
       "      <td>180.487463</td>\n",
       "      <td>169.846202</td>\n",
       "      <td>166.340410</td>\n",
       "    </tr>\n",
       "    <tr>\n",
       "      <th>2014</th>\n",
       "      <td>205.214245</td>\n",
       "      <td>193.896424</td>\n",
       "      <td>188.906633</td>\n",
       "    </tr>\n",
       "    <tr>\n",
       "      <th>2015</th>\n",
       "      <td>208.087245</td>\n",
       "      <td>221.352158</td>\n",
       "      <td>214.534256</td>\n",
       "    </tr>\n",
       "    <tr>\n",
       "      <th>2016</th>\n",
       "      <td>233.057714</td>\n",
       "      <td>252.695624</td>\n",
       "      <td>243.638598</td>\n",
       "    </tr>\n",
       "    <tr>\n",
       "      <th>2017</th>\n",
       "      <td>283.864296</td>\n",
       "      <td>288.477324</td>\n",
       "      <td>276.691318</td>\n",
       "    </tr>\n",
       "    <tr>\n",
       "      <th>2018</th>\n",
       "      <td>271.374267</td>\n",
       "      <td>329.325713</td>\n",
       "      <td>314.228067</td>\n",
       "    </tr>\n",
       "    <tr>\n",
       "      <th>2019</th>\n",
       "      <td>356.857161</td>\n",
       "      <td>375.958234</td>\n",
       "      <td>356.857161</td>\n",
       "    </tr>\n",
       "  </tbody>\n",
       "</table>\n",
       "</div>"
      ],
      "text/plain": [
       "      investment_value  arithmetic_mean_growth  geometric_mean_growth\n",
       "year                                                                 \n",
       "2010        115.100000              114.160000             113.566291\n",
       "2011        117.517100              130.325056             128.973024\n",
       "2012        136.319836              148.779084             146.469880\n",
       "2013        180.487463              169.846202             166.340410\n",
       "2014        205.214245              193.896424             188.906633\n",
       "2015        208.087245              221.352158             214.534256\n",
       "2016        233.057714              252.695624             243.638598\n",
       "2017        283.864296              288.477324             276.691318\n",
       "2018        271.374267              329.325713             314.228067\n",
       "2019        356.857161              375.958234             356.857161"
      ]
     },
     "execution_count": 11,
     "metadata": {},
     "output_type": "execute_result"
    }
   ],
   "source": [
    "value_df = df.loc[:,['investment_value','arithmetic_mean_growth','geometric_mean_growth']]\n",
    "value_df"
   ]
  },
  {
   "cell_type": "markdown",
   "metadata": {},
   "source": [
    "# Plot"
   ]
  },
  {
   "cell_type": "code",
   "execution_count": 12,
   "metadata": {},
   "outputs": [
    {
     "data": {
      "text/plain": [
       "<matplotlib.axes._subplots.AxesSubplot at 0x2da78e60d48>"
      ]
     },
     "execution_count": 12,
     "metadata": {},
     "output_type": "execute_result"
    },
    {
     "data": {
      "image/png": "[encoded data removed]",
      "text/plain": [
       "<Figure size 432x288 with 1 Axes>"
      ]
     },
     "metadata": {
      "needs_background": "light"
     },
     "output_type": "display_data"
    }
   ],
   "source": [
    "value_df.plot(kind='bar', title='S&P500 Growth')"
   ]
  },
  {
   "cell_type": "markdown",
   "metadata": {},
   "source": [
    "# Conclusion\n",
    "S&P500 Investors care about Geometric Average return.\n",
    "* Arithmetic return  will always be higher than Geometric Average due to Jensen's inequality.\n",
    "* This is what people mean when they say \n",
    "    * \"Average Return is unatainable\"\n",
    "    * \"S&P500 returns are not ergodic\""
   ]
  },
  {
   "cell_type": "markdown",
   "metadata": {},
   "source": [
    "# Further Reading\n",
    "Without proper explanation:\n",
    "* Arithmetic Average Return >= Geometric Average Return\n",
    "* Some call this a 'volatility tax'\n",
    "    * Because if returns are constant: Arithmetic=Geometric\n",
    "    * But when returns have volatility: Arithmetic>Geometric\n",
    "\n",
    "##### Convex Functions:\n",
    "The difference between Arithmetic and Geometric Average comes down to Jenson's inequality:\n",
    "* $ f(t x_1 + (1-t) x_2) \\leq t f(x_1) + (1-t) f(x_2) $ if $f$ is a convex function\n",
    "* i.e. function of average < average of function\n",
    "* Volatility raises the value of convex functions"
   ]
  },
  {
   "cell_type": "markdown",
   "metadata": {},
   "source": [
    "### Programatic Interpretation"
   ]
  },
  {
   "cell_type": "markdown",
   "metadata": {},
   "source": [
    "Thinking about this like a programmer, Arithmetic and Geometric mean differ in how the aggregation is done."
   ]
  },
  {
   "cell_type": "code",
   "execution_count": 13,
   "metadata": {},
   "outputs": [],
   "source": [
    "def return_ratio(start_value, end_value):\n",
    "    return (end_value/start_value)"
   ]
  },
  {
   "cell_type": "markdown",
   "metadata": {},
   "source": [
    "##### Geometric Mean from Value"
   ]
  },
  {
   "cell_type": "code",
   "execution_count": 14,
   "metadata": {},
   "outputs": [],
   "source": [
    "initial_value = 100\n",
    "final_value = df.investment_value.iloc[-1]"
   ]
  },
  {
   "cell_type": "code",
   "execution_count": 15,
   "metadata": {},
   "outputs": [
    {
     "data": {
      "text/plain": [
       "True"
      ]
     },
     "execution_count": 15,
     "metadata": {},
     "output_type": "execute_result"
    }
   ],
   "source": [
    "# Apply return_ratio to overall return and take the nth root\n",
    "return_ratio(initial_value,final_value)**(1/10) == geometric_mean + 1"
   ]
  },
  {
   "cell_type": "markdown",
   "metadata": {},
   "source": [
    "##### Arithmetic Mean from Value"
   ]
  },
  {
   "cell_type": "code",
   "execution_count": 16,
   "metadata": {},
   "outputs": [],
   "source": [
    "end_of_year_values = df.investment_value\n",
    "start_of_year_values = df.investment_value.shift(fill_value=initial_value)"
   ]
  },
  {
   "cell_type": "code",
   "execution_count": 17,
   "metadata": {},
   "outputs": [
    {
     "data": {
      "text/plain": [
       "True"
      ]
     },
     "execution_count": 17,
     "metadata": {},
     "output_type": "execute_result"
    }
   ],
   "source": [
    "# Apply return_ratio for each year and take the average\n",
    "\n",
    "return_ratios = [return_ratio(start_value, end_value) for start_value, end_value in zip(start_of_year_values, end_of_year_values)]\n",
    "\n",
    "np.mean(return_ratios) == arithmetic_mean+1"
   ]
  }
 ],
 "metadata": {
  "kernelspec": {
   "display_name": "Python 3",
   "language": "python",
   "name": "python3"
  },
  "language_info": {
   "codemirror_mode": {
    "name": "ipython",
    "version": 3
   },
   "file_extension": ".py",
   "mimetype": "text/x-python",
   "name": "python",
   "nbconvert_exporter": "python",
   "pygments_lexer": "ipython3",
   "version": "3.7.6"
  },
  "widgets": {
   "application/vnd.jupyter.widget-state+json": {
    "state": {},
    "version_major": 2,
    "version_minor": 0
   }
  }
 },
 "nbformat": 4,
 "nbformat_minor": 4
}
