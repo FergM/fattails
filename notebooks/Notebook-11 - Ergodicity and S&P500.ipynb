{
 "cells": [
  {
   "cell_type": "markdown",
   "metadata": {},
   "source": [
    "# Ergodicity and S&P500\n",
    "S&P500 is not ergodic. Let's verify this.\n",
    "\n",
    "If it was ergodic then we would have `Geometric Average Annual Return (geometric_mean)` = `Compound Annual Growth Rate (CAGR)`\n",
    "\n",
    "Heuristic:\n",
    "* `geometric_mean` is analogous to the ensemble average.\n",
    "* `CAGR` is the time average."
   ]
  },
  {
   "cell_type": "code",
   "execution_count": 1,
   "metadata": {},
   "outputs": [],
   "source": [
    "import numpy as np\n",
    "import pandas as pd"
   ]
  },
  {
   "cell_type": "markdown",
   "metadata": {},
   "source": [
    "# Prepare Data\n",
    "Datasource [Berkshire Hathaway via Business Insider](https://www.businessinsider.com/personal-finance/average-stock-market-return)"
   ]
  },
  {
   "cell_type": "code",
   "execution_count": 2,
   "metadata": {},
   "outputs": [],
   "source": [
    "year = [2010, 2011, 2012, 2013, 2014, 2015, 2016, 2017, 2018, 2019]\n",
    "return_pct =[15.1, 2.1, 16, 32.4, 13.7, 1.4, 12, 21.8, -4.4, 31.5]\n",
    "d = {'year':year,'return_pct':return_pct}\n",
    "df = pd.DataFrame(d)"
   ]
  },
  {
   "cell_type": "code",
   "execution_count": 3,
   "metadata": {},
   "outputs": [],
   "source": [
    "df['return_multiple'] = 1 + df.return_pct/100"
   ]
  },
  {
   "cell_type": "markdown",
   "metadata": {},
   "source": [
    "Let's say we invest $100 at the beginning of 2020:"
   ]
  },
  {
   "cell_type": "code",
   "execution_count": 4,
   "metadata": {},
   "outputs": [],
   "source": [
    "initial_value = 100\n",
    "df['investment_value'] = df.return_multiple.cumprod()*initial_value"
   ]
  },
  {
   "cell_type": "code",
   "execution_count": 5,
   "metadata": {},
   "outputs": [
    {
     "data": {
      "text/html": [
       "<div>\n",
       "<style scoped>\n",
       "    .dataframe tbody tr th:only-of-type {\n",
       "        vertical-align: middle;\n",
       "    }\n",
       "\n",
       "    .dataframe tbody tr th {\n",
       "        vertical-align: top;\n",
       "    }\n",
       "\n",
       "    .dataframe thead th {\n",
       "        text-align: right;\n",
       "    }\n",
       "</style>\n",
       "<table border=\"1\" class=\"dataframe\">\n",
       "  <thead>\n",
       "    <tr style=\"text-align: right;\">\n",
       "      <th></th>\n",
       "      <th>year</th>\n",
       "      <th>return_pct</th>\n",
       "      <th>return_multiple</th>\n",
       "      <th>investment_value</th>\n",
       "    </tr>\n",
       "  </thead>\n",
       "  <tbody>\n",
       "    <tr>\n",
       "      <th>0</th>\n",
       "      <td>2010</td>\n",
       "      <td>15.1</td>\n",
       "      <td>1.151</td>\n",
       "      <td>115.100000</td>\n",
       "    </tr>\n",
       "    <tr>\n",
       "      <th>1</th>\n",
       "      <td>2011</td>\n",
       "      <td>2.1</td>\n",
       "      <td>1.021</td>\n",
       "      <td>117.517100</td>\n",
       "    </tr>\n",
       "    <tr>\n",
       "      <th>2</th>\n",
       "      <td>2012</td>\n",
       "      <td>16.0</td>\n",
       "      <td>1.160</td>\n",
       "      <td>136.319836</td>\n",
       "    </tr>\n",
       "    <tr>\n",
       "      <th>3</th>\n",
       "      <td>2013</td>\n",
       "      <td>32.4</td>\n",
       "      <td>1.324</td>\n",
       "      <td>180.487463</td>\n",
       "    </tr>\n",
       "    <tr>\n",
       "      <th>4</th>\n",
       "      <td>2014</td>\n",
       "      <td>13.7</td>\n",
       "      <td>1.137</td>\n",
       "      <td>205.214245</td>\n",
       "    </tr>\n",
       "    <tr>\n",
       "      <th>5</th>\n",
       "      <td>2015</td>\n",
       "      <td>1.4</td>\n",
       "      <td>1.014</td>\n",
       "      <td>208.087245</td>\n",
       "    </tr>\n",
       "    <tr>\n",
       "      <th>6</th>\n",
       "      <td>2016</td>\n",
       "      <td>12.0</td>\n",
       "      <td>1.120</td>\n",
       "      <td>233.057714</td>\n",
       "    </tr>\n",
       "    <tr>\n",
       "      <th>7</th>\n",
       "      <td>2017</td>\n",
       "      <td>21.8</td>\n",
       "      <td>1.218</td>\n",
       "      <td>283.864296</td>\n",
       "    </tr>\n",
       "    <tr>\n",
       "      <th>8</th>\n",
       "      <td>2018</td>\n",
       "      <td>-4.4</td>\n",
       "      <td>0.956</td>\n",
       "      <td>271.374267</td>\n",
       "    </tr>\n",
       "    <tr>\n",
       "      <th>9</th>\n",
       "      <td>2019</td>\n",
       "      <td>31.5</td>\n",
       "      <td>1.315</td>\n",
       "      <td>356.857161</td>\n",
       "    </tr>\n",
       "  </tbody>\n",
       "</table>\n",
       "</div>"
      ],
      "text/plain": [
       "   year  return_pct  return_multiple  investment_value\n",
       "0  2010        15.1            1.151        115.100000\n",
       "1  2011         2.1            1.021        117.517100\n",
       "2  2012        16.0            1.160        136.319836\n",
       "3  2013        32.4            1.324        180.487463\n",
       "4  2014        13.7            1.137        205.214245\n",
       "5  2015         1.4            1.014        208.087245\n",
       "6  2016        12.0            1.120        233.057714\n",
       "7  2017        21.8            1.218        283.864296\n",
       "8  2018        -4.4            0.956        271.374267\n",
       "9  2019        31.5            1.315        356.857161"
      ]
     },
     "execution_count": 5,
     "metadata": {},
     "output_type": "execute_result"
    }
   ],
   "source": [
    "df"
   ]
  },
  {
   "cell_type": "markdown",
   "metadata": {},
   "source": [
    "# Calculate Return"
   ]
  },
  {
   "cell_type": "code",
   "execution_count": 6,
   "metadata": {},
   "outputs": [],
   "source": [
    "# Calculate Geometric Mean\n",
    "geometric_mean = df.return_pct.mean()/100"
   ]
  },
  {
   "cell_type": "code",
   "execution_count": 7,
   "metadata": {},
   "outputs": [],
   "source": [
    "# Calculate CAGR\n",
    "final_value = df.investment_value.iloc[-1]\n",
    "years = len(df.year)\n",
    "CAGR = (final_value/initial_value)**(1/years)-1"
   ]
  },
  {
   "cell_type": "code",
   "execution_count": 8,
   "metadata": {},
   "outputs": [
    {
     "name": "stdout",
     "output_type": "stream",
     "text": [
      "Geometric Annual Yearly Mean:14.16%\n",
      "Compount Annual Growth Rate: 13.57%\n"
     ]
    }
   ],
   "source": [
    "print(\"Geometric Annual Yearly Mean:\"+\"{0:.2%}\".format(geometric_mean))\n",
    "print(\"Compount Annual Growth Rate: \"+\"{0:.2%}\".format(CAGR))"
   ]
  },
  {
   "cell_type": "markdown",
   "metadata": {},
   "source": [
    "# Apply those returns"
   ]
  },
  {
   "cell_type": "markdown",
   "metadata": {},
   "source": [
    "Suppose we invested at CAGR return each year:"
   ]
  },
  {
   "cell_type": "code",
   "execution_count": 9,
   "metadata": {},
   "outputs": [],
   "source": [
    "df['CAGR'] = CAGR\n",
    "df['CAGR_value'] = (1+df.CAGR).cumprod()*initial_value"
   ]
  },
  {
   "cell_type": "code",
   "execution_count": 10,
   "metadata": {},
   "outputs": [],
   "source": [
    "df['geometric_mean'] = geometric_mean\n",
    "df['geometric_mean_value'] = (1+df.geometric_mean).cumprod()*initial_value"
   ]
  },
  {
   "cell_type": "code",
   "execution_count": 11,
   "metadata": {},
   "outputs": [
    {
     "data": {
      "text/html": [
       "<div>\n",
       "<style scoped>\n",
       "    .dataframe tbody tr th:only-of-type {\n",
       "        vertical-align: middle;\n",
       "    }\n",
       "\n",
       "    .dataframe tbody tr th {\n",
       "        vertical-align: top;\n",
       "    }\n",
       "\n",
       "    .dataframe thead th {\n",
       "        text-align: right;\n",
       "    }\n",
       "</style>\n",
       "<table border=\"1\" class=\"dataframe\">\n",
       "  <thead>\n",
       "    <tr style=\"text-align: right;\">\n",
       "      <th></th>\n",
       "      <th>investment_value</th>\n",
       "      <th>CAGR_value</th>\n",
       "      <th>geometric_mean_value</th>\n",
       "    </tr>\n",
       "  </thead>\n",
       "  <tbody>\n",
       "    <tr>\n",
       "      <th>0</th>\n",
       "      <td>115.100000</td>\n",
       "      <td>113.566291</td>\n",
       "      <td>114.160000</td>\n",
       "    </tr>\n",
       "    <tr>\n",
       "      <th>1</th>\n",
       "      <td>117.517100</td>\n",
       "      <td>128.973024</td>\n",
       "      <td>130.325056</td>\n",
       "    </tr>\n",
       "    <tr>\n",
       "      <th>2</th>\n",
       "      <td>136.319836</td>\n",
       "      <td>146.469880</td>\n",
       "      <td>148.779084</td>\n",
       "    </tr>\n",
       "    <tr>\n",
       "      <th>3</th>\n",
       "      <td>180.487463</td>\n",
       "      <td>166.340410</td>\n",
       "      <td>169.846202</td>\n",
       "    </tr>\n",
       "    <tr>\n",
       "      <th>4</th>\n",
       "      <td>205.214245</td>\n",
       "      <td>188.906633</td>\n",
       "      <td>193.896424</td>\n",
       "    </tr>\n",
       "    <tr>\n",
       "      <th>5</th>\n",
       "      <td>208.087245</td>\n",
       "      <td>214.534256</td>\n",
       "      <td>221.352158</td>\n",
       "    </tr>\n",
       "    <tr>\n",
       "      <th>6</th>\n",
       "      <td>233.057714</td>\n",
       "      <td>243.638598</td>\n",
       "      <td>252.695624</td>\n",
       "    </tr>\n",
       "    <tr>\n",
       "      <th>7</th>\n",
       "      <td>283.864296</td>\n",
       "      <td>276.691318</td>\n",
       "      <td>288.477324</td>\n",
       "    </tr>\n",
       "    <tr>\n",
       "      <th>8</th>\n",
       "      <td>271.374267</td>\n",
       "      <td>314.228067</td>\n",
       "      <td>329.325713</td>\n",
       "    </tr>\n",
       "    <tr>\n",
       "      <th>9</th>\n",
       "      <td>356.857161</td>\n",
       "      <td>356.857161</td>\n",
       "      <td>375.958234</td>\n",
       "    </tr>\n",
       "  </tbody>\n",
       "</table>\n",
       "</div>"
      ],
      "text/plain": [
       "   investment_value  CAGR_value  geometric_mean_value\n",
       "0        115.100000  113.566291            114.160000\n",
       "1        117.517100  128.973024            130.325056\n",
       "2        136.319836  146.469880            148.779084\n",
       "3        180.487463  166.340410            169.846202\n",
       "4        205.214245  188.906633            193.896424\n",
       "5        208.087245  214.534256            221.352158\n",
       "6        233.057714  243.638598            252.695624\n",
       "7        283.864296  276.691318            288.477324\n",
       "8        271.374267  314.228067            329.325713\n",
       "9        356.857161  356.857161            375.958234"
      ]
     },
     "execution_count": 11,
     "metadata": {},
     "output_type": "execute_result"
    }
   ],
   "source": [
    "value_df = df.loc[:,['investment_value','CAGR_value','geometric_mean_value']]\n",
    "value_df"
   ]
  },
  {
   "cell_type": "markdown",
   "metadata": {},
   "source": [
    "# Plot"
   ]
  },
  {
   "cell_type": "code",
   "execution_count": 12,
   "metadata": {},
   "outputs": [
    {
     "data": {
      "text/plain": [
       "<matplotlib.axes._subplots.AxesSubplot at 0x1dd25440bc8>"
      ]
     },
     "execution_count": 12,
     "metadata": {},
     "output_type": "execute_result"
    },
    {
     "data": {
      "image/png": "[encoded data removed]",
      "text/plain": [
       "<Figure size 432x288 with 1 Axes>"
      ]
     },
     "metadata": {
      "needs_background": "light"
     },
     "output_type": "display_data"
    }
   ],
   "source": [
    "value_df.plot(kind='bar')"
   ]
  },
  {
   "cell_type": "markdown",
   "metadata": {},
   "source": [
    "# Conclusion\n",
    "S&P500 Investors care about GAGR return, not average return (geometric).\n",
    "* Average return (geometric) will always be higher due to Jensen's inequality."
   ]
  },
  {
   "cell_type": "markdown",
   "metadata": {},
   "source": [
    "### Jensen's Inequality Explanation (Incomplete)\n",
    "* Convex Functions:\n",
    "    * Volatility raises the value of convex functions\n",
    "    * `t*f(x1)+(1-t)*f(x2) >= f(t*x1+(1-t)*x2)` if f is a convex function\n",
    "    * i.e. average of function > function of average"
   ]
  },
  {
   "cell_type": "markdown",
   "metadata": {},
   "source": [
    "See the function `return_ratio` below:\n",
    "* For CAGR you apply `return_ration` first and then separate stuff out\n",
    "* For Geometric mean you separate stuff out ant then apply `return_ratio`"
   ]
  },
  {
   "cell_type": "code",
   "execution_count": 13,
   "metadata": {},
   "outputs": [],
   "source": [
    "def return_ratio(start_value, end_value):\n",
    "    return (end_value/start_value)"
   ]
  }
 ],
 "metadata": {
  "kernelspec": {
   "display_name": "Python 3",
   "language": "python",
   "name": "python3"
  },
  "language_info": {
   "codemirror_mode": {
    "name": "ipython",
    "version": 3
   },
   "file_extension": ".py",
   "mimetype": "text/x-python",
   "name": "python",
   "nbconvert_exporter": "python",
   "pygments_lexer": "ipython3",
   "version": "3.7.6"
  }
 },
 "nbformat": 4,
 "nbformat_minor": 4
}
