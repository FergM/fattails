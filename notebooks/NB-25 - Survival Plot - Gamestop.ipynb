{
 "cells": [
  {
   "cell_type": "markdown",
   "metadata": {},
   "source": [
    "# About\n",
    "Roughwork exploration GameStop Stock return data:\n",
    "1. Power law fit\n",
    "2. Normal distribution fit"
   ]
  },
  {
   "cell_type": "code",
   "execution_count": 1,
   "metadata": {},
   "outputs": [],
   "source": [
    "import pandas as pd\n",
    "\n",
    "import fattails.metrics as fattails"
   ]
  },
  {
   "cell_type": "markdown",
   "metadata": {},
   "source": [
    "# Setup"
   ]
  },
  {
   "cell_type": "markdown",
   "metadata": {},
   "source": [
    "##### Load Data"
   ]
  },
  {
   "cell_type": "code",
   "execution_count": 2,
   "metadata": {},
   "outputs": [
    {
     "data": {
      "text/html": [
       "<div>\n",
       "<style scoped>\n",
       "    .dataframe tbody tr th:only-of-type {\n",
       "        vertical-align: middle;\n",
       "    }\n",
       "\n",
       "    .dataframe tbody tr th {\n",
       "        vertical-align: top;\n",
       "    }\n",
       "\n",
       "    .dataframe thead th {\n",
       "        text-align: right;\n",
       "    }\n",
       "</style>\n",
       "<table border=\"1\" class=\"dataframe\">\n",
       "  <thead>\n",
       "    <tr style=\"text-align: right;\">\n",
       "      <th></th>\n",
       "      <th>Open</th>\n",
       "      <th>High</th>\n",
       "      <th>Low</th>\n",
       "      <th>Close</th>\n",
       "      <th>Adj Close</th>\n",
       "      <th>Volume</th>\n",
       "    </tr>\n",
       "    <tr>\n",
       "      <th>Date</th>\n",
       "      <th></th>\n",
       "      <th></th>\n",
       "      <th></th>\n",
       "      <th></th>\n",
       "      <th></th>\n",
       "      <th></th>\n",
       "    </tr>\n",
       "  </thead>\n",
       "  <tbody>\n",
       "    <tr>\n",
       "      <th>2002-02-13</th>\n",
       "      <td>9.625</td>\n",
       "      <td>10.060</td>\n",
       "      <td>9.525</td>\n",
       "      <td>10.050</td>\n",
       "      <td>6.766666</td>\n",
       "      <td>19054000</td>\n",
       "    </tr>\n",
       "    <tr>\n",
       "      <th>2002-02-14</th>\n",
       "      <td>10.175</td>\n",
       "      <td>10.195</td>\n",
       "      <td>9.925</td>\n",
       "      <td>10.000</td>\n",
       "      <td>6.733003</td>\n",
       "      <td>2755400</td>\n",
       "    </tr>\n",
       "    <tr>\n",
       "      <th>2002-02-15</th>\n",
       "      <td>10.000</td>\n",
       "      <td>10.025</td>\n",
       "      <td>9.850</td>\n",
       "      <td>9.950</td>\n",
       "      <td>6.699336</td>\n",
       "      <td>2097400</td>\n",
       "    </tr>\n",
       "    <tr>\n",
       "      <th>2002-02-19</th>\n",
       "      <td>9.900</td>\n",
       "      <td>9.900</td>\n",
       "      <td>9.375</td>\n",
       "      <td>9.550</td>\n",
       "      <td>6.430017</td>\n",
       "      <td>1852600</td>\n",
       "    </tr>\n",
       "    <tr>\n",
       "      <th>2002-02-20</th>\n",
       "      <td>9.600</td>\n",
       "      <td>9.875</td>\n",
       "      <td>9.525</td>\n",
       "      <td>9.875</td>\n",
       "      <td>6.648838</td>\n",
       "      <td>1723200</td>\n",
       "    </tr>\n",
       "  </tbody>\n",
       "</table>\n",
       "</div>"
      ],
      "text/plain": [
       "              Open    High    Low   Close  Adj Close    Volume\n",
       "Date                                                          \n",
       "2002-02-13   9.625  10.060  9.525  10.050   6.766666  19054000\n",
       "2002-02-14  10.175  10.195  9.925  10.000   6.733003   2755400\n",
       "2002-02-15  10.000  10.025  9.850   9.950   6.699336   2097400\n",
       "2002-02-19   9.900   9.900  9.375   9.550   6.430017   1852600\n",
       "2002-02-20   9.600   9.875  9.525   9.875   6.648838   1723200"
      ]
     },
     "execution_count": 2,
     "metadata": {},
     "output_type": "execute_result"
    }
   ],
   "source": [
    "data_source = 'https://query1.finance.yahoo.com/v7/finance/download/GME?period1=1013558400&period2=1611878400&interval=1d&events=history&includeAdjustedClose=true'\n",
    "\n",
    "price_data = pd.read_csv(data_source)\n",
    "price_data = price_data.set_index('Date')\n",
    "price_data.head()"
   ]
  },
  {
   "cell_type": "markdown",
   "metadata": {},
   "source": [
    "##### Calculate Returns"
   ]
  },
  {
   "cell_type": "code",
   "execution_count": 3,
   "metadata": {},
   "outputs": [
    {
     "data": {
      "text/html": [
       "<div>\n",
       "<style scoped>\n",
       "    .dataframe tbody tr th:only-of-type {\n",
       "        vertical-align: middle;\n",
       "    }\n",
       "\n",
       "    .dataframe tbody tr th {\n",
       "        vertical-align: top;\n",
       "    }\n",
       "\n",
       "    .dataframe thead th {\n",
       "        text-align: right;\n",
       "    }\n",
       "</style>\n",
       "<table border=\"1\" class=\"dataframe\">\n",
       "  <thead>\n",
       "    <tr style=\"text-align: right;\">\n",
       "      <th></th>\n",
       "      <th>daily_return</th>\n",
       "    </tr>\n",
       "    <tr>\n",
       "      <th>Date</th>\n",
       "      <th></th>\n",
       "    </tr>\n",
       "  </thead>\n",
       "  <tbody>\n",
       "    <tr>\n",
       "      <th>2002-02-13</th>\n",
       "      <td>NaN</td>\n",
       "    </tr>\n",
       "    <tr>\n",
       "      <th>2002-02-14</th>\n",
       "      <td>-0.004975</td>\n",
       "    </tr>\n",
       "    <tr>\n",
       "      <th>2002-02-15</th>\n",
       "      <td>-0.005000</td>\n",
       "    </tr>\n",
       "    <tr>\n",
       "      <th>2002-02-19</th>\n",
       "      <td>-0.040201</td>\n",
       "    </tr>\n",
       "    <tr>\n",
       "      <th>2002-02-20</th>\n",
       "      <td>0.034031</td>\n",
       "    </tr>\n",
       "    <tr>\n",
       "      <th>...</th>\n",
       "      <td>...</td>\n",
       "    </tr>\n",
       "    <tr>\n",
       "      <th>2021-01-22</th>\n",
       "      <td>0.510806</td>\n",
       "    </tr>\n",
       "    <tr>\n",
       "      <th>2021-01-25</th>\n",
       "      <td>0.181203</td>\n",
       "    </tr>\n",
       "    <tr>\n",
       "      <th>2021-01-26</th>\n",
       "      <td>0.927074</td>\n",
       "    </tr>\n",
       "    <tr>\n",
       "      <th>2021-01-27</th>\n",
       "      <td>1.348358</td>\n",
       "    </tr>\n",
       "    <tr>\n",
       "      <th>2021-01-28</th>\n",
       "      <td>-0.442894</td>\n",
       "    </tr>\n",
       "  </tbody>\n",
       "</table>\n",
       "<p>4773 rows × 1 columns</p>\n",
       "</div>"
      ],
      "text/plain": [
       "            daily_return\n",
       "Date                    \n",
       "2002-02-13           NaN\n",
       "2002-02-14     -0.004975\n",
       "2002-02-15     -0.005000\n",
       "2002-02-19     -0.040201\n",
       "2002-02-20      0.034031\n",
       "...                  ...\n",
       "2021-01-22      0.510806\n",
       "2021-01-25      0.181203\n",
       "2021-01-26      0.927074\n",
       "2021-01-27      1.348358\n",
       "2021-01-28     -0.442894\n",
       "\n",
       "[4773 rows x 1 columns]"
      ]
     },
     "execution_count": 3,
     "metadata": {},
     "output_type": "execute_result"
    }
   ],
   "source": [
    "close_price = price_data.Close\n",
    "previous_close_price = price_data.Close\n",
    "\n",
    "daily_return = close_price / previous_close_price.shift(1) - 1\n",
    "\n",
    "# Format as a DataFrame\n",
    "df = daily_return.to_frame('daily_return') \n",
    "df"
   ]
  },
  {
   "cell_type": "code",
   "execution_count": 4,
   "metadata": {},
   "outputs": [],
   "source": [
    "# Remove NaN value\n",
    "assert df.daily_return.isna().sum() == 1 # The first day has no prior day so return is NaN\n",
    "df.dropna(inplace=True)"
   ]
  },
  {
   "cell_type": "markdown",
   "metadata": {},
   "source": [
    "# 2. Check for Power Law\n",
    "Check the right tail for Power Law behaviour.\n",
    "\n",
    "Power laws are straight on loglog plots. We'll plot the empirical right tail and check for this behaviour."
   ]
  },
  {
   "cell_type": "code",
   "execution_count": 5,
   "metadata": {},
   "outputs": [
    {
     "data": {
      "text/html": [
       "<div>\n",
       "<style scoped>\n",
       "    .dataframe tbody tr th:only-of-type {\n",
       "        vertical-align: middle;\n",
       "    }\n",
       "\n",
       "    .dataframe tbody tr th {\n",
       "        vertical-align: top;\n",
       "    }\n",
       "\n",
       "    .dataframe thead th {\n",
       "        text-align: right;\n",
       "    }\n",
       "</style>\n",
       "<table border=\"1\" class=\"dataframe\">\n",
       "  <thead>\n",
       "    <tr style=\"text-align: right;\">\n",
       "      <th></th>\n",
       "      <th>daily_return</th>\n",
       "      <th>survival_probability</th>\n",
       "    </tr>\n",
       "    <tr>\n",
       "      <th>Date</th>\n",
       "      <th></th>\n",
       "      <th></th>\n",
       "    </tr>\n",
       "  </thead>\n",
       "  <tbody>\n",
       "    <tr>\n",
       "      <th>2021-01-28</th>\n",
       "      <td>-0.442894</td>\n",
       "      <td>0.999790</td>\n",
       "    </tr>\n",
       "    <tr>\n",
       "      <th>2019-06-05</th>\n",
       "      <td>-0.355499</td>\n",
       "      <td>0.999581</td>\n",
       "    </tr>\n",
       "    <tr>\n",
       "      <th>2002-12-19</th>\n",
       "      <td>-0.300300</td>\n",
       "      <td>0.999371</td>\n",
       "    </tr>\n",
       "    <tr>\n",
       "      <th>2019-01-29</th>\n",
       "      <td>-0.272258</td>\n",
       "      <td>0.999162</td>\n",
       "    </tr>\n",
       "    <tr>\n",
       "      <th>2014-01-14</th>\n",
       "      <td>-0.198808</td>\n",
       "      <td>0.998952</td>\n",
       "    </tr>\n",
       "    <tr>\n",
       "      <th>...</th>\n",
       "      <td>...</td>\n",
       "      <td>...</td>\n",
       "    </tr>\n",
       "    <tr>\n",
       "      <th>2020-10-08</th>\n",
       "      <td>0.441239</td>\n",
       "      <td>0.001048</td>\n",
       "    </tr>\n",
       "    <tr>\n",
       "      <th>2021-01-22</th>\n",
       "      <td>0.510806</td>\n",
       "      <td>0.000838</td>\n",
       "    </tr>\n",
       "    <tr>\n",
       "      <th>2021-01-13</th>\n",
       "      <td>0.573935</td>\n",
       "      <td>0.000629</td>\n",
       "    </tr>\n",
       "    <tr>\n",
       "      <th>2021-01-26</th>\n",
       "      <td>0.927074</td>\n",
       "      <td>0.000419</td>\n",
       "    </tr>\n",
       "    <tr>\n",
       "      <th>2021-01-27</th>\n",
       "      <td>1.348358</td>\n",
       "      <td>0.000210</td>\n",
       "    </tr>\n",
       "  </tbody>\n",
       "</table>\n",
       "<p>4772 rows × 2 columns</p>\n",
       "</div>"
      ],
      "text/plain": [
       "            daily_return  survival_probability\n",
       "Date                                          \n",
       "2021-01-28     -0.442894              0.999790\n",
       "2019-06-05     -0.355499              0.999581\n",
       "2002-12-19     -0.300300              0.999371\n",
       "2019-01-29     -0.272258              0.999162\n",
       "2014-01-14     -0.198808              0.998952\n",
       "...                  ...                   ...\n",
       "2020-10-08      0.441239              0.001048\n",
       "2021-01-22      0.510806              0.000838\n",
       "2021-01-13      0.573935              0.000629\n",
       "2021-01-26      0.927074              0.000419\n",
       "2021-01-27      1.348358              0.000210\n",
       "\n",
       "[4772 rows x 2 columns]"
      ]
     },
     "execution_count": 5,
     "metadata": {},
     "output_type": "execute_result"
    }
   ],
   "source": [
    "# Calculate survival probability for each datapoint\n",
    "df['survival_probability'] = fattails.get_survival_probability(df.daily_return)\n",
    "df = df.sort_values(by='daily_return') # show sorted values\n",
    "df"
   ]
  },
  {
   "cell_type": "code",
   "execution_count": 6,
   "metadata": {},
   "outputs": [
    {
     "data": {
      "image/png": "[encoded data removed]",
      "text/plain": [
       "<Figure size 432x288 with 1 Axes>"
      ]
     },
     "metadata": {
      "needs_background": "light"
     },
     "output_type": "display_data"
    }
   ],
   "source": [
    "# Plot the Right Tail\n",
    "selection = df.survival_probability < 0.33 # select top 33% of datapoints\n",
    "\n",
    "right_tail = df.loc[selection]\n",
    "\n",
    "right_tail.plot(x='daily_return', y='survival_probability',\n",
    "                xlabel='Daily Return', ylabel='Probability of >= X', title='Gamestop Daily Returns',\n",
    "                kind='scatter', loglog=True); # xlabel argument requires pandas >= 1.2.0"
   ]
  },
  {
   "cell_type": "markdown",
   "metadata": {},
   "source": [
    "### Conclusions\n",
    "If we assume that the tail is power law distributed, then the crazy moves of Gamestop stock in 2021 are not outliers! "
   ]
  },
  {
   "cell_type": "markdown",
   "metadata": {},
   "source": [
    "# 2. Fit a Normal Distribution"
   ]
  },
  {
   "cell_type": "code",
   "execution_count": 7,
   "metadata": {},
   "outputs": [],
   "source": [
    "import numpy as np\n",
    "from scipy.stats import norm"
   ]
  },
  {
   "cell_type": "code",
   "execution_count": 8,
   "metadata": {},
   "outputs": [],
   "source": [
    "def fit_gaussian_pdf(mean, std):\n",
    "    \n",
    "    x = np.linspace(mean-4*std, mean+4*std, 100)                   # 100 equally spaced x locations\n",
    "    y = norm.pdf(x, loc=mean, scale=std) # 100 corresponding probability densities\n",
    "\n",
    "    return x,y"
   ]
  },
  {
   "cell_type": "code",
   "execution_count": 9,
   "metadata": {},
   "outputs": [
    {
     "data": {
      "text/html": [
       "<div>\n",
       "<style scoped>\n",
       "    .dataframe tbody tr th:only-of-type {\n",
       "        vertical-align: middle;\n",
       "    }\n",
       "\n",
       "    .dataframe tbody tr th {\n",
       "        vertical-align: top;\n",
       "    }\n",
       "\n",
       "    .dataframe thead th {\n",
       "        text-align: right;\n",
       "    }\n",
       "</style>\n",
       "<table border=\"1\" class=\"dataframe\">\n",
       "  <thead>\n",
       "    <tr style=\"text-align: right;\">\n",
       "      <th></th>\n",
       "      <th>daily_return</th>\n",
       "    </tr>\n",
       "  </thead>\n",
       "  <tbody>\n",
       "    <tr>\n",
       "      <th>50%</th>\n",
       "      <td>0.000379</td>\n",
       "    </tr>\n",
       "    <tr>\n",
       "      <th>mean</th>\n",
       "      <td>0.001414</td>\n",
       "    </tr>\n",
       "    <tr>\n",
       "      <th>std</th>\n",
       "      <td>0.042956</td>\n",
       "    </tr>\n",
       "  </tbody>\n",
       "</table>\n",
       "</div>"
      ],
      "text/plain": [
       "      daily_return\n",
       "50%       0.000379\n",
       "mean      0.001414\n",
       "std       0.042956"
      ]
     },
     "execution_count": 9,
     "metadata": {},
     "output_type": "execute_result"
    }
   ],
   "source": [
    "# Get Mean and Standard Deviation from Dataset\n",
    "norm_params = ['50%', 'mean', 'std']\n",
    "norm_params = df.daily_return.describe().loc[norm_params]\n",
    "\n",
    "mean=norm_params.loc['mean']\n",
    "std = norm_params.loc['std']\n",
    "\n",
    "norm_params.to_frame()"
   ]
  },
  {
   "cell_type": "code",
   "execution_count": 10,
   "metadata": {},
   "outputs": [
    {
     "data": {
      "image/png": "[encoded data removed]",
      "text/plain": [
       "<Figure size 432x288 with 1 Axes>"
      ]
     },
     "metadata": {
      "needs_background": "light"
     },
     "output_type": "display_data"
    }
   ],
   "source": [
    "x, y = fit_gaussian_pdf(mean,std)\n",
    "\n",
    "# Plot Histogram\n",
    "normalization_kwargs = {'stacked':True, 'density':True}\n",
    "ax = df.daily_return.plot(kind='hist', **normalization_kwargs, bins=500)\n",
    "\n",
    "ax.plot(x, y)\n",
    "ax.set(xlabel='x', ylabel='pdf(x)',\n",
    "       title='Normal Distribution PDF');"
   ]
  },
  {
   "cell_type": "markdown",
   "metadata": {},
   "source": [
    "### Final Conclusion\n",
    "* If we assume a **normal distribution** the fit is not very good. We made a plot to compare the empirical data against a normal distribution of the same mean and variance. The high peak and low shoulders of the empirical data are typical for fat tailed data. Of course we even see outliers many sigma into the tails, which is almost never happens with a true normal distribution.\n",
    "* If we assume that the tail is **power law** distributed, then the crazy moves of Gamestop stock in 2021 are not outliers! "
   ]
  }
 ],
 "metadata": {
  "kernelspec": {
   "display_name": "fattails",
   "language": "python",
   "name": "fattails"
  },
  "language_info": {
   "codemirror_mode": {
    "name": "ipython",
    "version": 3
   },
   "file_extension": ".py",
   "mimetype": "text/x-python",
   "name": "python",
   "nbconvert_exporter": "python",
   "pygments_lexer": "ipython3",
   "version": "3.8.5"
  },
  "widgets": {
   "application/vnd.jupyter.widget-state+json": {
    "state": {},
    "version_major": 2,
    "version_minor": 0
   }
  }
 },
 "nbformat": 4,
 "nbformat_minor": 4
}
