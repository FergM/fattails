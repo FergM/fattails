{
 "cells": [
  {
   "cell_type": "markdown",
   "metadata": {},
   "source": [
    "# About\n",
    "Roughwork exploration GameStop Stock return data:\n",
    "1. Power Law Tail Exploration\n",
    "2. Gaussian comparison\n",
    "3. Tail event data analysis"
   ]
  },
  {
   "cell_type": "code",
   "execution_count": 1,
   "metadata": {},
   "outputs": [],
   "source": [
    "import matplotlib.pyplot as plt\n",
    "import numpy as np\n",
    "import pandas as pd\n",
    "from scipy.stats import norm"
   ]
  },
  {
   "cell_type": "code",
   "execution_count": 2,
   "metadata": {},
   "outputs": [],
   "source": [
    "data_source = 'https://query1.finance.yahoo.com/v7/finance/download/GME?period1=1013558400&period2=1611878400&interval=1d&events=history&includeAdjustedClose=true'"
   ]
  },
  {
   "cell_type": "code",
   "execution_count": 3,
   "metadata": {},
   "outputs": [
    {
     "data": {
      "text/html": [
       "<div>\n",
       "<style scoped>\n",
       "    .dataframe tbody tr th:only-of-type {\n",
       "        vertical-align: middle;\n",
       "    }\n",
       "\n",
       "    .dataframe tbody tr th {\n",
       "        vertical-align: top;\n",
       "    }\n",
       "\n",
       "    .dataframe thead th {\n",
       "        text-align: right;\n",
       "    }\n",
       "</style>\n",
       "<table border=\"1\" class=\"dataframe\">\n",
       "  <thead>\n",
       "    <tr style=\"text-align: right;\">\n",
       "      <th></th>\n",
       "      <th>Open</th>\n",
       "      <th>High</th>\n",
       "      <th>Low</th>\n",
       "      <th>Close</th>\n",
       "      <th>Adj Close</th>\n",
       "      <th>Volume</th>\n",
       "    </tr>\n",
       "    <tr>\n",
       "      <th>Date</th>\n",
       "      <th></th>\n",
       "      <th></th>\n",
       "      <th></th>\n",
       "      <th></th>\n",
       "      <th></th>\n",
       "      <th></th>\n",
       "    </tr>\n",
       "  </thead>\n",
       "  <tbody>\n",
       "    <tr>\n",
       "      <th>2002-02-13</th>\n",
       "      <td>9.625</td>\n",
       "      <td>10.060</td>\n",
       "      <td>9.525</td>\n",
       "      <td>10.050</td>\n",
       "      <td>6.766666</td>\n",
       "      <td>19054000</td>\n",
       "    </tr>\n",
       "    <tr>\n",
       "      <th>2002-02-14</th>\n",
       "      <td>10.175</td>\n",
       "      <td>10.195</td>\n",
       "      <td>9.925</td>\n",
       "      <td>10.000</td>\n",
       "      <td>6.733003</td>\n",
       "      <td>2755400</td>\n",
       "    </tr>\n",
       "    <tr>\n",
       "      <th>2002-02-15</th>\n",
       "      <td>10.000</td>\n",
       "      <td>10.025</td>\n",
       "      <td>9.850</td>\n",
       "      <td>9.950</td>\n",
       "      <td>6.699336</td>\n",
       "      <td>2097400</td>\n",
       "    </tr>\n",
       "    <tr>\n",
       "      <th>2002-02-19</th>\n",
       "      <td>9.900</td>\n",
       "      <td>9.900</td>\n",
       "      <td>9.375</td>\n",
       "      <td>9.550</td>\n",
       "      <td>6.430017</td>\n",
       "      <td>1852600</td>\n",
       "    </tr>\n",
       "    <tr>\n",
       "      <th>2002-02-20</th>\n",
       "      <td>9.600</td>\n",
       "      <td>9.875</td>\n",
       "      <td>9.525</td>\n",
       "      <td>9.875</td>\n",
       "      <td>6.648838</td>\n",
       "      <td>1723200</td>\n",
       "    </tr>\n",
       "  </tbody>\n",
       "</table>\n",
       "</div>"
      ],
      "text/plain": [
       "              Open    High    Low   Close  Adj Close    Volume\n",
       "Date                                                          \n",
       "2002-02-13   9.625  10.060  9.525  10.050   6.766666  19054000\n",
       "2002-02-14  10.175  10.195  9.925  10.000   6.733003   2755400\n",
       "2002-02-15  10.000  10.025  9.850   9.950   6.699336   2097400\n",
       "2002-02-19   9.900   9.900  9.375   9.550   6.430017   1852600\n",
       "2002-02-20   9.600   9.875  9.525   9.875   6.648838   1723200"
      ]
     },
     "execution_count": 3,
     "metadata": {},
     "output_type": "execute_result"
    }
   ],
   "source": [
    "# Load Data\n",
    "price_data = pd.read_csv(data_source)\n",
    "price_data = price_data.set_index('Date')\n",
    "price_data.head()"
   ]
  },
  {
   "cell_type": "code",
   "execution_count": 4,
   "metadata": {},
   "outputs": [
    {
     "data": {
      "text/plain": [
       "Date\n",
       "2002-02-13         NaN\n",
       "2002-02-14   -0.004975\n",
       "2002-02-15   -0.005000\n",
       "2002-02-19   -0.040201\n",
       "2002-02-20    0.034031\n",
       "                ...   \n",
       "2021-01-22    0.510806\n",
       "2021-01-25    0.181203\n",
       "2021-01-26    0.927074\n",
       "2021-01-27    1.348358\n",
       "2021-01-28   -0.442894\n",
       "Name: daily_return, Length: 4773, dtype: float64"
      ]
     },
     "execution_count": 4,
     "metadata": {},
     "output_type": "execute_result"
    }
   ],
   "source": [
    "# Calculate Returns\n",
    "close_price = price_data.Close\n",
    "previous_close_price = price_data.Close\n",
    "\n",
    "returns = close_price / previous_close_price.shift(1) - 1\n",
    "returns.name = 'daily_return'\n",
    "returns"
   ]
  },
  {
   "cell_type": "code",
   "execution_count": 5,
   "metadata": {},
   "outputs": [
    {
     "name": "stdout",
     "output_type": "stream",
     "text": [
      "There are 1 NaN values in the data.\n"
     ]
    }
   ],
   "source": [
    "# Remove nan value\n",
    "print(f'There are {returns.isna().sum()} NaN values in the data.')\n",
    "returns = returns.dropna()"
   ]
  },
  {
   "cell_type": "markdown",
   "metadata": {},
   "source": [
    "# Check right tail for Power Law"
   ]
  },
  {
   "cell_type": "code",
   "execution_count": 6,
   "metadata": {},
   "outputs": [],
   "source": [
    "# Helper Function\n",
    "def get_exceedance_probability(price_sr):\n",
    "    \n",
    "    price_sr = price_sr.copy()\n",
    "\n",
    "    # Get Dataset Size\n",
    "    price_count = len(price_sr)\n",
    "    total_gap_count = price_count + 1 # i.e. gaps between prices where probability is bounded by 0 and 1.\n",
    "\n",
    "    # Sort from low to high\n",
    "    price_sr = price_sr.sort_values() # Sort\n",
    "    price_df = price_sr.reset_index() # Keep old index\n",
    "    price_df = price_df.rename(columns={'index':'old_index'})\n",
    "    \n",
    "    # Create index starting at one (as opposed to zero)\n",
    "    ## `left_gap_count` counts the number of values which are less than or equal to a given price\n",
    "    price_df['left_gap_count'] = 1\n",
    "    price_df['left_gap_count'] = price_df.left_gap_count.cumsum()\n",
    "    price_df['right_gap_count'] = total_gap_count - price_df.left_gap_count\n",
    "\n",
    "    # Get Survival Probability\n",
    "    survival_probability_fn = f'right_gap_count/{total_gap_count}'\n",
    "    price_df['survival_probability'] = price_df.eval(survival_probability_fn)\n",
    "    # Get Cumulative Probability (CDF)\n",
    "    cumulative_probability_fn = f'left_gap_count/{total_gap_count}'\n",
    "    price_df['cumulative_probability'] = price_df.eval(cumulative_probability_fn)\n",
    "    \n",
    "    return price_df"
   ]
  },
  {
   "cell_type": "code",
   "execution_count": 7,
   "metadata": {},
   "outputs": [],
   "source": [
    "survival_df = get_exceedance_probability(returns)"
   ]
  },
  {
   "cell_type": "markdown",
   "metadata": {},
   "source": [
    "Power laws are straight on loglog plots, therefore we'll plot the empirical right tail as such to see if it is also straight in part."
   ]
  },
  {
   "cell_type": "code",
   "execution_count": 8,
   "metadata": {},
   "outputs": [
    {
     "data": {
      "image/png": "[encoded data removed]",
      "text/plain": [
       "<Figure size 432x288 with 1 Axes>"
      ]
     },
     "metadata": {
      "needs_background": "light"
     },
     "output_type": "display_data"
    }
   ],
   "source": [
    "ax = survival_df.loc[survival_df.survival_probability<0.75].plot(x='daily_return', y='survival_probability', loglog=True, marker='*')\n",
    "ax.set_xlabel('Return')\n",
    "ax.set_ylabel('Sample Probability of Exceeding X [one or less]');"
   ]
  },
  {
   "cell_type": "markdown",
   "metadata": {},
   "source": [
    "Let's think about a 1 in 200 event. This means an event with 0.5% probability."
   ]
  },
  {
   "cell_type": "code",
   "execution_count": 9,
   "metadata": {},
   "outputs": [
    {
     "data": {
      "text/plain": [
       "0.005"
      ]
     },
     "execution_count": 9,
     "metadata": {},
     "output_type": "execute_result"
    }
   ],
   "source": [
    "1/200"
   ]
  },
  {
   "cell_type": "code",
   "execution_count": 10,
   "metadata": {},
   "outputs": [
    {
     "data": {
      "image/png": "[encoded data removed]",
      "text/plain": [
       "<Figure size 432x288 with 1 Axes>"
      ]
     },
     "metadata": {
      "needs_background": "light"
     },
     "output_type": "display_data"
    }
   ],
   "source": [
    "# Plot and Emphasise 1/200 probability\n",
    "ax = survival_df.loc[survival_df.survival_probability<0.75].plot(x='daily_return', y='survival_probability', loglog=True, marker='*')\n",
    "ax.set_xlabel('Daily Return')\n",
    "ax.set_ylabel('Sample Probability of Exceeding X [one or less]');\n",
    "ax.axhline(y=1/200, lw=1, color='red', label='1 in 200 Day probability')\n",
    "ax.legend();"
   ]
  },
  {
   "cell_type": "markdown",
   "metadata": {},
   "source": [
    "### Fit a Normal Distribution"
   ]
  },
  {
   "cell_type": "code",
   "execution_count": 11,
   "metadata": {},
   "outputs": [],
   "source": [
    "def fit_gaussian_pdf(mean, std):\n",
    "    \n",
    "    x = np.linspace(mean-4*std, mean+4*std, 100)                   # 100 equally spaced x locations\n",
    "    y = norm.pdf(x, loc=mean, scale=std) # 100 corresponding probability densities\n",
    "\n",
    "    return x,y"
   ]
  },
  {
   "cell_type": "code",
   "execution_count": 12,
   "metadata": {},
   "outputs": [
    {
     "data": {
      "text/html": [
       "<div>\n",
       "<style scoped>\n",
       "    .dataframe tbody tr th:only-of-type {\n",
       "        vertical-align: middle;\n",
       "    }\n",
       "\n",
       "    .dataframe tbody tr th {\n",
       "        vertical-align: top;\n",
       "    }\n",
       "\n",
       "    .dataframe thead th {\n",
       "        text-align: right;\n",
       "    }\n",
       "</style>\n",
       "<table border=\"1\" class=\"dataframe\">\n",
       "  <thead>\n",
       "    <tr style=\"text-align: right;\">\n",
       "      <th></th>\n",
       "      <th>daily_return</th>\n",
       "    </tr>\n",
       "  </thead>\n",
       "  <tbody>\n",
       "    <tr>\n",
       "      <th>50%</th>\n",
       "      <td>0.000379</td>\n",
       "    </tr>\n",
       "    <tr>\n",
       "      <th>mean</th>\n",
       "      <td>0.001414</td>\n",
       "    </tr>\n",
       "    <tr>\n",
       "      <th>std</th>\n",
       "      <td>0.042956</td>\n",
       "    </tr>\n",
       "  </tbody>\n",
       "</table>\n",
       "</div>"
      ],
      "text/plain": [
       "      daily_return\n",
       "50%       0.000379\n",
       "mean      0.001414\n",
       "std       0.042956"
      ]
     },
     "execution_count": 12,
     "metadata": {},
     "output_type": "execute_result"
    }
   ],
   "source": [
    "# Get Mean and Standard Deviation from Dataset\n",
    "norm_params = ['50%', 'mean', 'std']\n",
    "norm_params = returns.describe().loc[norm_params]\n",
    "\n",
    "mean=norm_params.loc['mean']\n",
    "std = norm_params.loc['std']\n",
    "\n",
    "norm_params.to_frame()"
   ]
  },
  {
   "cell_type": "code",
   "execution_count": 13,
   "metadata": {},
   "outputs": [
    {
     "data": {
      "image/png": "[encoded data removed]",
      "text/plain": [
       "<Figure size 432x288 with 1 Axes>"
      ]
     },
     "metadata": {
      "needs_background": "light"
     },
     "output_type": "display_data"
    }
   ],
   "source": [
    "x, y = fit_gaussian_pdf(mean,std)\n",
    "\n",
    "# Plot Histogram\n",
    "normalization_kwargs = {'stacked':True, 'density':True}\n",
    "ax = returns.plot(kind='hist', **normalization_kwargs, bins=500)\n",
    "\n",
    "ax.plot(x, y)\n",
    "ax.set(xlabel='x', ylabel='pdf(x)',\n",
    "       title='Normal Distribution PDF')\n",
    "#ax.grid()\n",
    "plt.show()"
   ]
  },
  {
   "cell_type": "markdown",
   "metadata": {},
   "source": [
    "### Explore tail data\n",
    "* Examine the tail for power law behaviour"
   ]
  },
  {
   "cell_type": "code",
   "execution_count": 14,
   "metadata": {},
   "outputs": [],
   "source": [
    "# Make a 12 bin histogram\n",
    "bins=12"
   ]
  },
  {
   "cell_type": "code",
   "execution_count": 15,
   "metadata": {},
   "outputs": [],
   "source": [
    "# Get Probabilities\n",
    "freq, bin_edges = np.histogram(returns, bins=bins)\n",
    "prob, bin_edges = np.histogram(returns, bins=bins, density=True)\n",
    "\n",
    "width = (bin_edges[1] - bin_edges[0])\n",
    "center = (bin_edges[:-1] + bin_edges[1:]) / 2"
   ]
  },
  {
   "cell_type": "code",
   "execution_count": 16,
   "metadata": {},
   "outputs": [],
   "source": [
    "dozen_hist = pd.DataFrame([freq,center], index=['freq', 'bin_center']).T\n",
    "dozen_hist.bin_center = dozen_hist.bin_center.round(2)\n",
    "dozen_hist.index.name = 'bin_number'"
   ]
  },
  {
   "cell_type": "code",
   "execution_count": 17,
   "metadata": {},
   "outputs": [
    {
     "data": {
      "text/html": [
       "<div>\n",
       "<style scoped>\n",
       "    .dataframe tbody tr th:only-of-type {\n",
       "        vertical-align: middle;\n",
       "    }\n",
       "\n",
       "    .dataframe tbody tr th {\n",
       "        vertical-align: top;\n",
       "    }\n",
       "\n",
       "    .dataframe thead th {\n",
       "        text-align: right;\n",
       "    }\n",
       "</style>\n",
       "<table border=\"1\" class=\"dataframe\">\n",
       "  <thead>\n",
       "    <tr style=\"text-align: right;\">\n",
       "      <th>bin_number</th>\n",
       "      <th>0</th>\n",
       "      <th>1</th>\n",
       "      <th>2</th>\n",
       "      <th>3</th>\n",
       "      <th>4</th>\n",
       "      <th>5</th>\n",
       "      <th>6</th>\n",
       "      <th>7</th>\n",
       "      <th>8</th>\n",
       "      <th>9</th>\n",
       "      <th>10</th>\n",
       "      <th>11</th>\n",
       "    </tr>\n",
       "  </thead>\n",
       "  <tbody>\n",
       "    <tr>\n",
       "      <th>freq</th>\n",
       "      <td>3.00</td>\n",
       "      <td>10.00</td>\n",
       "      <td>2765.00</td>\n",
       "      <td>1975.00</td>\n",
       "      <td>14.00</td>\n",
       "      <td>1.00</td>\n",
       "      <td>2.00</td>\n",
       "      <td>0.00</td>\n",
       "      <td>0.00</td>\n",
       "      <td>1.00</td>\n",
       "      <td>0.00</td>\n",
       "      <td>1.00</td>\n",
       "    </tr>\n",
       "    <tr>\n",
       "      <th>bin_center</th>\n",
       "      <td>-0.37</td>\n",
       "      <td>-0.22</td>\n",
       "      <td>-0.07</td>\n",
       "      <td>0.08</td>\n",
       "      <td>0.23</td>\n",
       "      <td>0.38</td>\n",
       "      <td>0.53</td>\n",
       "      <td>0.68</td>\n",
       "      <td>0.83</td>\n",
       "      <td>0.98</td>\n",
       "      <td>1.12</td>\n",
       "      <td>1.27</td>\n",
       "    </tr>\n",
       "  </tbody>\n",
       "</table>\n",
       "</div>"
      ],
      "text/plain": [
       "bin_number     0      1        2        3      4     5     6     7     8  \\\n",
       "freq        3.00  10.00  2765.00  1975.00  14.00  1.00  2.00  0.00  0.00   \n",
       "bin_center -0.37  -0.22    -0.07     0.08   0.23  0.38  0.53  0.68  0.83   \n",
       "\n",
       "bin_number     9    10    11  \n",
       "freq        1.00  0.00  1.00  \n",
       "bin_center  0.98  1.12  1.27  "
      ]
     },
     "execution_count": 17,
     "metadata": {},
     "output_type": "execute_result"
    }
   ],
   "source": [
    "dozen_hist.T"
   ]
  }
 ],
 "metadata": {
  "kernelspec": {
   "display_name": "Python 3",
   "language": "python",
   "name": "python3"
  },
  "language_info": {
   "codemirror_mode": {
    "name": "ipython",
    "version": 3
   },
   "file_extension": ".py",
   "mimetype": "text/x-python",
   "name": "python",
   "nbconvert_exporter": "python",
   "pygments_lexer": "ipython3",
   "version": "3.7.6"
  }
 },
 "nbformat": 4,
 "nbformat_minor": 4
}
