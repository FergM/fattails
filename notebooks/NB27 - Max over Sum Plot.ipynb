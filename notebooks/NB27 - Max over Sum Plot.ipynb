{
 "cells": [
  {
   "cell_type": "markdown",
   "metadata": {},
   "source": [
    "# About\n",
    "Roughwork for an MS plot function. (Max divided by sum).\n",
    "\n",
    "See end of this notebook for the main workings."
   ]
  },
  {
   "cell_type": "code",
   "execution_count": 1,
   "metadata": {},
   "outputs": [],
   "source": [
    "import sys; sys.path.insert(0, '../')"
   ]
  },
  {
   "cell_type": "code",
   "execution_count": 2,
   "metadata": {},
   "outputs": [],
   "source": [
    "import pandas as pd\n",
    "import numpy as np\n",
    "\n",
    "import fattails.metrics as fattails"
   ]
  },
  {
   "cell_type": "markdown",
   "metadata": {},
   "source": [
    "# Setup"
   ]
  },
  {
   "cell_type": "markdown",
   "metadata": {},
   "source": [
    "##### Load Data"
   ]
  },
  {
   "cell_type": "code",
   "execution_count": 3,
   "metadata": {},
   "outputs": [
    {
     "data": {
      "text/html": [
       "<div>\n",
       "<style scoped>\n",
       "    .dataframe tbody tr th:only-of-type {\n",
       "        vertical-align: middle;\n",
       "    }\n",
       "\n",
       "    .dataframe tbody tr th {\n",
       "        vertical-align: top;\n",
       "    }\n",
       "\n",
       "    .dataframe thead th {\n",
       "        text-align: right;\n",
       "    }\n",
       "</style>\n",
       "<table border=\"1\" class=\"dataframe\">\n",
       "  <thead>\n",
       "    <tr style=\"text-align: right;\">\n",
       "      <th></th>\n",
       "      <th>Open</th>\n",
       "      <th>High</th>\n",
       "      <th>Low</th>\n",
       "      <th>Close</th>\n",
       "      <th>Adj Close</th>\n",
       "      <th>Volume</th>\n",
       "    </tr>\n",
       "    <tr>\n",
       "      <th>Date</th>\n",
       "      <th></th>\n",
       "      <th></th>\n",
       "      <th></th>\n",
       "      <th></th>\n",
       "      <th></th>\n",
       "      <th></th>\n",
       "    </tr>\n",
       "  </thead>\n",
       "  <tbody>\n",
       "    <tr>\n",
       "      <th>1960-01-04</th>\n",
       "      <td>59.910000</td>\n",
       "      <td>59.910000</td>\n",
       "      <td>59.910000</td>\n",
       "      <td>59.910000</td>\n",
       "      <td>59.910000</td>\n",
       "      <td>3990000</td>\n",
       "    </tr>\n",
       "    <tr>\n",
       "      <th>1960-01-05</th>\n",
       "      <td>60.389999</td>\n",
       "      <td>60.389999</td>\n",
       "      <td>60.389999</td>\n",
       "      <td>60.389999</td>\n",
       "      <td>60.389999</td>\n",
       "      <td>3710000</td>\n",
       "    </tr>\n",
       "    <tr>\n",
       "      <th>1960-01-06</th>\n",
       "      <td>60.130001</td>\n",
       "      <td>60.130001</td>\n",
       "      <td>60.130001</td>\n",
       "      <td>60.130001</td>\n",
       "      <td>60.130001</td>\n",
       "      <td>3730000</td>\n",
       "    </tr>\n",
       "    <tr>\n",
       "      <th>1960-01-07</th>\n",
       "      <td>59.689999</td>\n",
       "      <td>59.689999</td>\n",
       "      <td>59.689999</td>\n",
       "      <td>59.689999</td>\n",
       "      <td>59.689999</td>\n",
       "      <td>3310000</td>\n",
       "    </tr>\n",
       "    <tr>\n",
       "      <th>1960-01-08</th>\n",
       "      <td>59.500000</td>\n",
       "      <td>59.500000</td>\n",
       "      <td>59.500000</td>\n",
       "      <td>59.500000</td>\n",
       "      <td>59.500000</td>\n",
       "      <td>3290000</td>\n",
       "    </tr>\n",
       "  </tbody>\n",
       "</table>\n",
       "</div>"
      ],
      "text/plain": [
       "                 Open       High        Low      Close  Adj Close   Volume\n",
       "Date                                                                      \n",
       "1960-01-04  59.910000  59.910000  59.910000  59.910000  59.910000  3990000\n",
       "1960-01-05  60.389999  60.389999  60.389999  60.389999  60.389999  3710000\n",
       "1960-01-06  60.130001  60.130001  60.130001  60.130001  60.130001  3730000\n",
       "1960-01-07  59.689999  59.689999  59.689999  59.689999  59.689999  3310000\n",
       "1960-01-08  59.500000  59.500000  59.500000  59.500000  59.500000  3290000"
      ]
     },
     "execution_count": 3,
     "metadata": {},
     "output_type": "execute_result"
    }
   ],
   "source": [
    "data_source = 'https://query1.finance.yahoo.com/v7/finance/download/%5EGSPC?period1=-315619200&period2=1577836800&interval=1d&events=history&includeAdjustedClose=true'\n",
    "\n",
    "price_data = pd.read_csv(data_source)\n",
    "price_data = price_data.set_index('Date')\n",
    "price_data.head()"
   ]
  },
  {
   "cell_type": "markdown",
   "metadata": {},
   "source": [
    "##### Calculate Returns"
   ]
  },
  {
   "cell_type": "code",
   "execution_count": 4,
   "metadata": {},
   "outputs": [
    {
     "data": {
      "text/html": [
       "<div>\n",
       "<style scoped>\n",
       "    .dataframe tbody tr th:only-of-type {\n",
       "        vertical-align: middle;\n",
       "    }\n",
       "\n",
       "    .dataframe tbody tr th {\n",
       "        vertical-align: top;\n",
       "    }\n",
       "\n",
       "    .dataframe thead th {\n",
       "        text-align: right;\n",
       "    }\n",
       "</style>\n",
       "<table border=\"1\" class=\"dataframe\">\n",
       "  <thead>\n",
       "    <tr style=\"text-align: right;\">\n",
       "      <th></th>\n",
       "      <th>daily_return</th>\n",
       "    </tr>\n",
       "    <tr>\n",
       "      <th>Date</th>\n",
       "      <th></th>\n",
       "    </tr>\n",
       "  </thead>\n",
       "  <tbody>\n",
       "    <tr>\n",
       "      <th>1960-01-04</th>\n",
       "      <td>NaN</td>\n",
       "    </tr>\n",
       "    <tr>\n",
       "      <th>1960-01-05</th>\n",
       "      <td>0.008012</td>\n",
       "    </tr>\n",
       "    <tr>\n",
       "      <th>1960-01-06</th>\n",
       "      <td>-0.004305</td>\n",
       "    </tr>\n",
       "    <tr>\n",
       "      <th>1960-01-07</th>\n",
       "      <td>-0.007318</td>\n",
       "    </tr>\n",
       "    <tr>\n",
       "      <th>1960-01-08</th>\n",
       "      <td>-0.003183</td>\n",
       "    </tr>\n",
       "    <tr>\n",
       "      <th>...</th>\n",
       "      <td>...</td>\n",
       "    </tr>\n",
       "    <tr>\n",
       "      <th>2019-12-24</th>\n",
       "      <td>-0.000195</td>\n",
       "    </tr>\n",
       "    <tr>\n",
       "      <th>2019-12-26</th>\n",
       "      <td>0.005128</td>\n",
       "    </tr>\n",
       "    <tr>\n",
       "      <th>2019-12-27</th>\n",
       "      <td>0.000034</td>\n",
       "    </tr>\n",
       "    <tr>\n",
       "      <th>2019-12-30</th>\n",
       "      <td>-0.005781</td>\n",
       "    </tr>\n",
       "    <tr>\n",
       "      <th>2019-12-31</th>\n",
       "      <td>0.002946</td>\n",
       "    </tr>\n",
       "  </tbody>\n",
       "</table>\n",
       "<p>15102 rows × 1 columns</p>\n",
       "</div>"
      ],
      "text/plain": [
       "            daily_return\n",
       "Date                    \n",
       "1960-01-04           NaN\n",
       "1960-01-05      0.008012\n",
       "1960-01-06     -0.004305\n",
       "1960-01-07     -0.007318\n",
       "1960-01-08     -0.003183\n",
       "...                  ...\n",
       "2019-12-24     -0.000195\n",
       "2019-12-26      0.005128\n",
       "2019-12-27      0.000034\n",
       "2019-12-30     -0.005781\n",
       "2019-12-31      0.002946\n",
       "\n",
       "[15102 rows x 1 columns]"
      ]
     },
     "execution_count": 4,
     "metadata": {},
     "output_type": "execute_result"
    }
   ],
   "source": [
    "close_price = price_data.Close\n",
    "previous_close_price = price_data.Close\n",
    "\n",
    "daily_return = close_price / previous_close_price.shift(1) - 1\n",
    "\n",
    "# Format as a DataFrame\n",
    "df = daily_return.to_frame('daily_return') \n",
    "df"
   ]
  },
  {
   "cell_type": "code",
   "execution_count": 5,
   "metadata": {},
   "outputs": [],
   "source": [
    "# Remove NaN value\n",
    "assert df.daily_return.isna().sum() == 1 # The first day has no prior day so return is NaN\n",
    "df.dropna(inplace=True)"
   ]
  },
  {
   "cell_type": "markdown",
   "metadata": {},
   "source": [
    "# 2. Check for Power Law\n",
    "Check the right tail for Power Law behaviour.\n",
    "\n",
    "Power laws are straight on loglog plots. We'll plot the empirical right tail and check for this behaviour."
   ]
  },
  {
   "cell_type": "code",
   "execution_count": 6,
   "metadata": {},
   "outputs": [
    {
     "data": {
      "text/html": [
       "<div>\n",
       "<style scoped>\n",
       "    .dataframe tbody tr th:only-of-type {\n",
       "        vertical-align: middle;\n",
       "    }\n",
       "\n",
       "    .dataframe tbody tr th {\n",
       "        vertical-align: top;\n",
       "    }\n",
       "\n",
       "    .dataframe thead th {\n",
       "        text-align: right;\n",
       "    }\n",
       "</style>\n",
       "<table border=\"1\" class=\"dataframe\">\n",
       "  <thead>\n",
       "    <tr style=\"text-align: right;\">\n",
       "      <th></th>\n",
       "      <th>daily_return</th>\n",
       "      <th>survival_probability</th>\n",
       "    </tr>\n",
       "    <tr>\n",
       "      <th>Date</th>\n",
       "      <th></th>\n",
       "      <th></th>\n",
       "    </tr>\n",
       "  </thead>\n",
       "  <tbody>\n",
       "    <tr>\n",
       "      <th>1960-01-05</th>\n",
       "      <td>0.008012</td>\n",
       "      <td>0.152364</td>\n",
       "    </tr>\n",
       "    <tr>\n",
       "      <th>1960-01-06</th>\n",
       "      <td>-0.004305</td>\n",
       "      <td>0.753940</td>\n",
       "    </tr>\n",
       "    <tr>\n",
       "      <th>1960-01-07</th>\n",
       "      <td>-0.007318</td>\n",
       "      <td>0.843862</td>\n",
       "    </tr>\n",
       "    <tr>\n",
       "      <th>1960-01-08</th>\n",
       "      <td>-0.003183</td>\n",
       "      <td>0.708251</td>\n",
       "    </tr>\n",
       "    <tr>\n",
       "      <th>1960-01-11</th>\n",
       "      <td>-0.012269</td>\n",
       "      <td>0.925771</td>\n",
       "    </tr>\n",
       "    <tr>\n",
       "      <th>...</th>\n",
       "      <td>...</td>\n",
       "      <td>...</td>\n",
       "    </tr>\n",
       "    <tr>\n",
       "      <th>2019-12-24</th>\n",
       "      <td>-0.000195</td>\n",
       "      <td>0.541716</td>\n",
       "    </tr>\n",
       "    <tr>\n",
       "      <th>2019-12-26</th>\n",
       "      <td>0.005128</td>\n",
       "      <td>0.246259</td>\n",
       "    </tr>\n",
       "    <tr>\n",
       "      <th>2019-12-27</th>\n",
       "      <td>0.000034</td>\n",
       "      <td>0.526619</td>\n",
       "    </tr>\n",
       "    <tr>\n",
       "      <th>2019-12-30</th>\n",
       "      <td>-0.005781</td>\n",
       "      <td>0.802543</td>\n",
       "    </tr>\n",
       "    <tr>\n",
       "      <th>2019-12-31</th>\n",
       "      <td>0.002946</td>\n",
       "      <td>0.347967</td>\n",
       "    </tr>\n",
       "  </tbody>\n",
       "</table>\n",
       "<p>15101 rows × 2 columns</p>\n",
       "</div>"
      ],
      "text/plain": [
       "            daily_return  survival_probability\n",
       "Date                                          \n",
       "1960-01-05      0.008012              0.152364\n",
       "1960-01-06     -0.004305              0.753940\n",
       "1960-01-07     -0.007318              0.843862\n",
       "1960-01-08     -0.003183              0.708251\n",
       "1960-01-11     -0.012269              0.925771\n",
       "...                  ...                   ...\n",
       "2019-12-24     -0.000195              0.541716\n",
       "2019-12-26      0.005128              0.246259\n",
       "2019-12-27      0.000034              0.526619\n",
       "2019-12-30     -0.005781              0.802543\n",
       "2019-12-31      0.002946              0.347967\n",
       "\n",
       "[15101 rows x 2 columns]"
      ]
     },
     "execution_count": 6,
     "metadata": {},
     "output_type": "execute_result"
    }
   ],
   "source": [
    "# Calculate survival probability for each datapoint\n",
    "df['survival_probability'] = fattails.get_survival_probability(df.daily_return)\n",
    "#df = df.sort_values(by='daily_return') # show sorted values\n",
    "df"
   ]
  },
  {
   "cell_type": "code",
   "execution_count": 7,
   "metadata": {},
   "outputs": [
    {
     "data": {
      "image/png": "[encoded data removed]",
      "text/plain": [
       "<Figure size 432x288 with 1 Axes>"
      ]
     },
     "metadata": {
      "needs_background": "light"
     },
     "output_type": "display_data"
    }
   ],
   "source": [
    "# Plot the Right Tail\n",
    "selection = df.survival_probability < 0.33 # select top 33% of datapoints\n",
    "\n",
    "right_tail = df.loc[selection]\n",
    "\n",
    "right_tail.plot(x='daily_return', y='survival_probability',\n",
    "                xlabel='Daily Return', ylabel='Probability of >= X', title='SP500 Daily Returns',\n",
    "                s = 1.5**2,\n",
    "                kind='scatter', loglog=True); # xlabel argument requires pandas >= 1.2.0"
   ]
  },
  {
   "cell_type": "code",
   "execution_count": 8,
   "metadata": {},
   "outputs": [
    {
     "data": {
      "text/plain": [
       "Date\n",
       "1960-01-05    0.008012\n",
       "1960-01-06   -0.004305\n",
       "1960-01-07   -0.007318\n",
       "1960-01-08   -0.003183\n",
       "1960-01-11   -0.012269\n",
       "                ...   \n",
       "2019-12-24   -0.000195\n",
       "2019-12-26    0.005128\n",
       "2019-12-27    0.000034\n",
       "2019-12-30   -0.005781\n",
       "2019-12-31    0.002946\n",
       "Name: daily_return, Length: 15101, dtype: float64"
      ]
     },
     "execution_count": 8,
     "metadata": {},
     "output_type": "execute_result"
    }
   ],
   "source": [
    "sr = df.daily_return\n",
    "sr"
   ]
  },
  {
   "cell_type": "code",
   "execution_count": 9,
   "metadata": {},
   "outputs": [
    {
     "data": {
      "text/plain": [
       "<AxesSubplot:xlabel='Date'>"
      ]
     },
     "execution_count": 9,
     "metadata": {},
     "output_type": "execute_result"
    },
    {
     "data": {
      "image/png": "[encoded data removed]",
      "text/plain": [
       "<Figure size 1080x360 with 1 Axes>"
      ]
     },
     "metadata": {
      "needs_background": "light"
     },
     "output_type": "display_data"
    }
   ],
   "source": [
    "sr.plot(figsize=[15,5])"
   ]
  },
  {
   "cell_type": "code",
   "execution_count": 20,
   "metadata": {},
   "outputs": [],
   "source": [
    "def calculate_moments(data, moments=[1,2,3,4], absolute_values=True):\n",
    "    \"\"\"Create dataframe with a column for each moment.\n",
    "\n",
    "    Parameters\n",
    "    ----------\n",
    "    data : array-like\n",
    "        Numeric values whose moments you want to calculate.\n",
    "        Must be 1-dimensional\n",
    "    \n",
    "    moments : list-like of numbers\n",
    "        Each moment has its own column in the output.\n",
    "\n",
    "    absolute_values : , default True\n",
    "    \n",
    "    \n",
    "    Returns\n",
    "    -------\n",
    "    moments_df : DataFrame\n",
    "        Elementwise evaluation of x**p for each x in data and p in moments\n",
    "        Number of rows = len(data)\n",
    "        Number of columns = len(moments)        \n",
    "    \"\"\"\n",
    "    \n",
    "    # FORMAT THE INPUT\n",
    "    sr = pd.Series(data)\n",
    "    if absolute_values:\n",
    "        # Take absolute values (this matters for odd moments)\n",
    "        sr = sr.abs()\n",
    "\n",
    "    # CALCULATE MOMENTS\n",
    "    df = pd.DataFrame()\n",
    "    ## Add columns with the moments for each datapoint\n",
    "    for moment in moments:\n",
    "        df[f'moment_{moment}']  = sr**moment\n",
    "    \n",
    "    return df"
   ]
  },
  {
   "cell_type": "code",
   "execution_count": 51,
   "metadata": {},
   "outputs": [],
   "source": [
    "def max_over_sum(data):\n",
    "    \"\"\"Calculate cumulative max over sum\n",
    "    \n",
    "    Parameters\n",
    "    ----------\n",
    "    data : array-like\n",
    "        Numeric values whose moments you want to calculate.\n",
    "        Must be 1-dimensional\n",
    "\n",
    "    Returns\n",
    "    -------\n",
    "    max_over_sum : Series\n",
    "        Series with cumulative maximum divided by cumulative sum.\n",
    "        Cumulative sample size is assigned as the series' index.   \n",
    "    \"\"\"\n",
    "    sr = pd.Series(data)\n",
    "    \n",
    "    # Replace index with Cumulative Sample Size\n",
    "    sr.reset_index(drop=True, inplace=True)\n",
    "    sr.index += 1\n",
    "    sr.index.rename('cumulative_sample_size', inplace=True)\n",
    "\n",
    "    # Calculate\n",
    "    max_over_sum = sr.cummax()/sr.cumsum()\n",
    "\n",
    "    return max_over_sum"
   ]
  },
  {
   "cell_type": "code",
   "execution_count": 52,
   "metadata": {},
   "outputs": [],
   "source": [
    "a = pd.Series(range(1,10+1), name='num')"
   ]
  },
  {
   "cell_type": "code",
   "execution_count": 53,
   "metadata": {},
   "outputs": [
    {
     "data": {
      "text/html": [
       "<div>\n",
       "<style scoped>\n",
       "    .dataframe tbody tr th:only-of-type {\n",
       "        vertical-align: middle;\n",
       "    }\n",
       "\n",
       "    .dataframe tbody tr th {\n",
       "        vertical-align: top;\n",
       "    }\n",
       "\n",
       "    .dataframe thead th {\n",
       "        text-align: right;\n",
       "    }\n",
       "</style>\n",
       "<table border=\"1\" class=\"dataframe\">\n",
       "  <thead>\n",
       "    <tr style=\"text-align: right;\">\n",
       "      <th></th>\n",
       "      <th>moment_1</th>\n",
       "      <th>moment_2</th>\n",
       "      <th>moment_3</th>\n",
       "      <th>moment_4</th>\n",
       "    </tr>\n",
       "  </thead>\n",
       "  <tbody>\n",
       "    <tr>\n",
       "      <th>0</th>\n",
       "      <td>1</td>\n",
       "      <td>1</td>\n",
       "      <td>1</td>\n",
       "      <td>1</td>\n",
       "    </tr>\n",
       "    <tr>\n",
       "      <th>1</th>\n",
       "      <td>2</td>\n",
       "      <td>4</td>\n",
       "      <td>8</td>\n",
       "      <td>16</td>\n",
       "    </tr>\n",
       "    <tr>\n",
       "      <th>2</th>\n",
       "      <td>3</td>\n",
       "      <td>9</td>\n",
       "      <td>27</td>\n",
       "      <td>81</td>\n",
       "    </tr>\n",
       "    <tr>\n",
       "      <th>3</th>\n",
       "      <td>4</td>\n",
       "      <td>16</td>\n",
       "      <td>64</td>\n",
       "      <td>256</td>\n",
       "    </tr>\n",
       "    <tr>\n",
       "      <th>4</th>\n",
       "      <td>5</td>\n",
       "      <td>25</td>\n",
       "      <td>125</td>\n",
       "      <td>625</td>\n",
       "    </tr>\n",
       "    <tr>\n",
       "      <th>5</th>\n",
       "      <td>6</td>\n",
       "      <td>36</td>\n",
       "      <td>216</td>\n",
       "      <td>1296</td>\n",
       "    </tr>\n",
       "    <tr>\n",
       "      <th>6</th>\n",
       "      <td>7</td>\n",
       "      <td>49</td>\n",
       "      <td>343</td>\n",
       "      <td>2401</td>\n",
       "    </tr>\n",
       "    <tr>\n",
       "      <th>7</th>\n",
       "      <td>8</td>\n",
       "      <td>64</td>\n",
       "      <td>512</td>\n",
       "      <td>4096</td>\n",
       "    </tr>\n",
       "    <tr>\n",
       "      <th>8</th>\n",
       "      <td>9</td>\n",
       "      <td>81</td>\n",
       "      <td>729</td>\n",
       "      <td>6561</td>\n",
       "    </tr>\n",
       "    <tr>\n",
       "      <th>9</th>\n",
       "      <td>10</td>\n",
       "      <td>100</td>\n",
       "      <td>1000</td>\n",
       "      <td>10000</td>\n",
       "    </tr>\n",
       "  </tbody>\n",
       "</table>\n",
       "</div>"
      ],
      "text/plain": [
       "   moment_1  moment_2  moment_3  moment_4\n",
       "0         1         1         1         1\n",
       "1         2         4         8        16\n",
       "2         3         9        27        81\n",
       "3         4        16        64       256\n",
       "4         5        25       125       625\n",
       "5         6        36       216      1296\n",
       "6         7        49       343      2401\n",
       "7         8        64       512      4096\n",
       "8         9        81       729      6561\n",
       "9        10       100      1000     10000"
      ]
     },
     "execution_count": 53,
     "metadata": {},
     "output_type": "execute_result"
    }
   ],
   "source": [
    "moments_df = calculate_moments(a)\n",
    "moments_df"
   ]
  },
  {
   "cell_type": "code",
   "execution_count": 57,
   "metadata": {},
   "outputs": [
    {
     "data": {
      "text/html": [
       "<div>\n",
       "<style scoped>\n",
       "    .dataframe tbody tr th:only-of-type {\n",
       "        vertical-align: middle;\n",
       "    }\n",
       "\n",
       "    .dataframe tbody tr th {\n",
       "        vertical-align: top;\n",
       "    }\n",
       "\n",
       "    .dataframe thead th {\n",
       "        text-align: right;\n",
       "    }\n",
       "</style>\n",
       "<table border=\"1\" class=\"dataframe\">\n",
       "  <thead>\n",
       "    <tr style=\"text-align: right;\">\n",
       "      <th></th>\n",
       "      <th>moment_1</th>\n",
       "      <th>moment_2</th>\n",
       "      <th>moment_3</th>\n",
       "      <th>moment_4</th>\n",
       "    </tr>\n",
       "    <tr>\n",
       "      <th>cumulative_sample_size</th>\n",
       "      <th></th>\n",
       "      <th></th>\n",
       "      <th></th>\n",
       "      <th></th>\n",
       "    </tr>\n",
       "  </thead>\n",
       "  <tbody>\n",
       "    <tr>\n",
       "      <th>1</th>\n",
       "      <td>1.000000</td>\n",
       "      <td>1.000000</td>\n",
       "      <td>1.000000</td>\n",
       "      <td>1.000000</td>\n",
       "    </tr>\n",
       "    <tr>\n",
       "      <th>2</th>\n",
       "      <td>0.666667</td>\n",
       "      <td>0.800000</td>\n",
       "      <td>0.888889</td>\n",
       "      <td>0.941176</td>\n",
       "    </tr>\n",
       "    <tr>\n",
       "      <th>3</th>\n",
       "      <td>0.500000</td>\n",
       "      <td>0.642857</td>\n",
       "      <td>0.750000</td>\n",
       "      <td>0.826531</td>\n",
       "    </tr>\n",
       "    <tr>\n",
       "      <th>4</th>\n",
       "      <td>0.400000</td>\n",
       "      <td>0.533333</td>\n",
       "      <td>0.640000</td>\n",
       "      <td>0.723164</td>\n",
       "    </tr>\n",
       "    <tr>\n",
       "      <th>5</th>\n",
       "      <td>0.333333</td>\n",
       "      <td>0.454545</td>\n",
       "      <td>0.555556</td>\n",
       "      <td>0.638407</td>\n",
       "    </tr>\n",
       "    <tr>\n",
       "      <th>6</th>\n",
       "      <td>0.285714</td>\n",
       "      <td>0.395604</td>\n",
       "      <td>0.489796</td>\n",
       "      <td>0.569670</td>\n",
       "    </tr>\n",
       "    <tr>\n",
       "      <th>7</th>\n",
       "      <td>0.250000</td>\n",
       "      <td>0.350000</td>\n",
       "      <td>0.437500</td>\n",
       "      <td>0.513473</td>\n",
       "    </tr>\n",
       "    <tr>\n",
       "      <th>8</th>\n",
       "      <td>0.222222</td>\n",
       "      <td>0.313725</td>\n",
       "      <td>0.395062</td>\n",
       "      <td>0.466940</td>\n",
       "    </tr>\n",
       "    <tr>\n",
       "      <th>9</th>\n",
       "      <td>0.200000</td>\n",
       "      <td>0.284211</td>\n",
       "      <td>0.360000</td>\n",
       "      <td>0.427901</td>\n",
       "    </tr>\n",
       "    <tr>\n",
       "      <th>10</th>\n",
       "      <td>0.181818</td>\n",
       "      <td>0.259740</td>\n",
       "      <td>0.330579</td>\n",
       "      <td>0.394742</td>\n",
       "    </tr>\n",
       "  </tbody>\n",
       "</table>\n",
       "</div>"
      ],
      "text/plain": [
       "                        moment_1  moment_2  moment_3  moment_4\n",
       "cumulative_sample_size                                        \n",
       "1                       1.000000  1.000000  1.000000  1.000000\n",
       "2                       0.666667  0.800000  0.888889  0.941176\n",
       "3                       0.500000  0.642857  0.750000  0.826531\n",
       "4                       0.400000  0.533333  0.640000  0.723164\n",
       "5                       0.333333  0.454545  0.555556  0.638407\n",
       "6                       0.285714  0.395604  0.489796  0.569670\n",
       "7                       0.250000  0.350000  0.437500  0.513473\n",
       "8                       0.222222  0.313725  0.395062  0.466940\n",
       "9                       0.200000  0.284211  0.360000  0.427901\n",
       "10                      0.181818  0.259740  0.330579  0.394742"
      ]
     },
     "execution_count": 57,
     "metadata": {},
     "output_type": "execute_result"
    }
   ],
   "source": [
    "max_over_sum_df = moments_df.apply(max_over_sum)\n",
    "max_over_sum_df"
   ]
  },
  {
   "cell_type": "code",
   "execution_count": 61,
   "metadata": {},
   "outputs": [
    {
     "data": {
      "image/png": "[encoded data removed]",
      "text/plain": [
       "<Figure size 432x288 with 1 Axes>"
      ]
     },
     "metadata": {
      "needs_background": "light"
     },
     "output_type": "display_data"
    }
   ],
   "source": [
    "max_over_sum_df.plot();#subplots=True);"
   ]
  }
 ],
 "metadata": {
  "kernelspec": {
   "display_name": "fattails",
   "language": "python",
   "name": "fattails"
  },
  "language_info": {
   "codemirror_mode": {
    "name": "ipython",
    "version": 3
   },
   "file_extension": ".py",
   "mimetype": "text/x-python",
   "name": "python",
   "nbconvert_exporter": "python",
   "pygments_lexer": "ipython3",
   "version": "3.8.5"
  },
  "widgets": {
   "application/vnd.jupyter.widget-state+json": {
    "state": {},
    "version_major": 2,
    "version_minor": 0
   }
  }
 },
 "nbformat": 4,
 "nbformat_minor": 4
}
